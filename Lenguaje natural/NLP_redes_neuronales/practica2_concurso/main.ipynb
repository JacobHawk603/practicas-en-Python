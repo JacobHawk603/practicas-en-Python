{
 "cells": [
  {
   "cell_type": "markdown",
   "metadata": {},
   "source": [
    "# Concurso de clasificacion de noticias verdaderas y falsas"
   ]
  },
  {
   "cell_type": "code",
   "execution_count": 1,
   "metadata": {},
   "outputs": [],
   "source": [
    "import pandas as pd\n",
    "import numpy as np"
   ]
  },
  {
   "cell_type": "markdown",
   "metadata": {},
   "source": [
    "# importamos los datasets"
   ]
  },
  {
   "cell_type": "code",
   "execution_count": 2,
   "metadata": {},
   "outputs": [],
   "source": [
    "train_es = pd.read_csv(\"src/Train-ES.csv\")\n",
    "test_es = pd.read_csv(\"src/Test-ES-nolabels.csv\")\n",
    "train_en = pd.read_csv(\"src/Train-EN.csv\")\n",
    "test_en = pd.read_csv(\"src/Test-EN-nolabels.csv\")"
   ]
  },
  {
   "cell_type": "markdown",
   "metadata": {},
   "source": [
    "# realizamos el preprocesamiento"
   ]
  },
  {
   "cell_type": "code",
   "execution_count": 3,
   "metadata": {},
   "outputs": [],
   "source": [
    "# from src.text_processing import text_preprocessing"
   ]
  },
  {
   "cell_type": "code",
   "execution_count": 4,
   "metadata": {},
   "outputs": [
    {
     "name": "stdout",
     "output_type": "stream",
     "text": [
      "       Unnamed: 0                                id   \n",
      "0               0  af1c4ffa161c690486b68b817e1061a1  \\\n",
      "1               1  af1c4ffa161c690486b68b817e1061a1   \n",
      "2               2  af1c4ffa161c690486b68b817e1061a1   \n",
      "3               3  af1c4ffa161c690486b68b817e1061a1   \n",
      "4               4  af1c4ffa161c690486b68b817e1061a1   \n",
      "...           ...                               ...   \n",
      "29995       29995  8c00ed6eec52f5d5054fe5668be68088   \n",
      "29996       29996  8c00ed6eec52f5d5054fe5668be68088   \n",
      "29997       29997  8c00ed6eec52f5d5054fe5668be68088   \n",
      "29998       29998  8c00ed6eec52f5d5054fe5668be68088   \n",
      "29999       29999  8c00ed6eec52f5d5054fe5668be68088   \n",
      "\n",
      "                                                   tweet  label  \n",
      "0      10 errores que las mujeres cometen en la prime...      1  \n",
      "1      Increíble mascarilla borra las manchas como si...      1  \n",
      "2      5 EJERCICIOS CON SILLA, fáciles, prácticos y r...      1  \n",
      "3      Huevo Hervido…. Así Se Prepara ESTE Excelente ...      1  \n",
      "4      ¿El tipo más Rallado en este mundo que tal te ...      1  \n",
      "...                                                  ...    ...  \n",
      "29995  Los gatos Munchin, la raza de gatos que no cre...      1  \n",
      "29996  Así lo hacen más de uno para falsear los preci...      1  \n",
      "29997  Receta de Estofado de res con papas y zanahori...      1  \n",
      "29998                               Anoche a las 5 #URL#      1  \n",
      "29999                         Plaza de los luceros #URL#      1  \n",
      "\n",
      "[30000 rows x 4 columns]\n"
     ]
    }
   ],
   "source": [
    "print(train_es)"
   ]
  },
  {
   "cell_type": "code",
   "execution_count": 5,
   "metadata": {},
   "outputs": [
    {
     "name": "stdout",
     "output_type": "stream",
     "text": [
      "       Unnamed: 0                                id   \n",
      "0               0  66xfnef04078fl2cjtpl75lcoa3urlw5  \\\n",
      "1               1  66xfnef04078fl2cjtpl75lcoa3urlw5   \n",
      "2               2  66xfnef04078fl2cjtpl75lcoa3urlw5   \n",
      "3               3  66xfnef04078fl2cjtpl75lcoa3urlw5   \n",
      "4               4  66xfnef04078fl2cjtpl75lcoa3urlw5   \n",
      "...           ...                               ...   \n",
      "19995       19995  isvgo0osztr2wwh34nsoa6kntytl32k4   \n",
      "19996       19996  isvgo0osztr2wwh34nsoa6kntytl32k4   \n",
      "19997       19997  isvgo0osztr2wwh34nsoa6kntytl32k4   \n",
      "19998       19998  isvgo0osztr2wwh34nsoa6kntytl32k4   \n",
      "19999       19999  isvgo0osztr2wwh34nsoa6kntytl32k4   \n",
      "\n",
      "                                                   tweet  labels_predichos  \n",
      "0      \"Siding With Amazon, Judge Halts Work on Micro...                 1  \n",
      "1      Sounds of Berlin #HASHTAG# #URL# #HASHTAG# #HA...                 1  \n",
      "2      \"How to Take Control of Your Notifications\" by...                 1  \n",
      "3      Europeans Deserve to Have Their Governments Te...                 0  \n",
      "4      Operate: UKG, Speed Garage &amp; 2-Step #URL# ...                 0  \n",
      "...                                                  ...               ...  \n",
      "19995  Kevin Jonas Dishes On Special Holiday Plans Wi...                 0  \n",
      "19996  'The Voice' Season 15 Has Its Top 10: Who Made...                 0  \n",
      "19997  Ronnie Ortiz-Magro Apologizes to Jen Harley An...                 0  \n",
      "19998  Chrissy Teigen Claps Back At Troll Who Shamed ...                 0  \n",
      "19999  Kylie Jenner Releases Adorable New Snaps Of Ba...                 0  \n",
      "\n",
      "[20000 rows x 4 columns]\n"
     ]
    }
   ],
   "source": [
    "from random import randint\n",
    "\n",
    "# print(test_es)\n",
    "\n",
    "predicciones:list[int] = []\n",
    "\n",
    "for i in range(test_es.shape[0]):\n",
    "    predicciones.append(randint(0,1))\n",
    "\n",
    "predicciones_df = pd.DataFrame(predicciones, columns=[\"labels_predichos\"])\n",
    "\n",
    "test_es = pd.concat([test_es.drop(\"labels_predichos\", axis=1), predicciones_df], axis=1)\n",
    "\n",
    "print(test_es)"
   ]
  },
  {
   "cell_type": "code",
   "execution_count": 6,
   "metadata": {},
   "outputs": [],
   "source": [
    "test_es.to_csv(\"./src/outputs/test_es_predictions.csv\")"
   ]
  },
  {
   "cell_type": "code",
   "execution_count": 5,
   "metadata": {},
   "outputs": [],
   "source": [
    "prep_es = text_preprocessing.Preprocessing(\"spanish\")"
   ]
  },
  {
   "cell_type": "code",
   "execution_count": 6,
   "metadata": {},
   "outputs": [],
   "source": [
    "preprocesed_tweets:list[str] = prep_es.main_preprocess(data=train_es[\"tweet\"].values.tolist(), remove_stop_words=True, lemmatize=True, tweet=True)"
   ]
  },
  {
   "cell_type": "code",
   "execution_count": 7,
   "metadata": {},
   "outputs": [
    {
     "name": "stdout",
     "output_type": "stream",
     "text": [
      "['error mujer cometer primero cita url', 'increible mascarilla borrar mancha si magiar cicatriz acne arruga primero url', 'ejercicio sillo facil practico rapido hacer reducir grasa panza rapidamente url', 'huevo hervido asi preparar excelente remedio azucar alto sangre olvid hashtag url', 'tipo rallado mundo tal parecer url via user', 'proyecto estudiante volver viral dwayne johnson enviar mensaje twitter url', 'truco hombre enamorar perdidamente nunca fallar url', 'lunares rojo piel advertir salud comun persona a o url', 'saber o olvid hashtag url', 'quitar pesticida alimento formar facil barata sano olvid hashtag url']\n"
     ]
    }
   ],
   "source": [
    "print(preprocesed_tweets[:10])"
   ]
  },
  {
   "cell_type": "markdown",
   "metadata": {},
   "source": [
    "### Una vez preprocesado, podemos realizar una representación vectorial, y posteriormente, podemos meterlo a un clasificador"
   ]
  },
  {
   "cell_type": "code",
   "execution_count": 11,
   "metadata": {},
   "outputs": [
    {
     "ename": "KeyboardInterrupt",
     "evalue": "",
     "output_type": "error",
     "traceback": [
      "\u001b[0;31m---------------------------------------------------------------------------\u001b[0m",
      "\u001b[0;31mKeyboardInterrupt\u001b[0m                         Traceback (most recent call last)",
      "\u001b[1;32m/home/yerry/Documentos/github/practicas-en-Python/Lenguaje natural/NLP_redes_neuronales/practica2_concurso/main.ipynb Cell 12\u001b[0m line \u001b[0;36m1\n\u001b[1;32m      <a href='vscode-notebook-cell:/home/yerry/Documentos/github/practicas-en-Python/Lenguaje%20natural/NLP_redes_neuronales/practica2_concurso/main.ipynb#X14sZmlsZQ%3D%3D?line=7'>8</a>\u001b[0m df \u001b[39m=\u001b[39m pd\u001b[39m.\u001b[39mDataFrame\u001b[39m.\u001b[39msparse\u001b[39m.\u001b[39mfrom_spmatrix(X, columns\u001b[39m=\u001b[39mvectorizador_tfidf\u001b[39m.\u001b[39mget_feature_names_out())\n\u001b[1;32m     <a href='vscode-notebook-cell:/home/yerry/Documentos/github/practicas-en-Python/Lenguaje%20natural/NLP_redes_neuronales/practica2_concurso/main.ipynb#X14sZmlsZQ%3D%3D?line=9'>10</a>\u001b[0m \u001b[39m# print(df.sparse.to_dense())\u001b[39;00m\n\u001b[0;32m---> <a href='vscode-notebook-cell:/home/yerry/Documentos/github/practicas-en-Python/Lenguaje%20natural/NLP_redes_neuronales/practica2_concurso/main.ipynb#X14sZmlsZQ%3D%3D?line=10'>11</a>\u001b[0m df\u001b[39m.\u001b[39;49mto_csv(\u001b[39m\"\u001b[39;49m\u001b[39m./src/outputs/train_tfidf.csv\u001b[39;49m\u001b[39m\"\u001b[39;49m)\n\u001b[1;32m     <a href='vscode-notebook-cell:/home/yerry/Documentos/github/practicas-en-Python/Lenguaje%20natural/NLP_redes_neuronales/practica2_concurso/main.ipynb#X14sZmlsZQ%3D%3D?line=12'>13</a>\u001b[0m \u001b[39m# tfidf = open(\"./tfidf.txt\", 'w', encoding=\"utf8\")\u001b[39;00m\n\u001b[1;32m     <a href='vscode-notebook-cell:/home/yerry/Documentos/github/practicas-en-Python/Lenguaje%20natural/NLP_redes_neuronales/practica2_concurso/main.ipynb#X14sZmlsZQ%3D%3D?line=13'>14</a>\u001b[0m \u001b[39m# tfidf.write(df.to_string())\u001b[39;00m\n\u001b[1;32m     <a href='vscode-notebook-cell:/home/yerry/Documentos/github/practicas-en-Python/Lenguaje%20natural/NLP_redes_neuronales/practica2_concurso/main.ipynb#X14sZmlsZQ%3D%3D?line=14'>15</a>\u001b[0m \u001b[39m# tfidf.close()\u001b[39;00m\n\u001b[1;32m     <a href='vscode-notebook-cell:/home/yerry/Documentos/github/practicas-en-Python/Lenguaje%20natural/NLP_redes_neuronales/practica2_concurso/main.ipynb#X14sZmlsZQ%3D%3D?line=15'>16</a>\u001b[0m \u001b[39m# print ('Representación vectorial tf-idf')\u001b[39;00m\n\u001b[1;32m     <a href='vscode-notebook-cell:/home/yerry/Documentos/github/practicas-en-Python/Lenguaje%20natural/NLP_redes_neuronales/practica2_concurso/main.ipynb#X14sZmlsZQ%3D%3D?line=16'>17</a>\u001b[0m \u001b[39m# print (X.toarray())\u001b[39;00m\n",
      "File \u001b[0;32m~/anaconda3/envs/curso_redes_avanzadas/lib/python3.11/site-packages/pandas/core/generic.py:3772\u001b[0m, in \u001b[0;36mNDFrame.to_csv\u001b[0;34m(self, path_or_buf, sep, na_rep, float_format, columns, header, index, index_label, mode, encoding, compression, quoting, quotechar, lineterminator, chunksize, date_format, doublequote, escapechar, decimal, errors, storage_options)\u001b[0m\n\u001b[1;32m   3761\u001b[0m df \u001b[39m=\u001b[39m \u001b[39mself\u001b[39m \u001b[39mif\u001b[39;00m \u001b[39misinstance\u001b[39m(\u001b[39mself\u001b[39m, ABCDataFrame) \u001b[39melse\u001b[39;00m \u001b[39mself\u001b[39m\u001b[39m.\u001b[39mto_frame()\n\u001b[1;32m   3763\u001b[0m formatter \u001b[39m=\u001b[39m DataFrameFormatter(\n\u001b[1;32m   3764\u001b[0m     frame\u001b[39m=\u001b[39mdf,\n\u001b[1;32m   3765\u001b[0m     header\u001b[39m=\u001b[39mheader,\n\u001b[0;32m   (...)\u001b[0m\n\u001b[1;32m   3769\u001b[0m     decimal\u001b[39m=\u001b[39mdecimal,\n\u001b[1;32m   3770\u001b[0m )\n\u001b[0;32m-> 3772\u001b[0m \u001b[39mreturn\u001b[39;00m DataFrameRenderer(formatter)\u001b[39m.\u001b[39;49mto_csv(\n\u001b[1;32m   3773\u001b[0m     path_or_buf,\n\u001b[1;32m   3774\u001b[0m     lineterminator\u001b[39m=\u001b[39;49mlineterminator,\n\u001b[1;32m   3775\u001b[0m     sep\u001b[39m=\u001b[39;49msep,\n\u001b[1;32m   3776\u001b[0m     encoding\u001b[39m=\u001b[39;49mencoding,\n\u001b[1;32m   3777\u001b[0m     errors\u001b[39m=\u001b[39;49merrors,\n\u001b[1;32m   3778\u001b[0m     compression\u001b[39m=\u001b[39;49mcompression,\n\u001b[1;32m   3779\u001b[0m     quoting\u001b[39m=\u001b[39;49mquoting,\n\u001b[1;32m   3780\u001b[0m     columns\u001b[39m=\u001b[39;49mcolumns,\n\u001b[1;32m   3781\u001b[0m     index_label\u001b[39m=\u001b[39;49mindex_label,\n\u001b[1;32m   3782\u001b[0m     mode\u001b[39m=\u001b[39;49mmode,\n\u001b[1;32m   3783\u001b[0m     chunksize\u001b[39m=\u001b[39;49mchunksize,\n\u001b[1;32m   3784\u001b[0m     quotechar\u001b[39m=\u001b[39;49mquotechar,\n\u001b[1;32m   3785\u001b[0m     date_format\u001b[39m=\u001b[39;49mdate_format,\n\u001b[1;32m   3786\u001b[0m     doublequote\u001b[39m=\u001b[39;49mdoublequote,\n\u001b[1;32m   3787\u001b[0m     escapechar\u001b[39m=\u001b[39;49mescapechar,\n\u001b[1;32m   3788\u001b[0m     storage_options\u001b[39m=\u001b[39;49mstorage_options,\n\u001b[1;32m   3789\u001b[0m )\n",
      "File \u001b[0;32m~/anaconda3/envs/curso_redes_avanzadas/lib/python3.11/site-packages/pandas/io/formats/format.py:1186\u001b[0m, in \u001b[0;36mDataFrameRenderer.to_csv\u001b[0;34m(self, path_or_buf, encoding, sep, columns, index_label, mode, compression, quoting, quotechar, lineterminator, chunksize, date_format, doublequote, escapechar, errors, storage_options)\u001b[0m\n\u001b[1;32m   1165\u001b[0m     created_buffer \u001b[39m=\u001b[39m \u001b[39mFalse\u001b[39;00m\n\u001b[1;32m   1167\u001b[0m csv_formatter \u001b[39m=\u001b[39m CSVFormatter(\n\u001b[1;32m   1168\u001b[0m     path_or_buf\u001b[39m=\u001b[39mpath_or_buf,\n\u001b[1;32m   1169\u001b[0m     lineterminator\u001b[39m=\u001b[39mlineterminator,\n\u001b[0;32m   (...)\u001b[0m\n\u001b[1;32m   1184\u001b[0m     formatter\u001b[39m=\u001b[39m\u001b[39mself\u001b[39m\u001b[39m.\u001b[39mfmt,\n\u001b[1;32m   1185\u001b[0m )\n\u001b[0;32m-> 1186\u001b[0m csv_formatter\u001b[39m.\u001b[39;49msave()\n\u001b[1;32m   1188\u001b[0m \u001b[39mif\u001b[39;00m created_buffer:\n\u001b[1;32m   1189\u001b[0m     \u001b[39massert\u001b[39;00m \u001b[39misinstance\u001b[39m(path_or_buf, StringIO)\n",
      "File \u001b[0;32m~/anaconda3/envs/curso_redes_avanzadas/lib/python3.11/site-packages/pandas/io/formats/csvs.py:259\u001b[0m, in \u001b[0;36mCSVFormatter.save\u001b[0;34m(self)\u001b[0m\n\u001b[1;32m    240\u001b[0m \u001b[39mwith\u001b[39;00m get_handle(\n\u001b[1;32m    241\u001b[0m     \u001b[39mself\u001b[39m\u001b[39m.\u001b[39mfilepath_or_buffer,\n\u001b[1;32m    242\u001b[0m     \u001b[39mself\u001b[39m\u001b[39m.\u001b[39mmode,\n\u001b[0;32m   (...)\u001b[0m\n\u001b[1;32m    247\u001b[0m ) \u001b[39mas\u001b[39;00m handles:\n\u001b[1;32m    248\u001b[0m     \u001b[39m# Note: self.encoding is irrelevant here\u001b[39;00m\n\u001b[1;32m    249\u001b[0m     \u001b[39mself\u001b[39m\u001b[39m.\u001b[39mwriter \u001b[39m=\u001b[39m csvlib\u001b[39m.\u001b[39mwriter(\n\u001b[1;32m    250\u001b[0m         handles\u001b[39m.\u001b[39mhandle,\n\u001b[1;32m    251\u001b[0m         lineterminator\u001b[39m=\u001b[39m\u001b[39mself\u001b[39m\u001b[39m.\u001b[39mlineterminator,\n\u001b[0;32m   (...)\u001b[0m\n\u001b[1;32m    256\u001b[0m         quotechar\u001b[39m=\u001b[39m\u001b[39mself\u001b[39m\u001b[39m.\u001b[39mquotechar,\n\u001b[1;32m    257\u001b[0m     )\n\u001b[0;32m--> 259\u001b[0m     \u001b[39mself\u001b[39;49m\u001b[39m.\u001b[39;49m_save()\n",
      "File \u001b[0;32m~/anaconda3/envs/curso_redes_avanzadas/lib/python3.11/site-packages/pandas/io/formats/csvs.py:264\u001b[0m, in \u001b[0;36mCSVFormatter._save\u001b[0;34m(self)\u001b[0m\n\u001b[1;32m    262\u001b[0m \u001b[39mif\u001b[39;00m \u001b[39mself\u001b[39m\u001b[39m.\u001b[39m_need_to_save_header:\n\u001b[1;32m    263\u001b[0m     \u001b[39mself\u001b[39m\u001b[39m.\u001b[39m_save_header()\n\u001b[0;32m--> 264\u001b[0m \u001b[39mself\u001b[39;49m\u001b[39m.\u001b[39;49m_save_body()\n",
      "File \u001b[0;32m~/anaconda3/envs/curso_redes_avanzadas/lib/python3.11/site-packages/pandas/io/formats/csvs.py:302\u001b[0m, in \u001b[0;36mCSVFormatter._save_body\u001b[0;34m(self)\u001b[0m\n\u001b[1;32m    300\u001b[0m \u001b[39mif\u001b[39;00m start_i \u001b[39m>\u001b[39m\u001b[39m=\u001b[39m end_i:\n\u001b[1;32m    301\u001b[0m     \u001b[39mbreak\u001b[39;00m\n\u001b[0;32m--> 302\u001b[0m \u001b[39mself\u001b[39;49m\u001b[39m.\u001b[39;49m_save_chunk(start_i, end_i)\n",
      "File \u001b[0;32m~/anaconda3/envs/curso_redes_avanzadas/lib/python3.11/site-packages/pandas/io/formats/csvs.py:309\u001b[0m, in \u001b[0;36mCSVFormatter._save_chunk\u001b[0;34m(self, start_i, end_i)\u001b[0m\n\u001b[1;32m    306\u001b[0m slicer \u001b[39m=\u001b[39m \u001b[39mslice\u001b[39m(start_i, end_i)\n\u001b[1;32m    307\u001b[0m df \u001b[39m=\u001b[39m \u001b[39mself\u001b[39m\u001b[39m.\u001b[39mobj\u001b[39m.\u001b[39miloc[slicer]\n\u001b[0;32m--> 309\u001b[0m res \u001b[39m=\u001b[39m df\u001b[39m.\u001b[39;49m_mgr\u001b[39m.\u001b[39;49mto_native_types(\u001b[39m*\u001b[39;49m\u001b[39m*\u001b[39;49m\u001b[39mself\u001b[39;49m\u001b[39m.\u001b[39;49m_number_format)\n\u001b[1;32m    310\u001b[0m data \u001b[39m=\u001b[39m [res\u001b[39m.\u001b[39miget_values(i) \u001b[39mfor\u001b[39;00m i \u001b[39min\u001b[39;00m \u001b[39mrange\u001b[39m(\u001b[39mlen\u001b[39m(res\u001b[39m.\u001b[39mitems))]\n\u001b[1;32m    312\u001b[0m ix \u001b[39m=\u001b[39m \u001b[39mself\u001b[39m\u001b[39m.\u001b[39mdata_index[slicer]\u001b[39m.\u001b[39m_format_native_types(\u001b[39m*\u001b[39m\u001b[39m*\u001b[39m\u001b[39mself\u001b[39m\u001b[39m.\u001b[39m_number_format)\n",
      "File \u001b[0;32m~/anaconda3/envs/curso_redes_avanzadas/lib/python3.11/site-packages/pandas/core/internals/managers.py:512\u001b[0m, in \u001b[0;36mBaseBlockManager.to_native_types\u001b[0;34m(self, **kwargs)\u001b[0m\n\u001b[1;32m    507\u001b[0m \u001b[39mdef\u001b[39;00m \u001b[39mto_native_types\u001b[39m(\u001b[39mself\u001b[39m: T, \u001b[39m*\u001b[39m\u001b[39m*\u001b[39mkwargs) \u001b[39m-\u001b[39m\u001b[39m>\u001b[39m T:\n\u001b[1;32m    508\u001b[0m \u001b[39m    \u001b[39m\u001b[39m\"\"\"\u001b[39;00m\n\u001b[1;32m    509\u001b[0m \u001b[39m    Convert values to native types (strings / python objects) that are used\u001b[39;00m\n\u001b[1;32m    510\u001b[0m \u001b[39m    in formatting (repr / csv).\u001b[39;00m\n\u001b[1;32m    511\u001b[0m \u001b[39m    \"\"\"\u001b[39;00m\n\u001b[0;32m--> 512\u001b[0m     \u001b[39mreturn\u001b[39;00m \u001b[39mself\u001b[39;49m\u001b[39m.\u001b[39;49mapply(\u001b[39m\"\u001b[39;49m\u001b[39mto_native_types\u001b[39;49m\u001b[39m\"\u001b[39;49m, \u001b[39m*\u001b[39;49m\u001b[39m*\u001b[39;49mkwargs)\n",
      "File \u001b[0;32m~/anaconda3/envs/curso_redes_avanzadas/lib/python3.11/site-packages/pandas/core/internals/managers.py:352\u001b[0m, in \u001b[0;36mBaseBlockManager.apply\u001b[0;34m(self, f, align_keys, **kwargs)\u001b[0m\n\u001b[1;32m    350\u001b[0m         applied \u001b[39m=\u001b[39m b\u001b[39m.\u001b[39mapply(f, \u001b[39m*\u001b[39m\u001b[39m*\u001b[39mkwargs)\n\u001b[1;32m    351\u001b[0m     \u001b[39melse\u001b[39;00m:\n\u001b[0;32m--> 352\u001b[0m         applied \u001b[39m=\u001b[39m \u001b[39mgetattr\u001b[39;49m(b, f)(\u001b[39m*\u001b[39;49m\u001b[39m*\u001b[39;49mkwargs)\n\u001b[1;32m    353\u001b[0m     result_blocks \u001b[39m=\u001b[39m extend_blocks(applied, result_blocks)\n\u001b[1;32m    355\u001b[0m out \u001b[39m=\u001b[39m \u001b[39mtype\u001b[39m(\u001b[39mself\u001b[39m)\u001b[39m.\u001b[39mfrom_blocks(result_blocks, \u001b[39mself\u001b[39m\u001b[39m.\u001b[39maxes)\n",
      "File \u001b[0;32m~/anaconda3/envs/curso_redes_avanzadas/lib/python3.11/site-packages/pandas/core/internals/blocks.py:531\u001b[0m, in \u001b[0;36mBlock.to_native_types\u001b[0;34m(self, na_rep, quoting, **kwargs)\u001b[0m\n\u001b[1;32m    528\u001b[0m \u001b[39m@final\u001b[39m\n\u001b[1;32m    529\u001b[0m \u001b[39mdef\u001b[39;00m \u001b[39mto_native_types\u001b[39m(\u001b[39mself\u001b[39m, na_rep: \u001b[39mstr\u001b[39m \u001b[39m=\u001b[39m \u001b[39m\"\u001b[39m\u001b[39mnan\u001b[39m\u001b[39m\"\u001b[39m, quoting\u001b[39m=\u001b[39m\u001b[39mNone\u001b[39;00m, \u001b[39m*\u001b[39m\u001b[39m*\u001b[39mkwargs) \u001b[39m-\u001b[39m\u001b[39m>\u001b[39m Block:\n\u001b[1;32m    530\u001b[0m \u001b[39m    \u001b[39m\u001b[39m\"\"\"convert to our native types format\"\"\"\u001b[39;00m\n\u001b[0;32m--> 531\u001b[0m     result \u001b[39m=\u001b[39m to_native_types(\u001b[39mself\u001b[39;49m\u001b[39m.\u001b[39;49mvalues, na_rep\u001b[39m=\u001b[39;49mna_rep, quoting\u001b[39m=\u001b[39;49mquoting, \u001b[39m*\u001b[39;49m\u001b[39m*\u001b[39;49mkwargs)\n\u001b[1;32m    532\u001b[0m     \u001b[39mreturn\u001b[39;00m \u001b[39mself\u001b[39m\u001b[39m.\u001b[39mmake_block(result)\n",
      "File \u001b[0;32m~/anaconda3/envs/curso_redes_avanzadas/lib/python3.11/site-packages/pandas/core/internals/blocks.py:2561\u001b[0m, in \u001b[0;36mto_native_types\u001b[0;34m(values, na_rep, quoting, float_format, decimal, **kwargs)\u001b[0m\n\u001b[1;32m   2558\u001b[0m \u001b[39melif\u001b[39;00m \u001b[39misinstance\u001b[39m(values, ExtensionArray):\n\u001b[1;32m   2559\u001b[0m     mask \u001b[39m=\u001b[39m isna(values)\n\u001b[0;32m-> 2561\u001b[0m     new_values \u001b[39m=\u001b[39m np\u001b[39m.\u001b[39masarray(values\u001b[39m.\u001b[39;49mastype(\u001b[39mobject\u001b[39;49m))\n\u001b[1;32m   2562\u001b[0m     new_values[mask] \u001b[39m=\u001b[39m na_rep\n\u001b[1;32m   2563\u001b[0m     \u001b[39mreturn\u001b[39;00m new_values\n",
      "File \u001b[0;32m~/anaconda3/envs/curso_redes_avanzadas/lib/python3.11/site-packages/pandas/core/arrays/sparse/array.py:1263\u001b[0m, in \u001b[0;36mSparseArray.astype\u001b[0;34m(self, dtype, copy)\u001b[0m\n\u001b[1;32m   1260\u001b[0m future_dtype \u001b[39m=\u001b[39m pandas_dtype(dtype)\n\u001b[1;32m   1261\u001b[0m \u001b[39mif\u001b[39;00m \u001b[39mnot\u001b[39;00m \u001b[39misinstance\u001b[39m(future_dtype, SparseDtype):\n\u001b[1;32m   1262\u001b[0m     \u001b[39m# GH#34457\u001b[39;00m\n\u001b[0;32m-> 1263\u001b[0m     values \u001b[39m=\u001b[39m np\u001b[39m.\u001b[39masarray(\u001b[39mself\u001b[39m)\n\u001b[1;32m   1264\u001b[0m     values \u001b[39m=\u001b[39m ensure_wrapped_if_datetimelike(values)\n\u001b[1;32m   1265\u001b[0m     \u001b[39mreturn\u001b[39;00m astype_array(values, dtype\u001b[39m=\u001b[39mfuture_dtype, copy\u001b[39m=\u001b[39m\u001b[39mFalse\u001b[39;00m)\n",
      "\u001b[0;31mKeyboardInterrupt\u001b[0m: "
     ]
    }
   ],
   "source": [
    "from sklearn.feature_extraction.text import CountVectorizer, TfidfVectorizer\n",
    "# from scipy import sparse\n",
    "\n",
    "#Representación vectorial tf-idf\n",
    "vectorizador_tfidf = TfidfVectorizer()\n",
    "X = vectorizador_tfidf.fit_transform(preprocesed_tweets)\n",
    "\n",
    "df = pd.DataFrame.sparse.from_spmatrix(X, columns=vectorizador_tfidf.get_feature_names_out())\n",
    "\n",
    "# print(df.sparse.to_dense())\n",
    "df.to_csv(\"./src/outputs/train_tfidf.csv\")\n",
    "\n",
    "# tfidf = open(\"./tfidf.txt\", 'w', encoding=\"utf8\")\n",
    "# tfidf.write(df.to_string())\n",
    "# tfidf.close()\n",
    "# print ('Representación vectorial tf-idf')\n",
    "# print (X.toarray())\n"
   ]
  },
  {
   "cell_type": "code",
   "execution_count": 9,
   "metadata": {},
   "outputs": [],
   "source": [
    "from sklearn.naive_bayes import GaussianNB"
   ]
  },
  {
   "cell_type": "code",
   "execution_count": 10,
   "metadata": {},
   "outputs": [
    {
     "ename": "TypeError",
     "evalue": "A sparse matrix was passed, but dense data is required. Use X.toarray() to convert to a dense numpy array.",
     "output_type": "error",
     "traceback": [
      "\u001b[0;31m---------------------------------------------------------------------------\u001b[0m",
      "\u001b[0;31mTypeError\u001b[0m                                 Traceback (most recent call last)",
      "\u001b[1;32m/home/yerry/Documentos/github/practicas-en-Python/Lenguaje natural/NLP_redes_neuronales/practica2_concurso/main.ipynb Cell 14\u001b[0m line \u001b[0;36m3\n\u001b[1;32m      <a href='vscode-notebook-cell:/home/yerry/Documentos/github/practicas-en-Python/Lenguaje%20natural/NLP_redes_neuronales/practica2_concurso/main.ipynb#X16sZmlsZQ%3D%3D?line=0'>1</a>\u001b[0m clasificador \u001b[39m=\u001b[39m GaussianNB()\n\u001b[0;32m----> <a href='vscode-notebook-cell:/home/yerry/Documentos/github/practicas-en-Python/Lenguaje%20natural/NLP_redes_neuronales/practica2_concurso/main.ipynb#X16sZmlsZQ%3D%3D?line=2'>3</a>\u001b[0m clasificador\u001b[39m.\u001b[39;49mfit(df, train_es[\u001b[39m\"\u001b[39;49m\u001b[39mlabel\u001b[39;49m\u001b[39m\"\u001b[39;49m]\u001b[39m.\u001b[39;49mvalues\u001b[39m.\u001b[39;49mtolist())\n\u001b[1;32m      <a href='vscode-notebook-cell:/home/yerry/Documentos/github/practicas-en-Python/Lenguaje%20natural/NLP_redes_neuronales/practica2_concurso/main.ipynb#X16sZmlsZQ%3D%3D?line=4'>5</a>\u001b[0m prediccion \u001b[39m=\u001b[39m clasificador\u001b[39m.\u001b[39mpredict(test_es)\n\u001b[1;32m      <a href='vscode-notebook-cell:/home/yerry/Documentos/github/practicas-en-Python/Lenguaje%20natural/NLP_redes_neuronales/practica2_concurso/main.ipynb#X16sZmlsZQ%3D%3D?line=6'>7</a>\u001b[0m \u001b[39mprint\u001b[39m(prediccion[:\u001b[39m10\u001b[39m])\n",
      "File \u001b[0;32m~/anaconda3/envs/curso_redes_avanzadas/lib/python3.11/site-packages/sklearn/naive_bayes.py:267\u001b[0m, in \u001b[0;36mGaussianNB.fit\u001b[0;34m(self, X, y, sample_weight)\u001b[0m\n\u001b[1;32m    265\u001b[0m \u001b[39mself\u001b[39m\u001b[39m.\u001b[39m_validate_params()\n\u001b[1;32m    266\u001b[0m y \u001b[39m=\u001b[39m \u001b[39mself\u001b[39m\u001b[39m.\u001b[39m_validate_data(y\u001b[39m=\u001b[39my)\n\u001b[0;32m--> 267\u001b[0m \u001b[39mreturn\u001b[39;00m \u001b[39mself\u001b[39;49m\u001b[39m.\u001b[39;49m_partial_fit(\n\u001b[1;32m    268\u001b[0m     X, y, np\u001b[39m.\u001b[39;49munique(y), _refit\u001b[39m=\u001b[39;49m\u001b[39mTrue\u001b[39;49;00m, sample_weight\u001b[39m=\u001b[39;49msample_weight\n\u001b[1;32m    269\u001b[0m )\n",
      "File \u001b[0;32m~/anaconda3/envs/curso_redes_avanzadas/lib/python3.11/site-packages/sklearn/naive_bayes.py:428\u001b[0m, in \u001b[0;36mGaussianNB._partial_fit\u001b[0;34m(self, X, y, classes, _refit, sample_weight)\u001b[0m\n\u001b[1;32m    425\u001b[0m     \u001b[39mself\u001b[39m\u001b[39m.\u001b[39mclasses_ \u001b[39m=\u001b[39m \u001b[39mNone\u001b[39;00m\n\u001b[1;32m    427\u001b[0m first_call \u001b[39m=\u001b[39m _check_partial_fit_first_call(\u001b[39mself\u001b[39m, classes)\n\u001b[0;32m--> 428\u001b[0m X, y \u001b[39m=\u001b[39m \u001b[39mself\u001b[39;49m\u001b[39m.\u001b[39;49m_validate_data(X, y, reset\u001b[39m=\u001b[39;49mfirst_call)\n\u001b[1;32m    429\u001b[0m \u001b[39mif\u001b[39;00m sample_weight \u001b[39mis\u001b[39;00m \u001b[39mnot\u001b[39;00m \u001b[39mNone\u001b[39;00m:\n\u001b[1;32m    430\u001b[0m     sample_weight \u001b[39m=\u001b[39m _check_sample_weight(sample_weight, X)\n",
      "File \u001b[0;32m~/anaconda3/envs/curso_redes_avanzadas/lib/python3.11/site-packages/sklearn/base.py:584\u001b[0m, in \u001b[0;36mBaseEstimator._validate_data\u001b[0;34m(self, X, y, reset, validate_separately, **check_params)\u001b[0m\n\u001b[1;32m    582\u001b[0m         y \u001b[39m=\u001b[39m check_array(y, input_name\u001b[39m=\u001b[39m\u001b[39m\"\u001b[39m\u001b[39my\u001b[39m\u001b[39m\"\u001b[39m, \u001b[39m*\u001b[39m\u001b[39m*\u001b[39mcheck_y_params)\n\u001b[1;32m    583\u001b[0m     \u001b[39melse\u001b[39;00m:\n\u001b[0;32m--> 584\u001b[0m         X, y \u001b[39m=\u001b[39m check_X_y(X, y, \u001b[39m*\u001b[39;49m\u001b[39m*\u001b[39;49mcheck_params)\n\u001b[1;32m    585\u001b[0m     out \u001b[39m=\u001b[39m X, y\n\u001b[1;32m    587\u001b[0m \u001b[39mif\u001b[39;00m \u001b[39mnot\u001b[39;00m no_val_X \u001b[39mand\u001b[39;00m check_params\u001b[39m.\u001b[39mget(\u001b[39m\"\u001b[39m\u001b[39mensure_2d\u001b[39m\u001b[39m\"\u001b[39m, \u001b[39mTrue\u001b[39;00m):\n",
      "File \u001b[0;32m~/anaconda3/envs/curso_redes_avanzadas/lib/python3.11/site-packages/sklearn/utils/validation.py:1106\u001b[0m, in \u001b[0;36mcheck_X_y\u001b[0;34m(X, y, accept_sparse, accept_large_sparse, dtype, order, copy, force_all_finite, ensure_2d, allow_nd, multi_output, ensure_min_samples, ensure_min_features, y_numeric, estimator)\u001b[0m\n\u001b[1;32m   1101\u001b[0m         estimator_name \u001b[39m=\u001b[39m _check_estimator_name(estimator)\n\u001b[1;32m   1102\u001b[0m     \u001b[39mraise\u001b[39;00m \u001b[39mValueError\u001b[39;00m(\n\u001b[1;32m   1103\u001b[0m         \u001b[39mf\u001b[39m\u001b[39m\"\u001b[39m\u001b[39m{\u001b[39;00mestimator_name\u001b[39m}\u001b[39;00m\u001b[39m requires y to be passed, but the target y is None\u001b[39m\u001b[39m\"\u001b[39m\n\u001b[1;32m   1104\u001b[0m     )\n\u001b[0;32m-> 1106\u001b[0m X \u001b[39m=\u001b[39m check_array(\n\u001b[1;32m   1107\u001b[0m     X,\n\u001b[1;32m   1108\u001b[0m     accept_sparse\u001b[39m=\u001b[39;49maccept_sparse,\n\u001b[1;32m   1109\u001b[0m     accept_large_sparse\u001b[39m=\u001b[39;49maccept_large_sparse,\n\u001b[1;32m   1110\u001b[0m     dtype\u001b[39m=\u001b[39;49mdtype,\n\u001b[1;32m   1111\u001b[0m     order\u001b[39m=\u001b[39;49morder,\n\u001b[1;32m   1112\u001b[0m     copy\u001b[39m=\u001b[39;49mcopy,\n\u001b[1;32m   1113\u001b[0m     force_all_finite\u001b[39m=\u001b[39;49mforce_all_finite,\n\u001b[1;32m   1114\u001b[0m     ensure_2d\u001b[39m=\u001b[39;49mensure_2d,\n\u001b[1;32m   1115\u001b[0m     allow_nd\u001b[39m=\u001b[39;49mallow_nd,\n\u001b[1;32m   1116\u001b[0m     ensure_min_samples\u001b[39m=\u001b[39;49mensure_min_samples,\n\u001b[1;32m   1117\u001b[0m     ensure_min_features\u001b[39m=\u001b[39;49mensure_min_features,\n\u001b[1;32m   1118\u001b[0m     estimator\u001b[39m=\u001b[39;49mestimator,\n\u001b[1;32m   1119\u001b[0m     input_name\u001b[39m=\u001b[39;49m\u001b[39m\"\u001b[39;49m\u001b[39mX\u001b[39;49m\u001b[39m\"\u001b[39;49m,\n\u001b[1;32m   1120\u001b[0m )\n\u001b[1;32m   1122\u001b[0m y \u001b[39m=\u001b[39m _check_y(y, multi_output\u001b[39m=\u001b[39mmulti_output, y_numeric\u001b[39m=\u001b[39my_numeric, estimator\u001b[39m=\u001b[39mestimator)\n\u001b[1;32m   1124\u001b[0m check_consistent_length(X, y)\n",
      "File \u001b[0;32m~/anaconda3/envs/curso_redes_avanzadas/lib/python3.11/site-packages/sklearn/utils/validation.py:845\u001b[0m, in \u001b[0;36mcheck_array\u001b[0;34m(array, accept_sparse, accept_large_sparse, dtype, order, copy, force_all_finite, ensure_2d, allow_nd, ensure_min_samples, ensure_min_features, estimator, input_name)\u001b[0m\n\u001b[1;32m    843\u001b[0m \u001b[39mif\u001b[39;00m sp\u001b[39m.\u001b[39missparse(array):\n\u001b[1;32m    844\u001b[0m     _ensure_no_complex_data(array)\n\u001b[0;32m--> 845\u001b[0m     array \u001b[39m=\u001b[39m _ensure_sparse_format(\n\u001b[1;32m    846\u001b[0m         array,\n\u001b[1;32m    847\u001b[0m         accept_sparse\u001b[39m=\u001b[39;49maccept_sparse,\n\u001b[1;32m    848\u001b[0m         dtype\u001b[39m=\u001b[39;49mdtype,\n\u001b[1;32m    849\u001b[0m         copy\u001b[39m=\u001b[39;49mcopy,\n\u001b[1;32m    850\u001b[0m         force_all_finite\u001b[39m=\u001b[39;49mforce_all_finite,\n\u001b[1;32m    851\u001b[0m         accept_large_sparse\u001b[39m=\u001b[39;49maccept_large_sparse,\n\u001b[1;32m    852\u001b[0m         estimator_name\u001b[39m=\u001b[39;49mestimator_name,\n\u001b[1;32m    853\u001b[0m         input_name\u001b[39m=\u001b[39;49minput_name,\n\u001b[1;32m    854\u001b[0m     )\n\u001b[1;32m    855\u001b[0m \u001b[39melse\u001b[39;00m:\n\u001b[1;32m    856\u001b[0m     \u001b[39m# If np.array(..) gives ComplexWarning, then we convert the warning\u001b[39;00m\n\u001b[1;32m    857\u001b[0m     \u001b[39m# to an error. This is needed because specifying a non complex\u001b[39;00m\n\u001b[1;32m    858\u001b[0m     \u001b[39m# dtype to the function converts complex to real dtype,\u001b[39;00m\n\u001b[1;32m    859\u001b[0m     \u001b[39m# thereby passing the test made in the lines following the scope\u001b[39;00m\n\u001b[1;32m    860\u001b[0m     \u001b[39m# of warnings context manager.\u001b[39;00m\n\u001b[1;32m    861\u001b[0m     \u001b[39mwith\u001b[39;00m warnings\u001b[39m.\u001b[39mcatch_warnings():\n",
      "File \u001b[0;32m~/anaconda3/envs/curso_redes_avanzadas/lib/python3.11/site-packages/sklearn/utils/validation.py:522\u001b[0m, in \u001b[0;36m_ensure_sparse_format\u001b[0;34m(spmatrix, accept_sparse, dtype, copy, force_all_finite, accept_large_sparse, estimator_name, input_name)\u001b[0m\n\u001b[1;32m    519\u001b[0m _check_large_sparse(spmatrix, accept_large_sparse)\n\u001b[1;32m    521\u001b[0m \u001b[39mif\u001b[39;00m accept_sparse \u001b[39mis\u001b[39;00m \u001b[39mFalse\u001b[39;00m:\n\u001b[0;32m--> 522\u001b[0m     \u001b[39mraise\u001b[39;00m \u001b[39mTypeError\u001b[39;00m(\n\u001b[1;32m    523\u001b[0m         \u001b[39m\"\u001b[39m\u001b[39mA sparse matrix was passed, but dense \u001b[39m\u001b[39m\"\u001b[39m\n\u001b[1;32m    524\u001b[0m         \u001b[39m\"\u001b[39m\u001b[39mdata is required. Use X.toarray() to \u001b[39m\u001b[39m\"\u001b[39m\n\u001b[1;32m    525\u001b[0m         \u001b[39m\"\u001b[39m\u001b[39mconvert to a dense numpy array.\u001b[39m\u001b[39m\"\u001b[39m\n\u001b[1;32m    526\u001b[0m     )\n\u001b[1;32m    527\u001b[0m \u001b[39melif\u001b[39;00m \u001b[39misinstance\u001b[39m(accept_sparse, (\u001b[39mlist\u001b[39m, \u001b[39mtuple\u001b[39m)):\n\u001b[1;32m    528\u001b[0m     \u001b[39mif\u001b[39;00m \u001b[39mlen\u001b[39m(accept_sparse) \u001b[39m==\u001b[39m \u001b[39m0\u001b[39m:\n",
      "\u001b[0;31mTypeError\u001b[0m: A sparse matrix was passed, but dense data is required. Use X.toarray() to convert to a dense numpy array."
     ]
    }
   ],
   "source": [
    "clasificador = GaussianNB()\n",
    "\n",
    "clasificador.fit(df, train_es[\"label\"].values.tolist())\n",
    "\n",
    "prediccion = clasificador.predict(test_es)\n",
    "\n",
    "print(prediccion[:10])"
   ]
  }
 ],
 "metadata": {
  "kernelspec": {
   "display_name": "curso_redes_avanzadas",
   "language": "python",
   "name": "python3"
  },
  "language_info": {
   "codemirror_mode": {
    "name": "ipython",
    "version": 3
   },
   "file_extension": ".py",
   "mimetype": "text/x-python",
   "name": "python",
   "nbconvert_exporter": "python",
   "pygments_lexer": "ipython3",
   "version": "3.11.5"
  }
 },
 "nbformat": 4,
 "nbformat_minor": 2
}
