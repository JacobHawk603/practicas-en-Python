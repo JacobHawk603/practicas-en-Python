{
 "cells": [
  {
   "cell_type": "code",
   "execution_count": 1,
   "metadata": {},
   "outputs": [],
   "source": [
    "import re\n",
    "import numpy as np"
   ]
  },
  {
   "cell_type": "code",
   "execution_count": 2,
   "metadata": {},
   "outputs": [
    {
     "name": "stdout",
     "output_type": "stream",
     "text": [
      "['Text,Type,Source\\n', \"!!! RT @mayasolovely: As a woman you shouldn't complain about cleaning up your house. &amp; as a man you should always take the trash out...,Tweet,Hate Speech and Offensive Language Dataset\\n\", '!!!!! RT @mleew17: boy dats cold...tyga dwn bad for cuffin dat hoe in the 1st place!!,Tweet,Hate Speech and Offensive Language Dataset\\n', '!!!!!!! RT @UrKindOfBrand Dawg!!!! RT @80sbaby4life: You ever fuck a bitch and she start to cry? You be confused as shit,Tweet,Hate Speech and Offensive Language Dataset\\n', '!!!!!!!!! RT @C_G_Anderson: @viva_based she look like a tranny,Tweet,Hate Speech and Offensive Language Dataset\\n', '!!!!!!!!!!!!! RT @ShenikaRoberts: The shit you hear about me might be true or it might be f@ker than the bitch who told it to ya &#57361;,Tweet,Hate Speech and Offensive Language Dataset\\n', '\"!!!!!!!!!!!!!!!!!!\"\"@T_Madison_x: The shit just blows me..claim you so faithful and down for somebody but still fucking with hoes! &#128514;&#128514;&#128514;\"\"\",Tweet,Hate Speech and Offensive Language Dataset\\n', '@AppleSupport causing the reply to be disregarded and the tapped notification under the keyboard is opened😡😡😡,Tweet,Customer Support on Twitter Dataset\\n', '\"@105835 Your business means a lot to us. Please DM your name, zip code and additional details about your concern. ^RR https://t.co/znUu1VJn9r\",Tweet,Customer Support on Twitter Dataset\\n', \"@76328 I really hope you all change but I'm sure you won't! Because you don't have to!,Tweet,Customer Support on Twitter Dataset\\n\", '\"@105836 LiveChat is online at the moment - https://t.co/SY94VtU8Kq or contact 03331 031 031 option 1, 4, 3 (Leave a message) to request a call back\",Tweet,Customer Support on Twitter Dataset\\n', \"@VirginTrains see attached error message. I've tried leaving a voicemail several times in the past week https://t.co/NxVZjlYx1k,Tweet,Customer Support on Twitter Dataset\\n\", '\"@105836 Have you tried from another device, Miriam ^MM\",Tweet,Customer Support on Twitter Dataset\\n', '\"@VirginTrains yep, I\\'ve tried laptop too several times over the past week and again today. I\\'ve tried different browsers too\",Tweet,Customer Support on Twitter Dataset\\n', '\"@105836 It\\'s working OK from here, Miriam. Does this link help https://t.co/0m2mpH15eh ? ^MM\",Tweet,Customer Support on Twitter Dataset\\n', '\"Great CD: My lovely Pat has one of the GREAT voices of her generation. I have listened to this CD for YEARS and I still LOVE IT. When I\\'m in a good mood it makes me feel better. A bad mood just evaporates like sugar in the rain. This CD just oozes LIFE. Vocals are jusat STUUNNING and lyrics just kill. One of life\\'s hidden gems. This is a desert isle CD in my book. Why she never made it big is just beyond me. Everytime I play this, no matter black, white, young, old, male, female EVERYBODY says one thing \"\"Who was that singing ?\"\"\",Review,Amazon Reviews for Sentiment Analysis Dataset\\n', '\"One of the best game music soundtracks - for a game I didn\\'t really play: Despite the fact that I have only played a small portion of the game, the music I heard (plus the connection to Chrono Trigger which was great as well) led me to purchase the soundtrack, and it remains one of my favorite albums. There is an incredible mix of fun, epic, and emotional songs. Those sad and beautiful tracks I especially like, as there\\'s not too many of those kinds of songs in my other video game soundtracks. I must admit that one of the songs (Life-A Distant Promise) has brought tears to my eyes on many occasions.My one complaint about this soundtrack is that they use guitar fretting effects in many of the songs, which I find distracting. But even if those weren\\'t included I would still consider the collection worth it.\",Review,Amazon Reviews for Sentiment Analysis Dataset\\n', '\"Batteries died within a year ...: I bought this charger in Jul 2003 and it worked OK for a while. The design is nice and convenient. However, after about a year, the batteries would not hold a charge. Might as well just get alkaline disposables, or look elsewhere for a charger that comes with batteries that have better staying power.\",Review,Amazon Reviews for Sentiment Analysis Dataset\\n', '\"works fine, but Maha Energy is better: Check out Maha Energy\\'s website. Their Powerex MH-C204F charger works in 100 minutes for rapid charge, with option for slower charge (better for batteries). And they have 2200 mAh batteries.\",Review,Amazon Reviews for Sentiment Analysis Dataset\\n', '\"Great for the non-audiophile: Reviewed quite a bit of the combo players and was hesitant due to unfavorable reviews and size of machines. I am weaning off my VHS collection, but don\\'t want to replace them with DVD\\'s. This unit is well built, easy to setup and resolution and special effects (no progressive scan for HDTV owners) suitable for many people looking for a versatile product.Cons- No universal remote.\",Review,Amazon Reviews for Sentiment Analysis Dataset\\n', '\"DVD Player crapped out after one year: I also began having the incorrect disc problems that I\\'ve read about on here. The VCR still works, but hte DVD side is useless. I understand that DVD players sometimes just quit on you, but after not even one year? To me that\\'s a sign on bad quality. I\\'m giving up JVC after this as well. I\\'m sticking to Sony or giving another brand a shot.\",Review,Amazon Reviews for Sentiment Analysis Dataset\\n', 'Amber Smith “Kandy Halloween: Return of the Haunted Mansion” Red Carpet #URL# via #USER#,Tweet,Fake News Detection Corpus\\n', '\"\"\"RT Reuters \"\"\"\"Russia: Pence Balkans comments expose Washington\\'s Cold War ideology #URL# #URL#\"\"\"\"\"\"\",Tweet,Fake News Detection Corpus\\n', 'Jennifer Lopez and Alex Rodriguez Step Out for the First Time at the 2019 Met Gala as an Engaged Couple #URL#,Tweet,Fake News Detection Corpus\\n', '\"\"\"92nd #HASHTAG# delayed in Brisbane, Adelaide &amp; Perth. #HASHTAG# #URL# #URL#\"\"\",Tweet,Fake News Detection Corpus\\n', '#HASHTAG# to represent Australia at #HASHTAG# 2020! #HASHTAG# #URL# #URL#,Tweet,Fake News Detection Corpus\\n', '\"Natural language processing (NLP) is an interdisciplinary subfield of computer science and linguistics. It is primarily concerned with giving computers the ability to support and manipulate human language. It involves processing natural language datasets, such as text corpora or speech corpora, using either rule-based or probabilistic (i.e. statistical and, most recently, neural network-based) machine learning approaches.\\\\n\",wiki,Wikipedia\\n', '\"Challenges in natural language processing frequently involve speech recognition, natural-language understanding, and natural-language generation.\\\\n\",wiki,Wikipedia\\n', '\"Natural language processing has its roots in the 1950s. Already in 1950, Alan Turing published an article titled \"\"Computing Machinery and Intelligence\"\" which proposed what is now called the Turing test as a criterion of intelligence, though at the time that was not articulated as a problem separate from artificial intelligence. The proposed test includes a task that involves the automated interpretation and generation of natural language.\\\\n\",wiki,Wikipedia\\n', '\"The premise of symbolic NLP is well-summarized by John Searle\\'s Chinese room experiment: Given a collection of rules (e.g., a Chinese phrasebook, with questions and matching answers), the computer emulates natural language understanding (or other NLP tasks) by applying those rules to the data it confronts.\\\\n\",wiki,Wikipedia\\n', '\"Up to the 1980s, most natural language processing systems were based on complex sets of hand-written rules.  Starting in the late 1980s, however, there was a revolution in natural language processing with the introduction of machine learning algorithms for language processing.  This was due to both the steady increase in computational power (see Moore\\'s law) and the gradual lessening of the dominance of Chomskyan theories of linguistics (e.g. transformational grammar), whose theoretical underpinnings discouraged the sort of corpus linguistics that underlies the machine-learning approach to language processing.[7]\\\\n\",wiki,Wikipedia\\n', '\"  In neuropsychology, linguistics, and philosophy of language, a natural language or ordinary language is any language that occurs naturally in a human community by a process of use, repetition, and change without conscious planning or premeditation. It can take different forms, namely either a spoken language or a sign language. Natural languages are distinguished from constructed and formal languages such as those used to program computers or to study logic.[1]\",wiki,Wikipedia\\n', '\"All varieties of world languages are natural languages, including those that are associated with linguistic prescriptivism or language regulation. (Nonstandard dialects can be viewed as a wild type in comparison with standard languages.) An official language with a regulating academy such as Standard French, overseen by the Académie Française, is classified as a natural language (e.g. in the field of natural language processing), as its prescriptive aspects do not make it constructed enough to be a constructed language or controlled enough to be a controlled natural language.\",wiki,Wikipedia\\n', '\"Controlled natural languages are subsets of natural languages whose grammars and dictionaries have been restricted in order to reduce ambiguity and complexity. This may be accomplished by decreasing usage of superlative or adverbial forms, or irregular verbs. Typical purposes for developing and implementing a controlled natural language are to aid understanding by non-native speakers or to ease computer processing. An example of a widely-used controlled natural language is Simplified Technical English, which was originally developed for aerospace and avionics industry manuals.\",wiki,Wikipedia\\n', '\"Being constructed, International auxiliary languages such as Esperanto and Interlingua are not considered natural languages, with the possible exception of true native speakers of such languages.[3] Natural languages evolve, through fluctuations in vocabulary and syntax, to incrementally improve human communication. In contrast, Esperanto was created by Polish ophthalmologist L. L. Zamenhof in the late 19th century.\",wiki,Wikipedia\\n', '\"Some natural languages have become organically \"\"standardized\"\" through the synthesis of two or more pre-existing natural languages over a relatively short period of time through the development of a pidgin, which is not considered a language, into a stable creole language. A creole such as Haitian Creole has its own grammar, vocabulary and literature. It is spoken by over 10 million people worldwide and is one of the two official languages of the Republic of Haiti.\",wiki,Wikipedia']\n"
     ]
    }
   ],
   "source": [
    "file = open(\"src/Sample Texts - Hoja 1.csv\", 'r+', encoding='utf-8', errors='ignore')\n",
    "textos = file.readlines()\n",
    "\n",
    "print(textos)\n"
   ]
  },
  {
   "cell_type": "markdown",
   "metadata": {},
   "source": [
    "# Vamos a filtrar con expresiones regulares"
   ]
  },
  {
   "cell_type": "markdown",
   "metadata": {},
   "source": [
    "creamos los patrones para las expresiones regulares"
   ]
  },
  {
   "cell_type": "code",
   "execution_count": 9,
   "metadata": {},
   "outputs": [],
   "source": [
    "usuario = re.compile(r\"@[A-Za-z0-9_]+:?\")\n",
    "retweet = re.compile(r\"!*\\s?RT \")\n",
    "enlace = re.compile(r\"https?://.+\")\n",
    "emogi = re.compile(r\"[😀😃😄😁😆😅🤣😂🙂🙃😉😊😇🥰😍🤩😘😗☺😚😙😋😛😜🤪😝🤑🤗🤭🤫🤔🤐🤨😐😑😶😏😒🙄😬🤥😌😔😪🤤😴😷🤒🤕🤢🤮🤧🥵🥶🥴😵🤯🤠🥳😎🤓🧐😕😟🙁☹😮😯😲😳🥺😦😧😨😰😥😢😭😱😖😣😞😓😩😫😤😠🤬😈👿💀☠💩🤡👹👺👻👽👾🤖😺😸😹😻😼😽🙀😿😾🙈🙉🙊💋💌💘💝💖💗💓💞💕💟❣💔❤🧡💛💚💙💜🖤💯💢💥💫💦💨🕳💣💬👁️‍🗨️🗨🗯💭💤👋🤚🖐✋🖖👌✌🤞🤟🤘🤙👈👉👆🖕👇☝👍👎✊👊🤛🤜👏🙌👐🤲🤝🙏✍💅🤳💪🦵🦶👂👃🧠🦷🦴👀👁👅👄👶🧒👦👧🧑👱👨🧔👱‍♂️👨‍🦰👨‍🦱👨‍🦳👨‍🦲👩👱‍♀️👩‍🦰👩‍🦱👩‍🦳👩‍🦲🧓👴👵🙍🙍‍♂️🙍‍♀️🙎🙎‍♂️🙎‍♀️🙅🙅‍♂️🙅‍♀️🙆🙆‍♂️🙆‍♀️💁💁‍♂️💁‍♀️🙋🙋‍♂️🙋‍♀️🙇🙇‍♂️🙇‍♀️🤦🤦‍♂️🤦‍♀️🤷🤷‍♂️🤷‍♀️👨‍⚕️👩‍⚕️👨‍🎓👩‍🎓👨‍🏫👩‍🏫👨‍⚖️👩‍⚖️👨‍🌾👩‍🌾👨‍🍳👩‍🍳👨‍🔧👩‍🔧👨‍🏭👩‍🏭👨‍💼👩‍💼👨‍🔬👩‍🔬👨‍💻👩‍💻👨‍🎤👩‍🎤👨‍🎨👩‍🎨👨‍✈️👩‍✈️👨‍🚀👩‍🚀👨‍🚒👩‍🚒👮👮‍♂️👮‍♀️🕵🕵️‍♂️🕵️‍♀️💂💂‍♂️💂‍♀️👷👷‍♂️👷‍♀️🤴👸👳👳‍♂️👳‍♀️👲🧕🤵👰🤰🤱👼🎅🤶🦸🦸‍♂️🦸‍♀️🦹🦹‍♂️🦹‍♀️🧙🧙‍♂️🧙‍♀️🧚🧚‍♂️🧚‍♀️🧛🧛‍♂️🧛‍♀️🧜🧜‍♂️🧜‍♀️🧝🧝‍♂️🧝‍♀️🧞🧞‍♂️🧞‍♀️🧟🧟‍♂️🧟‍♀️💆💆‍♂️💆‍♀️💇💇‍♂️💇‍♀️🚶🚶‍♂️🚶‍♀️🏃🏃‍♂️🏃‍♀️💃🕺🕴👯👯‍♂️👯‍♀️🧖🧖‍♂️🧖‍♀️🧗🧗‍♂️🧗‍♀️🤺🏇⛷🏂🏌🏌️‍♂️🏌️‍♀️🏄🏄‍♂️🏄‍♀️🚣🚣‍♂️🚣‍♀️🏊🏊‍♂️🏊‍♀️⛹⛹️‍♂️⛹️‍♀️🏋🏋️‍♂️🏋️‍♀️🚴🚴‍♂️🚴‍♀️🚵🚵‍♂️🚵‍♀️🤸🤸‍♂️🤸‍♀️🤼🤼‍♂️🤼‍♀️🤽🤽‍♂️🤽‍♀️🤾🤾‍♂️🤾‍♀️🤹🤹‍♂️🤹‍♀️🧘🧘‍♂️🧘‍♀️🛀🛌👭👫👬💏👩‍❤️‍💋‍👨👨‍❤️‍💋‍👨👩‍❤️‍💋‍👩💑👩‍❤️‍👨👨‍❤️‍👨👩‍❤️‍👩👪👨‍👩‍👦👨‍👩‍👧👨‍👩‍👧‍👦👨‍👩‍👦‍👦👨‍👩‍👧‍👧👨‍👨‍👦👨‍👨‍👧👨‍👨‍👧‍👦👨‍👨‍👦‍👦👨‍👨‍👧‍👧👩‍👩‍👦👩‍👩‍👧👩‍👩‍👧‍👦👩‍👩‍👦‍👦👩‍👩‍👧‍👧👨‍👦👨‍👦‍👦👨‍👧👨‍👧‍👦👨‍👧‍👧👩‍👦👩‍👦‍👦👩‍👧👩‍👧‍👦👩‍👧‍👧🗣👤👥👣🦰🦱🦳🦲🐵🐒🦍🐶🐕🐩🐺🦊🦝🐱🐈🦁🐯🐅🐆🐴🐎🦄🦓🦌🐮🐂🐃🐄🐷🐖🐗🐽🐏🐑🐐🐪🐫🦙🦒🐘🦏🦛🐭🐁🐀🐹🐰🐇🐿🦔🦇🐻🐨🐼🦘🦡🐾🦃🐔🐓🐣🐤🐥🐦🐧🕊🦅🦆🦢🦉🦚🦜🐸🐊🐢🦎🐍🐲🐉🦕🦖🐳🐋🐬🐟🐠🐡🦈🐙🐚🐌🦋🐛🐜🐝🐞🦗🕷🕸🦂🦟🦠💐🌸💮🏵🌹🥀🌺🌻🌼🌷🌱🌲🌳🌴🌵🌾🌿☘🍀🍁🍂🍃🍇🍈🍉🍊🍋🍌🍍🥭🍎🍏🍐🍑🍒🍓🥝🍅🥥🥑🍆🥔🥕🌽🌶🥒🥬🥦🍄🥜🌰🍞🥐🥖🥨🥯🥞🧀🍖🍗🥩🥓🍔🍟🍕🌭🥪🌮🌯🥙🥚🍳🥘🍲🥣🥗🍿🧂🥫🍱🍘🍙🍚🍛🍜🍝🍠🍢🍣🍤🍥🥮🍡🥟🥠🥡🦀🦞🦐🦑🍦🍧🍨🍩🍪🎂🍰🧁🥧🍫🍬🍭🍮🍯🍼🥛☕🍵🍶🍾🍷🍸🍹🍺🍻🥂🥃🥤🥢🍽🍴🥄🔪🏺🌍🌎🌏🌐🗺🗾🧭🏔⛰🌋🗻🏕🏖🏜🏝🏞🏟🏛🏗🧱🏘🏚🏠🏡🏢🏣🏤🏥🏦🏨🏩🏪🏫🏬🏭🏯🏰💒🗼🗽⛪🕌🕍⛩🕋⛲⛺🌁🌃🏙🌄🌅🌆🌇🌉♨🌌🎠🎡🎢💈🎪🚂🚃🚄🚅🚆🚇🚈🚉🚊🚝🚞🚋🚌🚍🚎🚐🚑🚒🚓🚔🚕🚖🚗🚘🚙🚚🚛🚜🏎🏍🛵🚲🛴🛹🚏🛣🛤🛢⛽🚨🚥🚦🛑🚧⚓⛵🛶🚤🛳⛴🛥🚢✈🛩🛫🛬💺🚁🚟🚠🚡🛰🚀🛸🛎🧳⌛⏳⌚⏰⏱⏲🕰🕛🕧🕐🕜🕑🕝🕒🕞🕓🕟🕔🕠🕕🕡🕖🕢🕗🕣🕘🕤🕙🕥🕚🕦🌑🌒🌓🌔🌕🌖🌗🌘🌙🌚🌛🌜🌡☀🌝🌞⭐🌟🌠☁⛅⛈🌤🌥🌦🌧🌨🌩🌪🌫🌬🌀🌈🌂☂☔⛱⚡❄☃⛄☄🔥💧🌊🎃🎄🎆🎇🧨✨🎈🎉🎊🎋🎍🎎🎏🎐🎑🧧🎀🎁🎗🎟🎫🎖🏆🏅🥇🥈🥉⚽⚾🥎🏀🏐🏈🏉🎾🥏🎳🏏🏑🏒🥍🏓🏸🥊🥋🥅⛳⛸🎣🎽🎿🛷🥌🎯🎱🔮🧿🎮🕹🎰🎲🧩🧸♠♥♦♣♟🃏🀄🎴🎭🖼🎨🧵🧶👓🕶🥽🥼👔👕👖🧣🧤🧥🧦👗👘👙👚👛👜👝🛍🎒👞👟🥾🥿👠👡👢👑👒🎩🎓🧢⛑📿💄💍💎🔇🔈🔉🔊📢📣📯🔔🔕🎼🎵🎶🎙🎚🎛🎤🎧📻🎷🎸🎹🎺🎻🥁📱📲☎📞📟📠🔋🔌💻🖥🖨⌨🖱🖲💽💾💿📀🧮🎥🎞📽🎬📺📷📸📹📼🔍🔎🕯💡🔦🏮📔📕📖📗📘📙📚📓📒📃📜📄📰🗞📑🔖🏷💰💴💵💶💷💸💳🧾💹💱💲✉📧📨📩📤📥📦📫📪📬📭📮🗳✏✒🖋🖊🖌🖍📝💼📁📂🗂📅📆🗒🗓📇📈📉📊📋📌📍📎🖇📏📐✂🗃🗄🗑🔒🔓🔏🔐🔑🗝🔨⛏⚒🛠🗡⚔🔫🏹🛡🔧🔩⚙🗜⚖🔗⛓🧰🧲⚗🧪🧫🧬🔬🔭📡💉💊🚪🛏🛋🚽🚿🛁🧴🧷🧹🧺🧻🧼🧽🧯🛒🚬⚰⚱🗿🏧🚮🚰♿🚹🚺🚻🚼🚾🛂🛃🛄🛅⚠🚸⛔🚫🚳🚭🚯🚱🚷📵🔞☢☣⬆↗➡↘⬇↙⬅↖↕↔↩↪⤴⤵🔃🔄🔙🔚🔛🔜🔝🛐⚛🕉✡☸☯✝☦☪☮🕎🔯♈♉♊♋♌♍♎♏♐♑♒♓⛎🔀🔁🔂▶⏩⏭⏯◀⏪⏮🔼⏫🔽⏬⏸⏹⏺⏏🎦🔅🔆📶📳📴♀♂⚕♾♻⚜🔱📛🔰⭕✅☑✔✖❌❎➕➖➗➰➿〽✳✴❇‼⁉❓❔❕❗〰©®™🔟🔠🔡🔢🔣🔤🅰🆎🅱🆑🆒🆓🆔Ⓜ🆕🆖🅾🆗🅿🆘🆙🆚🈁🈂🈷🈶🈯🉐🈹🈚🈲🉑🈸🈴🈳㊗㊙🈺🈵🔴🔵⚪⚫⬜⬛◼◻◽◾▫▪🔶🔷🔸🔹🔺🔻💠🔘🔲🔳🏁🚩🎌🏴🏳🏳️‍🌈🏴‍☠️🇦🇨🇦🇩🇦🇪🇦🇫🇦🇬🇦🇮🇦🇱🇦🇲🇦🇴🇦🇶🇦🇷🇦🇸🇦🇹🇦🇺🇦🇼🇦🇽🇦🇿🇧🇦🇧🇧🇧🇩🇧🇪🇧🇫🇧🇬🇧🇭🇧🇮🇧🇯🇧🇱🇧🇲🇧🇳🇧🇴🇧🇶🇧🇷🇧🇸🇧🇹🇧🇻🇧🇼🇧🇾🇧🇿🇨🇦🇨🇨🇨🇩🇨🇫🇨🇬🇨🇭🇨🇮🇨🇰🇨🇱🇨🇲🇨🇳🇨🇴🇨🇵🇨🇷🇨🇺🇨🇻🇨🇼🇨🇽🇨🇾🇨🇿🇩🇪🇩🇬🇩🇯🇩🇰🇩🇲🇩🇴🇩🇿🇪🇦🇪🇨🇪🇪🇪🇬🇪🇭🇪🇷🇪🇸🇪🇹🇪🇺🇫🇮🇫🇯🇫🇰🇫🇲🇫🇴🇫🇷🇬🇦🇬🇧🇬🇩🇬🇪🇬🇫🇬🇬🇬🇭🇬🇮🇬🇱🇬🇲🇬🇳🇬🇵🇬🇶🇬🇷🇬🇸🇬🇹🇬🇺🇬🇼🇬🇾🇭🇰🇭🇲🇭🇳🇭🇷🇭🇹🇭🇺🇮🇨🇮🇩🇮🇪🇮🇱🇮🇲🇮🇳🇮🇴🇮🇶🇮🇷🇮🇸🇮🇹🇯🇪🇯🇲🇯🇴🇯🇵🇰🇪🇰🇬🇰🇭🇰🇮🇰🇲🇰🇳🇰🇵🇰🇷🇰🇼🇰🇾🇰🇿🇱🇦🇱🇧🇱🇨🇱🇮🇱🇰🇱🇷🇱🇸🇱🇹🇱🇺🇱🇻🇱🇾🇲🇦🇲🇨🇲🇩🇲🇪🇲🇫🇲🇬🇲🇭🇲🇰🇲🇱🇲🇲🇲🇳🇲🇴🇲🇵🇲🇶🇲🇷🇲🇸🇲🇹🇲🇺🇲🇻🇲🇼🇲🇽🇲🇾🇲🇿🇳🇦🇳🇨🇳🇪🇳🇫🇳🇬🇳🇮🇳🇱🇳🇴🇳🇵🇳🇷🇳🇺🇳🇿🇴🇲🇵🇦🇵🇪🇵🇫🇵🇬🇵🇭🇵🇰🇵🇱🇵🇲🇵🇳🇵🇷🇵🇸🇵🇹🇵🇼🇵🇾🇶🇦🇷🇪🇷🇴🇷🇸🇷🇺🇷🇼🇸🇦🇸🇧🇸🇨🇸🇩🇸🇪🇸🇬🇸🇭🇸🇮🇸🇯🇸🇰🇸🇱🇸🇲🇸🇳🇸🇴🇸🇷🇸🇸🇸🇹🇸🇻🇸🇽🇸🇾🇸🇿🇹🇦🇹🇨🇹🇩🇹🇫🇹🇬🇹🇭🇹🇯🇹🇰🇹🇱🇹🇲🇹🇳🇹🇴🇹🇷🇹🇹🇹🇻🇹🇼🇹🇿🇺🇦🇺🇬🇺🇲🇺🇳🇺🇸🇺🇾🇺🇿🇻🇦🇻🇨🇻🇪🇻🇬🇻🇮🇻🇳🇻🇺🇼🇫🇼🇸🇽🇰🇾🇪🇾🇹🇿🇦🇿🇲🇿🇼🏴󠁧󠁢󠁥󠁮󠁧󠁿🏴󠁧󠁢󠁳󠁣󠁴󠁿🏴󠁧󠁢󠁷󠁬󠁳󠁿]\")\n",
    "html = re.compile(r\"&\\w+;\")\n",
    "hashtag = re.compile(r\"#\\w+#?\")"
   ]
  },
  {
   "cell_type": "markdown",
   "metadata": {},
   "source": [
    "Reemplazamos los usuarios, los retweet y los enlaces por etiquetas"
   ]
  },
  {
   "cell_type": "code",
   "execution_count": 10,
   "metadata": {},
   "outputs": [
    {
     "name": "stdout",
     "output_type": "stream",
     "text": [
      "!!! RT @mayasolovely: As a woman you shouldn't complain about cleaning up your house. &amp; as a man you should always take the trash out...,Tweet,Hate Speech and Offensive Language Dataset\n",
      "\n",
      "['@mayasolovely:']\n",
      "[['Text,Type,Source\\n'\n",
      "  \" _RETWEET_  _USER_  As a woman you shouldn't complain about cleaning up your house. &amp; as a man you should always take the trash out...,Tweet,Hate Speech and Offensive Language Dataset\\n\"\n",
      "  ' _RETWEET_  _USER_  boy dats cold...tyga dwn bad for cuffin dat hoe in the 1st place!!,Tweet,Hate Speech and Offensive Language Dataset\\n'\n",
      "  ' _RETWEET_  _USER_  Dawg _RETWEET_  _User_  You ever fuck a bitch and she start to cry? You be confused as shit,Tweet,Hate Speech and Offensive Language Dataset\\n'\n",
      "  ' _RETWEET_  _USER_   _User_  she look like a tranny,Tweet,Hate Speech and Offensive Language Dataset\\n'\n",
      "  ' _RETWEET_  _USER_  The shit you hear about me might be true or it might be f _User_  than the bitch who told it to ya &#57361;,Tweet,Hate Speech and Offensive Language Dataset\\n'\n",
      "  '\"!!!!!!!!!!!!!!!!!!\"\" _USER_  The shit just blows me..claim you so faithful and down for somebody but still fucking with hoes! &#128514;&#128514;&#128514;\"\"\",Tweet,Hate Speech and Offensive Language Dataset\\n'\n",
      "  ' _USER_  causing the reply to be disregarded and the tapped notification under the keyboard is opened😡😡😡,Tweet,Customer Support on Twitter Dataset\\n'\n",
      "  '\" _USER_  Your business means a lot to us. Please DM your name, zip code and additional details about your concern. ^RR  _LINK_ \\n'\n",
      "  \" _USER_  I really hope you all change but I'm sure you won't! Because you don't have to!,Tweet,Customer Support on Twitter Dataset\\n\"\n",
      "  '\" _USER_  LiveChat is online at the moment -  _LINK_ \\n'\n",
      "  \" _USER_  see attached error message. I've tried leaving a voicemail several times in the past week  _LINK_ \\n\"\n",
      "  '\" _USER_  Have you tried from another device, Miriam ^MM\",Tweet,Customer Support on Twitter Dataset\\n'\n",
      "  '\" _USER_  yep, I\\'ve tried laptop too several times over the past week and again today. I\\'ve tried different browsers too\",Tweet,Customer Support on Twitter Dataset\\n'\n",
      "  '\" _USER_  It\\'s working OK from here, Miriam. Does this link help  _LINK_ \\n'\n",
      "  '\"Great CD: My lovely Pat has one of the GREAT voices of her generation. I have listened to this CD for YEARS and I still LOVE IT. When I\\'m in a good mood it makes me feel better. A bad mood just evaporates like sugar in the rain. This CD just oozes LIFE. Vocals are jusat STUUNNING and lyrics just kill. One of life\\'s hidden gems. This is a desert isle CD in my book. Why she never made it big is just beyond me. Everytime I play this, no matter black, white, young, old, male, female EVERYBODY says one thing \"\"Who was that singing ?\"\"\",Review,Amazon Reviews for Sentiment Analysis Dataset\\n'\n",
      "  '\"One of the best game music soundtracks - for a game I didn\\'t really play: Despite the fact that I have only played a small portion of the game, the music I heard (plus the connection to Chrono Trigger which was great as well) led me to purchase the soundtrack, and it remains one of my favorite albums. There is an incredible mix of fun, epic, and emotional songs. Those sad and beautiful tracks I especially like, as there\\'s not too many of those kinds of songs in my other video game soundtracks. I must admit that one of the songs (Life-A Distant Promise) has brought tears to my eyes on many occasions.My one complaint about this soundtrack is that they use guitar fretting effects in many of the songs, which I find distracting. But even if those weren\\'t included I would still consider the collection worth it.\",Review,Amazon Reviews for Sentiment Analysis Dataset\\n'\n",
      "  '\"Batteries died within a year ...: I bought this charger in Jul 2003 and it worked OK for a while. The design is nice and convenient. However, after about a year, the batteries would not hold a charge. Might as well just get alkaline disposables, or look elsewhere for a charger that comes with batteries that have better staying power.\",Review,Amazon Reviews for Sentiment Analysis Dataset\\n'\n",
      "  '\"works fine, but Maha Energy is better: Check out Maha Energy\\'s website. Their Powerex MH-C204F charger works in 100 minutes for rapid charge, with option for slower charge (better for batteries). And they have 2200 mAh batteries.\",Review,Amazon Reviews for Sentiment Analysis Dataset\\n'\n",
      "  '\"Great for the non-audiophile: Reviewed quite a bit of the combo players and was hesitant due to unfavorable reviews and size of machines. I am weaning off my VHS collection, but don\\'t want to replace them with DVD\\'s. This unit is well built, easy to setup and resolution and special effects (no progressive scan for HDTV owners) suitable for many people looking for a versatile product.Cons- No universal remote.\",Review,Amazon Reviews for Sentiment Analysis Dataset\\n'\n",
      "  '\"DVD Player crapped out after one year: I also began having the incorrect disc problems that I\\'ve read about on here. The VCR still works, but hte DVD side is useless. I understand that DVD players sometimes just quit on you, but after not even one year? To me that\\'s a sign on bad quality. I\\'m giving up JVC after this as well. I\\'m sticking to Sony or giving another brand a shot.\",Review,Amazon Reviews for Sentiment Analysis Dataset\\n'\n",
      "  'Amber Smith “Kandy Halloween: Return of the Haunted Mansion” Red Carpet #URL# via #USER#,Tweet,Fake News Detection Corpus\\n'\n",
      "  '\"\"\" _RETWEET_ Reuters \"\"\"\"Russia: Pence Balkans comments expose Washington\\'s Cold War ideology #URL# #URL#\"\"\"\"\"\"\",Tweet,Fake News Detection Corpus\\n'\n",
      "  'Jennifer Lopez and Alex Rodriguez Step Out for the First Time at the 2019 Met Gala as an Engaged Couple #URL#,Tweet,Fake News Detection Corpus\\n'\n",
      "  '\"\"\"92nd #HASHTAG# delayed in Brisbane, Adelaide &amp; Perth. #HASHTAG# #URL# #URL#\"\"\",Tweet,Fake News Detection Corpus\\n'\n",
      "  '#HASHTAG# to represent Australia at #HASHTAG# 2020! #HASHTAG# #URL# #URL#,Tweet,Fake News Detection Corpus\\n'\n",
      "  '\"Natural language processing (NLP) is an interdisciplinary subfield of computer science and linguistics. It is primarily concerned with giving computers the ability to support and manipulate human language. It involves processing natural language datasets, such as text corpora or speech corpora, using either rule-based or probabilistic (i.e. statistical and, most recently, neural network-based) machine learning approaches.\\\\n\",wiki,Wikipedia\\n'\n",
      "  '\"Challenges in natural language processing frequently involve speech recognition, natural-language understanding, and natural-language generation.\\\\n\",wiki,Wikipedia\\n'\n",
      "  '\"Natural language processing has its roots in the 1950s. Already in 1950, Alan Turing published an article titled \"\"Computing Machinery and Intelligence\"\" which proposed what is now called the Turing test as a criterion of intelligence, though at the time that was not articulated as a problem separate from artificial intelligence. The proposed test includes a task that involves the automated interpretation and generation of natural language.\\\\n\",wiki,Wikipedia\\n'\n",
      "  '\"The premise of symbolic NLP is well-summarized by John Searle\\'s Chinese room experiment: Given a collection of rules (e.g., a Chinese phrasebook, with questions and matching answers), the computer emulates natural language understanding (or other NLP tasks) by applying those rules to the data it confronts.\\\\n\",wiki,Wikipedia\\n'\n",
      "  '\"Up to the 1980s, most natural language processing systems were based on complex sets of hand-written rules.  Starting in the late 1980s, however, there was a revolution in natural language processing with the introduction of machine learning algorithms for language processing.  This was due to both the steady increase in computational power (see Moore\\'s law) and the gradual lessening of the dominance of Chomskyan theories of linguistics (e.g. transformational grammar), whose theoretical underpinnings discouraged the sort of corpus linguistics that underlies the machine-learning approach to language processing.[7]\\\\n\",wiki,Wikipedia\\n'\n",
      "  '\"  In neuropsychology, linguistics, and philosophy of language, a natural language or ordinary language is any language that occurs naturally in a human community by a process of use, repetition, and change without conscious planning or premeditation. It can take different forms, namely either a spoken language or a sign language. Natural languages are distinguished from constructed and formal languages such as those used to program computers or to study logic.[1]\",wiki,Wikipedia\\n'\n",
      "  '\"All varieties of world languages are natural languages, including those that are associated with linguistic prescriptivism or language regulation. (Nonstandard dialects can be viewed as a wild type in comparison with standard languages.) An official language with a regulating academy such as Standard French, overseen by the Académie Française, is classified as a natural language (e.g. in the field of natural language processing), as its prescriptive aspects do not make it constructed enough to be a constructed language or controlled enough to be a controlled natural language.\",wiki,Wikipedia\\n'\n",
      "  '\"Controlled natural languages are subsets of natural languages whose grammars and dictionaries have been restricted in order to reduce ambiguity and complexity. This may be accomplished by decreasing usage of superlative or adverbial forms, or irregular verbs. Typical purposes for developing and implementing a controlled natural language are to aid understanding by non-native speakers or to ease computer processing. An example of a widely-used controlled natural language is Simplified Technical English, which was originally developed for aerospace and avionics industry manuals.\",wiki,Wikipedia\\n'\n",
      "  '\"Being constructed, International auxiliary languages such as Esperanto and Interlingua are not considered natural languages, with the possible exception of true native speakers of such languages.[3] Natural languages evolve, through fluctuations in vocabulary and syntax, to incrementally improve human communication. In contrast, Esperanto was created by Polish ophthalmologist L. L. Zamenhof in the late 19th century.\",wiki,Wikipedia\\n'\n",
      "  '\"Some natural languages have become organically \"\"standardized\"\" through the synthesis of two or more pre-existing natural languages over a relatively short period of time through the development of a pidgin, which is not considered a language, into a stable creole language. A creole such as Haitian Creole has its own grammar, vocabulary and literature. It is spoken by over 10 million people worldwide and is one of the two official languages of the Republic of Haiti.\",wiki,Wikipedia']]\n"
     ]
    }
   ],
   "source": [
    "textos_procesados:list[str] = []\n",
    "\n",
    "print(textos[1])\n",
    "print(re.findall(usuario, textos[1]))\n",
    "\n",
    "# textos_procesados.append(textos[1].replace(re.findall(usuario, textos[1])[0],\"_USUARIO_\"))\n",
    "for i, texto in enumerate(textos):\n",
    "\n",
    "    if len(re.findall(usuario, texto)) > 0:\n",
    "\n",
    "        textos_procesados.append(texto.replace(re.findall(usuario, texto)[0],\" _USER_ \"))\n",
    "\n",
    "        if len(re.findall(usuario, textos_procesados[i])) > 0:\n",
    "\n",
    "            for find in re.findall(usuario, textos_procesados[i]):\n",
    "                textos_procesados[i] = textos_procesados[i].replace(find, \" _User_ \")\n",
    "\n",
    "        if len(re.findall(retweet, textos_procesados[i])) > 0:\n",
    "            textos_procesados[i] = textos_procesados[i].replace(re.findall(retweet, textos_procesados[i])[0], \" _RETWEET_ \")\n",
    "\n",
    "            if len(re.findall(retweet, textos_procesados[i])) > 0:\n",
    "\n",
    "                for find in re.findall(retweet, textos_procesados[i]):\n",
    "                    textos_procesados[i] = textos_procesados[i].replace(find, \" _RETWEET_ \")\n",
    "\n",
    "\n",
    "        if len(re.findall(enlace, textos_procesados[i])) > 0:\n",
    "\n",
    "            textos_procesados[i] = textos_procesados[i].replace(re.findall(enlace, textos_procesados[i])[0], \" _LINK_ \")\n",
    "            \n",
    "            if len(re.findall(enlace, textos_procesados[i])) > 0:\n",
    "\n",
    "                for find in re.findall(enlace, textos_procesados[i]):\n",
    "                    textos_procesados[i] = textos_procesados[i].replace(find, \" _LINK_ \")\n",
    "\n",
    "\n",
    "    elif len(re.findall(retweet, texto)) > 0:\n",
    "\n",
    "        textos_procesados.append(texto.replace(re.findall(retweet, texto)[0],\" _RETWEET_ \"))\n",
    "\n",
    "        if len(re.findall(retweet, textos_procesados[i])) > 0:\n",
    "\n",
    "                for find in re.findall(retweet, textos_procesados[i]):\n",
    "                    textos_procesados[i] = textos_procesados[i].replace(find, \" _RETWEET_ \")\n",
    "\n",
    "        if len(re.findall(enlace, textos_procesados[i])) > 0:\n",
    "                    \n",
    "            textos_procesados[i] = textos_procesados[i].replace(re.findall(enlace, textos_procesados[i])[0], \" _LINK_ \")\n",
    "\n",
    "            if len(re.findall(enlace, textos_procesados[i])) > 0:\n",
    "\n",
    "                for find in re.findall(enlace, textos_procesados[i]):\n",
    "                    textos_procesados[i] = textos_procesados[i].replace(find, \" _LINK_ \")\n",
    "\n",
    "\n",
    "    elif len(re.findall(enlace, texto)) > 0:\n",
    "\n",
    "        textos_procesados.append(texto.replace(re.findall(enlace, texto)[0],\" _LINK_ \"))\n",
    "\n",
    "        if len(re.findall(enlace, textos_procesados[i])) > 0:\n",
    "\n",
    "                for find in re.findall(enlace, textos_procesados[i]):\n",
    "                    textos_procesados[i] = textos_procesados[i].replace(find, \" _LINK_ \")\n",
    "\n",
    "    \n",
    "    else:\n",
    "        textos_procesados.append(texto)\n",
    "\n",
    "print(np.matrix(textos_procesados))"
   ]
  },
  {
   "cell_type": "markdown",
   "metadata": {},
   "source": [
    "## Eliminando Emojis"
   ]
  },
  {
   "cell_type": "code",
   "execution_count": 12,
   "metadata": {},
   "outputs": [
    {
     "name": "stdout",
     "output_type": "stream",
     "text": [
      "[['Text,Type,Source\\n'\n",
      "  \" _RETWEET_  _USER_  As a woman you shouldn't complain about cleaning up your house. &amp; as a man you should always take the trash out...,Tweet,Hate Speech and Offensive Language Dataset\\n\"\n",
      "  ' _RETWEET_  _USER_  boy dats cold...tyga dwn bad for cuffin dat hoe in the 1st place!!,Tweet,Hate Speech and Offensive Language Dataset\\n'\n",
      "  ' _RETWEET_  _USER_  Dawg _RETWEET_  _User_  You ever fuck a bitch and she start to cry? You be confused as shit,Tweet,Hate Speech and Offensive Language Dataset\\n'\n",
      "  ' _RETWEET_  _USER_   _User_  she look like a tranny,Tweet,Hate Speech and Offensive Language Dataset\\n'\n",
      "  ' _RETWEET_  _USER_  The shit you hear about me might be true or it might be f _User_  than the bitch who told it to ya &#57361;,Tweet,Hate Speech and Offensive Language Dataset\\n'\n",
      "  '\"!!!!!!!!!!!!!!!!!!\"\" _USER_  The shit just blows me..claim you so faithful and down for somebody but still fucking with hoes! &#128514;&#128514;&#128514;\"\"\",Tweet,Hate Speech and Offensive Language Dataset\\n'\n",
      "  ' _USER_  causing the reply to be disregarded and the tapped notification under the keyboard is opened😡😡😡,Tweet,Customer Support on Twitter Dataset\\n'\n",
      "  '\" _USER_  Your business means a lot to us. Please DM your name, zip code and additional details about your concern. ^RR  _LINK_ \\n'\n",
      "  \" _USER_  I really hope you all change but I'm sure you won't! Because you don't have to!,Tweet,Customer Support on Twitter Dataset\\n\"\n",
      "  '\" _USER_  LiveChat is online at the moment -  _LINK_ \\n'\n",
      "  \" _USER_  see attached error message. I've tried leaving a voicemail several times in the past week  _LINK_ \\n\"\n",
      "  '\" _USER_  Have you tried from another device, Miriam ^MM\",Tweet,Customer Support on Twitter Dataset\\n'\n",
      "  '\" _USER_  yep, I\\'ve tried laptop too several times over the past week and again today. I\\'ve tried different browsers too\",Tweet,Customer Support on Twitter Dataset\\n'\n",
      "  '\" _USER_  It\\'s working OK from here, Miriam. Does this link help  _LINK_ \\n'\n",
      "  '\"Great CD: My lovely Pat has one of the GREAT voices of her generation. I have listened to this CD for YEARS and I still LOVE IT. When I\\'m in a good mood it makes me feel better. A bad mood just evaporates like sugar in the rain. This CD just oozes LIFE. Vocals are jusat STUUNNING and lyrics just kill. One of life\\'s hidden gems. This is a desert isle CD in my book. Why she never made it big is just beyond me. Everytime I play this, no matter black, white, young, old, male, female EVERYBODY says one thing \"\"Who was that singing ?\"\"\",Review,Amazon Reviews for Sentiment Analysis Dataset\\n'\n",
      "  '\"One of the best game music soundtracks - for a game I didn\\'t really play: Despite the fact that I have only played a small portion of the game, the music I heard (plus the connection to Chrono Trigger which was great as well) led me to purchase the soundtrack, and it remains one of my favorite albums. There is an incredible mix of fun, epic, and emotional songs. Those sad and beautiful tracks I especially like, as there\\'s not too many of those kinds of songs in my other video game soundtracks. I must admit that one of the songs (Life-A Distant Promise) has brought tears to my eyes on many occasions.My one complaint about this soundtrack is that they use guitar fretting effects in many of the songs, which I find distracting. But even if those weren\\'t included I would still consider the collection worth it.\",Review,Amazon Reviews for Sentiment Analysis Dataset\\n'\n",
      "  '\"Batteries died within a year ...: I bought this charger in Jul 2003 and it worked OK for a while. The design is nice and convenient. However, after about a year, the batteries would not hold a charge. Might as well just get alkaline disposables, or look elsewhere for a charger that comes with batteries that have better staying power.\",Review,Amazon Reviews for Sentiment Analysis Dataset\\n'\n",
      "  '\"works fine, but Maha Energy is better: Check out Maha Energy\\'s website. Their Powerex MH-C204F charger works in 100 minutes for rapid charge, with option for slower charge (better for batteries). And they have 2200 mAh batteries.\",Review,Amazon Reviews for Sentiment Analysis Dataset\\n'\n",
      "  '\"Great for the non-audiophile: Reviewed quite a bit of the combo players and was hesitant due to unfavorable reviews and size of machines. I am weaning off my VHS collection, but don\\'t want to replace them with DVD\\'s. This unit is well built, easy to setup and resolution and special effects (no progressive scan for HDTV owners) suitable for many people looking for a versatile product.Cons- No universal remote.\",Review,Amazon Reviews for Sentiment Analysis Dataset\\n'\n",
      "  '\"DVD Player crapped out after one year: I also began having the incorrect disc problems that I\\'ve read about on here. The VCR still works, but hte DVD side is useless. I understand that DVD players sometimes just quit on you, but after not even one year? To me that\\'s a sign on bad quality. I\\'m giving up JVC after this as well. I\\'m sticking to Sony or giving another brand a shot.\",Review,Amazon Reviews for Sentiment Analysis Dataset\\n'\n",
      "  'Amber Smith “Kandy Halloween: Return of the Haunted Mansion” Red Carpet #URL# via #USER#,Tweet,Fake News Detection Corpus\\n'\n",
      "  '\"\"\" _RETWEET_ Reuters \"\"\"\"Russia: Pence Balkans comments expose Washington\\'s Cold War ideology #URL# #URL#\"\"\"\"\"\"\",Tweet,Fake News Detection Corpus\\n'\n",
      "  'Jennifer Lopez and Alex Rodriguez Step Out for the First Time at the 2019 Met Gala as an Engaged Couple #URL#,Tweet,Fake News Detection Corpus\\n'\n",
      "  '\"\"\"92nd #HASHTAG# delayed in Brisbane, Adelaide &amp; Perth. #HASHTAG# #URL# #URL#\"\"\",Tweet,Fake News Detection Corpus\\n'\n",
      "  '#HASHTAG# to represent Australia at #HASHTAG# 2020! #HASHTAG# #URL# #URL#,Tweet,Fake News Detection Corpus\\n'\n",
      "  '\"Natural language processing (NLP) is an interdisciplinary subfield of computer science and linguistics. It is primarily concerned with giving computers the ability to support and manipulate human language. It involves processing natural language datasets, such as text corpora or speech corpora, using either rule-based or probabilistic (i.e. statistical and, most recently, neural network-based) machine learning approaches.\\\\n\",wiki,Wikipedia\\n'\n",
      "  '\"Challenges in natural language processing frequently involve speech recognition, natural-language understanding, and natural-language generation.\\\\n\",wiki,Wikipedia\\n'\n",
      "  '\"Natural language processing has its roots in the 1950s. Already in 1950, Alan Turing published an article titled \"\"Computing Machinery and Intelligence\"\" which proposed what is now called the Turing test as a criterion of intelligence, though at the time that was not articulated as a problem separate from artificial intelligence. The proposed test includes a task that involves the automated interpretation and generation of natural language.\\\\n\",wiki,Wikipedia\\n'\n",
      "  '\"The premise of symbolic NLP is well-summarized by John Searle\\'s Chinese room experiment: Given a collection of rules (e.g., a Chinese phrasebook, with questions and matching answers), the computer emulates natural language understanding (or other NLP tasks) by applying those rules to the data it confronts.\\\\n\",wiki,Wikipedia\\n'\n",
      "  '\"Up to the 1980s, most natural language processing systems were based on complex sets of hand-written rules.  Starting in the late 1980s, however, there was a revolution in natural language processing with the introduction of machine learning algorithms for language processing.  This was due to both the steady increase in computational power (see Moore\\'s law) and the gradual lessening of the dominance of Chomskyan theories of linguistics (e.g. transformational grammar), whose theoretical underpinnings discouraged the sort of corpus linguistics that underlies the machine-learning approach to language processing.[7]\\\\n\",wiki,Wikipedia\\n'\n",
      "  '\"  In neuropsychology, linguistics, and philosophy of language, a natural language or ordinary language is any language that occurs naturally in a human community by a process of use, repetition, and change without conscious planning or premeditation. It can take different forms, namely either a spoken language or a sign language. Natural languages are distinguished from constructed and formal languages such as those used to program computers or to study logic.[1]\",wiki,Wikipedia\\n'\n",
      "  '\"All varieties of world languages are natural languages, including those that are associated with linguistic prescriptivism or language regulation. (Nonstandard dialects can be viewed as a wild type in comparison with standard languages.) An official language with a regulating academy such as Standard French, overseen by the Académie Française, is classified as a natural language (e.g. in the field of natural language processing), as its prescriptive aspects do not make it constructed enough to be a constructed language or controlled enough to be a controlled natural language.\",wiki,Wikipedia\\n'\n",
      "  '\"Controlled natural languages are subsets of natural languages whose grammars and dictionaries have been restricted in order to reduce ambiguity and complexity. This may be accomplished by decreasing usage of superlative or adverbial forms, or irregular verbs. Typical purposes for developing and implementing a controlled natural language are to aid understanding by non-native speakers or to ease computer processing. An example of a widely-used controlled natural language is Simplified Technical English, which was originally developed for aerospace and avionics industry manuals.\",wiki,Wikipedia\\n'\n",
      "  '\"Being constructed, International auxiliary languages such as Esperanto and Interlingua are not considered natural languages, with the possible exception of true native speakers of such languages.[3] Natural languages evolve, through fluctuations in vocabulary and syntax, to incrementally improve human communication. In contrast, Esperanto was created by Polish ophthalmologist L. L. Zamenhof in the late 19th century.\",wiki,Wikipedia\\n'\n",
      "  '\"Some natural languages have become organically \"\"standardized\"\" through the synthesis of two or more pre-existing natural languages over a relatively short period of time through the development of a pidgin, which is not considered a language, into a stable creole language. A creole such as Haitian Creole has its own grammar, vocabulary and literature. It is spoken by over 10 million people worldwide and is one of the two official languages of the Republic of Haiti.\",wiki,Wikipedia']]\n"
     ]
    }
   ],
   "source": [
    "for i, texto in enumerate(textos_procesados):\n",
    "\n",
    "    for emogi in re.findall(emogi, textos_procesados[i]):\n",
    "        textos_procesados[i] = textos_procesados[i].replace(emogi, \" _EMOjI_ \")\n",
    "\n",
    "    # emoji.replace_emoji(textos_procesados[i], replace=\" _EMOJI_ \")\n",
    "\n",
    "print(np.matrix(textos_procesados))"
   ]
  },
  {
   "cell_type": "markdown",
   "metadata": {},
   "source": [
    "### No todos los emojis se pueden eliminar!!!! Es frustrante, pero no se pueden eliminar, ni siquiera con la libreria de emoji"
   ]
  },
  {
   "cell_type": "markdown",
   "metadata": {},
   "source": [
    "Eliminamos las etiquetas de html &amp; entre otras, ya que el texto no parece tener etiquetas html <>"
   ]
  },
  {
   "cell_type": "code",
   "execution_count": 13,
   "metadata": {},
   "outputs": [
    {
     "name": "stdout",
     "output_type": "stream",
     "text": [
      "[['Text,Type,Source\\n'\n",
      "  \" _RETWEET_  _USER_  As a woman you shouldn't complain about cleaning up your house.  as a man you should always take the trash out...,Tweet,Hate Speech and Offensive Language Dataset\\n\"\n",
      "  ' _RETWEET_  _USER_  boy dats cold...tyga dwn bad for cuffin dat hoe in the 1st place!!,Tweet,Hate Speech and Offensive Language Dataset\\n'\n",
      "  ' _RETWEET_  _USER_  Dawg _RETWEET_  _User_  You ever fuck a bitch and she start to cry? You be confused as shit,Tweet,Hate Speech and Offensive Language Dataset\\n'\n",
      "  ' _RETWEET_  _USER_   _User_  she look like a tranny,Tweet,Hate Speech and Offensive Language Dataset\\n'\n",
      "  ' _RETWEET_  _USER_  The shit you hear about me might be true or it might be f _User_  than the bitch who told it to ya &#57361;,Tweet,Hate Speech and Offensive Language Dataset\\n'\n",
      "  '\"!!!!!!!!!!!!!!!!!!\"\" _USER_  The shit just blows me..claim you so faithful and down for somebody but still fucking with hoes! &#128514;&#128514;&#128514;\"\"\",Tweet,Hate Speech and Offensive Language Dataset\\n'\n",
      "  ' _USER_  causing the reply to be disregarded and the tapped notification under the keyboard is opened😡😡😡,Tweet,Customer Support on Twitter Dataset\\n'\n",
      "  '\" _USER_  Your business means a lot to us. Please DM your name, zip code and additional details about your concern. ^RR  _LINK_ \\n'\n",
      "  \" _USER_  I really hope you all change but I'm sure you won't! Because you don't have to!,Tweet,Customer Support on Twitter Dataset\\n\"\n",
      "  '\" _USER_  LiveChat is online at the moment -  _LINK_ \\n'\n",
      "  \" _USER_  see attached error message. I've tried leaving a voicemail several times in the past week  _LINK_ \\n\"\n",
      "  '\" _USER_  Have you tried from another device, Miriam ^MM\",Tweet,Customer Support on Twitter Dataset\\n'\n",
      "  '\" _USER_  yep, I\\'ve tried laptop too several times over the past week and again today. I\\'ve tried different browsers too\",Tweet,Customer Support on Twitter Dataset\\n'\n",
      "  '\" _USER_  It\\'s working OK from here, Miriam. Does this link help  _LINK_ \\n'\n",
      "  '\"Great CD: My lovely Pat has one of the GREAT voices of her generation. I have listened to this CD for YEARS and I still LOVE IT. When I\\'m in a good mood it makes me feel better. A bad mood just evaporates like sugar in the rain. This CD just oozes LIFE. Vocals are jusat STUUNNING and lyrics just kill. One of life\\'s hidden gems. This is a desert isle CD in my book. Why she never made it big is just beyond me. Everytime I play this, no matter black, white, young, old, male, female EVERYBODY says one thing \"\"Who was that singing ?\"\"\",Review,Amazon Reviews for Sentiment Analysis Dataset\\n'\n",
      "  '\"One of the best game music soundtracks - for a game I didn\\'t really play: Despite the fact that I have only played a small portion of the game, the music I heard (plus the connection to Chrono Trigger which was great as well) led me to purchase the soundtrack, and it remains one of my favorite albums. There is an incredible mix of fun, epic, and emotional songs. Those sad and beautiful tracks I especially like, as there\\'s not too many of those kinds of songs in my other video game soundtracks. I must admit that one of the songs (Life-A Distant Promise) has brought tears to my eyes on many occasions.My one complaint about this soundtrack is that they use guitar fretting effects in many of the songs, which I find distracting. But even if those weren\\'t included I would still consider the collection worth it.\",Review,Amazon Reviews for Sentiment Analysis Dataset\\n'\n",
      "  '\"Batteries died within a year ...: I bought this charger in Jul 2003 and it worked OK for a while. The design is nice and convenient. However, after about a year, the batteries would not hold a charge. Might as well just get alkaline disposables, or look elsewhere for a charger that comes with batteries that have better staying power.\",Review,Amazon Reviews for Sentiment Analysis Dataset\\n'\n",
      "  '\"works fine, but Maha Energy is better: Check out Maha Energy\\'s website. Their Powerex MH-C204F charger works in 100 minutes for rapid charge, with option for slower charge (better for batteries). And they have 2200 mAh batteries.\",Review,Amazon Reviews for Sentiment Analysis Dataset\\n'\n",
      "  '\"Great for the non-audiophile: Reviewed quite a bit of the combo players and was hesitant due to unfavorable reviews and size of machines. I am weaning off my VHS collection, but don\\'t want to replace them with DVD\\'s. This unit is well built, easy to setup and resolution and special effects (no progressive scan for HDTV owners) suitable for many people looking for a versatile product.Cons- No universal remote.\",Review,Amazon Reviews for Sentiment Analysis Dataset\\n'\n",
      "  '\"DVD Player crapped out after one year: I also began having the incorrect disc problems that I\\'ve read about on here. The VCR still works, but hte DVD side is useless. I understand that DVD players sometimes just quit on you, but after not even one year? To me that\\'s a sign on bad quality. I\\'m giving up JVC after this as well. I\\'m sticking to Sony or giving another brand a shot.\",Review,Amazon Reviews for Sentiment Analysis Dataset\\n'\n",
      "  'Amber Smith “Kandy Halloween: Return of the Haunted Mansion” Red Carpet #URL# via #USER#,Tweet,Fake News Detection Corpus\\n'\n",
      "  '\"\"\" _RETWEET_ Reuters \"\"\"\"Russia: Pence Balkans comments expose Washington\\'s Cold War ideology #URL# #URL#\"\"\"\"\"\"\",Tweet,Fake News Detection Corpus\\n'\n",
      "  'Jennifer Lopez and Alex Rodriguez Step Out for the First Time at the 2019 Met Gala as an Engaged Couple #URL#,Tweet,Fake News Detection Corpus\\n'\n",
      "  '\"\"\"92nd #HASHTAG# delayed in Brisbane, Adelaide  Perth. #HASHTAG# #URL# #URL#\"\"\",Tweet,Fake News Detection Corpus\\n'\n",
      "  '#HASHTAG# to represent Australia at #HASHTAG# 2020! #HASHTAG# #URL# #URL#,Tweet,Fake News Detection Corpus\\n'\n",
      "  '\"Natural language processing (NLP) is an interdisciplinary subfield of computer science and linguistics. It is primarily concerned with giving computers the ability to support and manipulate human language. It involves processing natural language datasets, such as text corpora or speech corpora, using either rule-based or probabilistic (i.e. statistical and, most recently, neural network-based) machine learning approaches.\\\\n\",wiki,Wikipedia\\n'\n",
      "  '\"Challenges in natural language processing frequently involve speech recognition, natural-language understanding, and natural-language generation.\\\\n\",wiki,Wikipedia\\n'\n",
      "  '\"Natural language processing has its roots in the 1950s. Already in 1950, Alan Turing published an article titled \"\"Computing Machinery and Intelligence\"\" which proposed what is now called the Turing test as a criterion of intelligence, though at the time that was not articulated as a problem separate from artificial intelligence. The proposed test includes a task that involves the automated interpretation and generation of natural language.\\\\n\",wiki,Wikipedia\\n'\n",
      "  '\"The premise of symbolic NLP is well-summarized by John Searle\\'s Chinese room experiment: Given a collection of rules (e.g., a Chinese phrasebook, with questions and matching answers), the computer emulates natural language understanding (or other NLP tasks) by applying those rules to the data it confronts.\\\\n\",wiki,Wikipedia\\n'\n",
      "  '\"Up to the 1980s, most natural language processing systems were based on complex sets of hand-written rules.  Starting in the late 1980s, however, there was a revolution in natural language processing with the introduction of machine learning algorithms for language processing.  This was due to both the steady increase in computational power (see Moore\\'s law) and the gradual lessening of the dominance of Chomskyan theories of linguistics (e.g. transformational grammar), whose theoretical underpinnings discouraged the sort of corpus linguistics that underlies the machine-learning approach to language processing.[7]\\\\n\",wiki,Wikipedia\\n'\n",
      "  '\"  In neuropsychology, linguistics, and philosophy of language, a natural language or ordinary language is any language that occurs naturally in a human community by a process of use, repetition, and change without conscious planning or premeditation. It can take different forms, namely either a spoken language or a sign language. Natural languages are distinguished from constructed and formal languages such as those used to program computers or to study logic.[1]\",wiki,Wikipedia\\n'\n",
      "  '\"All varieties of world languages are natural languages, including those that are associated with linguistic prescriptivism or language regulation. (Nonstandard dialects can be viewed as a wild type in comparison with standard languages.) An official language with a regulating academy such as Standard French, overseen by the Académie Française, is classified as a natural language (e.g. in the field of natural language processing), as its prescriptive aspects do not make it constructed enough to be a constructed language or controlled enough to be a controlled natural language.\",wiki,Wikipedia\\n'\n",
      "  '\"Controlled natural languages are subsets of natural languages whose grammars and dictionaries have been restricted in order to reduce ambiguity and complexity. This may be accomplished by decreasing usage of superlative or adverbial forms, or irregular verbs. Typical purposes for developing and implementing a controlled natural language are to aid understanding by non-native speakers or to ease computer processing. An example of a widely-used controlled natural language is Simplified Technical English, which was originally developed for aerospace and avionics industry manuals.\",wiki,Wikipedia\\n'\n",
      "  '\"Being constructed, International auxiliary languages such as Esperanto and Interlingua are not considered natural languages, with the possible exception of true native speakers of such languages.[3] Natural languages evolve, through fluctuations in vocabulary and syntax, to incrementally improve human communication. In contrast, Esperanto was created by Polish ophthalmologist L. L. Zamenhof in the late 19th century.\",wiki,Wikipedia\\n'\n",
      "  '\"Some natural languages have become organically \"\"standardized\"\" through the synthesis of two or more pre-existing natural languages over a relatively short period of time through the development of a pidgin, which is not considered a language, into a stable creole language. A creole such as Haitian Creole has its own grammar, vocabulary and literature. It is spoken by over 10 million people worldwide and is one of the two official languages of the Republic of Haiti.\",wiki,Wikipedia']]\n"
     ]
    }
   ],
   "source": [
    "for i, texto in enumerate(textos_procesados):\n",
    "\n",
    "    for etiqueta in re.findall(html, textos_procesados[i]):\n",
    "        textos_procesados[i] = textos_procesados[i].replace(etiqueta, \"\")\n",
    "\n",
    "print(np.matrix(textos_procesados))"
   ]
  },
  {
   "cell_type": "markdown",
   "metadata": {},
   "source": [
    "# Sustituyamos los hashtags por etiquetas _HASHTAG_"
   ]
  },
  {
   "cell_type": "code",
   "execution_count": 14,
   "metadata": {},
   "outputs": [
    {
     "name": "stdout",
     "output_type": "stream",
     "text": [
      "[['Text,Type,Source\\n'\n",
      "  \" _RETWEET_  _USER_  As a woman you shouldn't complain about cleaning up your house.  as a man you should always take the trash out...,Tweet,Hate Speech and Offensive Language Dataset\\n\"\n",
      "  ' _RETWEET_  _USER_  boy dats cold...tyga dwn bad for cuffin dat hoe in the 1st place!!,Tweet,Hate Speech and Offensive Language Dataset\\n'\n",
      "  ' _RETWEET_  _USER_  Dawg _RETWEET_  _User_  You ever fuck a bitch and she start to cry? You be confused as shit,Tweet,Hate Speech and Offensive Language Dataset\\n'\n",
      "  ' _RETWEET_  _USER_   _User_  she look like a tranny,Tweet,Hate Speech and Offensive Language Dataset\\n'\n",
      "  ' _RETWEET_  _USER_  The shit you hear about me might be true or it might be f _User_  than the bitch who told it to ya & _HASHTAG_ ;,Tweet,Hate Speech and Offensive Language Dataset\\n'\n",
      "  '\"!!!!!!!!!!!!!!!!!!\"\" _USER_  The shit just blows me..claim you so faithful and down for somebody but still fucking with hoes! & _HASHTAG_ ;& _HASHTAG_ ;& _HASHTAG_ ;\"\"\",Tweet,Hate Speech and Offensive Language Dataset\\n'\n",
      "  ' _USER_  causing the reply to be disregarded and the tapped notification under the keyboard is opened😡😡😡,Tweet,Customer Support on Twitter Dataset\\n'\n",
      "  '\" _USER_  Your business means a lot to us. Please DM your name, zip code and additional details about your concern. ^RR  _LINK_ \\n'\n",
      "  \" _USER_  I really hope you all change but I'm sure you won't! Because you don't have to!,Tweet,Customer Support on Twitter Dataset\\n\"\n",
      "  '\" _USER_  LiveChat is online at the moment -  _LINK_ \\n'\n",
      "  \" _USER_  see attached error message. I've tried leaving a voicemail several times in the past week  _LINK_ \\n\"\n",
      "  '\" _USER_  Have you tried from another device, Miriam ^MM\",Tweet,Customer Support on Twitter Dataset\\n'\n",
      "  '\" _USER_  yep, I\\'ve tried laptop too several times over the past week and again today. I\\'ve tried different browsers too\",Tweet,Customer Support on Twitter Dataset\\n'\n",
      "  '\" _USER_  It\\'s working OK from here, Miriam. Does this link help  _LINK_ \\n'\n",
      "  '\"Great CD: My lovely Pat has one of the GREAT voices of her generation. I have listened to this CD for YEARS and I still LOVE IT. When I\\'m in a good mood it makes me feel better. A bad mood just evaporates like sugar in the rain. This CD just oozes LIFE. Vocals are jusat STUUNNING and lyrics just kill. One of life\\'s hidden gems. This is a desert isle CD in my book. Why she never made it big is just beyond me. Everytime I play this, no matter black, white, young, old, male, female EVERYBODY says one thing \"\"Who was that singing ?\"\"\",Review,Amazon Reviews for Sentiment Analysis Dataset\\n'\n",
      "  '\"One of the best game music soundtracks - for a game I didn\\'t really play: Despite the fact that I have only played a small portion of the game, the music I heard (plus the connection to Chrono Trigger which was great as well) led me to purchase the soundtrack, and it remains one of my favorite albums. There is an incredible mix of fun, epic, and emotional songs. Those sad and beautiful tracks I especially like, as there\\'s not too many of those kinds of songs in my other video game soundtracks. I must admit that one of the songs (Life-A Distant Promise) has brought tears to my eyes on many occasions.My one complaint about this soundtrack is that they use guitar fretting effects in many of the songs, which I find distracting. But even if those weren\\'t included I would still consider the collection worth it.\",Review,Amazon Reviews for Sentiment Analysis Dataset\\n'\n",
      "  '\"Batteries died within a year ...: I bought this charger in Jul 2003 and it worked OK for a while. The design is nice and convenient. However, after about a year, the batteries would not hold a charge. Might as well just get alkaline disposables, or look elsewhere for a charger that comes with batteries that have better staying power.\",Review,Amazon Reviews for Sentiment Analysis Dataset\\n'\n",
      "  '\"works fine, but Maha Energy is better: Check out Maha Energy\\'s website. Their Powerex MH-C204F charger works in 100 minutes for rapid charge, with option for slower charge (better for batteries). And they have 2200 mAh batteries.\",Review,Amazon Reviews for Sentiment Analysis Dataset\\n'\n",
      "  '\"Great for the non-audiophile: Reviewed quite a bit of the combo players and was hesitant due to unfavorable reviews and size of machines. I am weaning off my VHS collection, but don\\'t want to replace them with DVD\\'s. This unit is well built, easy to setup and resolution and special effects (no progressive scan for HDTV owners) suitable for many people looking for a versatile product.Cons- No universal remote.\",Review,Amazon Reviews for Sentiment Analysis Dataset\\n'\n",
      "  '\"DVD Player crapped out after one year: I also began having the incorrect disc problems that I\\'ve read about on here. The VCR still works, but hte DVD side is useless. I understand that DVD players sometimes just quit on you, but after not even one year? To me that\\'s a sign on bad quality. I\\'m giving up JVC after this as well. I\\'m sticking to Sony or giving another brand a shot.\",Review,Amazon Reviews for Sentiment Analysis Dataset\\n'\n",
      "  'Amber Smith “Kandy Halloween: Return of the Haunted Mansion” Red Carpet  _HASHTAG_  via  _HASHTAG_ ,Tweet,Fake News Detection Corpus\\n'\n",
      "  '\"\"\" _RETWEET_ Reuters \"\"\"\"Russia: Pence Balkans comments expose Washington\\'s Cold War ideology  _HASHTAG_   _HASHTAG_ \"\"\"\"\"\"\",Tweet,Fake News Detection Corpus\\n'\n",
      "  'Jennifer Lopez and Alex Rodriguez Step Out for the First Time at the 2019 Met Gala as an Engaged Couple  _HASHTAG_ ,Tweet,Fake News Detection Corpus\\n'\n",
      "  '\"\"\"92nd  _HASHTAG_  delayed in Brisbane, Adelaide  Perth.  _HASHTAG_   _HASHTAG_   _HASHTAG_ \"\"\",Tweet,Fake News Detection Corpus\\n'\n",
      "  ' _HASHTAG_  to represent Australia at  _HASHTAG_  2020!  _HASHTAG_   _HASHTAG_   _HASHTAG_ ,Tweet,Fake News Detection Corpus\\n'\n",
      "  '\"Natural language processing (NLP) is an interdisciplinary subfield of computer science and linguistics. It is primarily concerned with giving computers the ability to support and manipulate human language. It involves processing natural language datasets, such as text corpora or speech corpora, using either rule-based or probabilistic (i.e. statistical and, most recently, neural network-based) machine learning approaches.\\\\n\",wiki,Wikipedia\\n'\n",
      "  '\"Challenges in natural language processing frequently involve speech recognition, natural-language understanding, and natural-language generation.\\\\n\",wiki,Wikipedia\\n'\n",
      "  '\"Natural language processing has its roots in the 1950s. Already in 1950, Alan Turing published an article titled \"\"Computing Machinery and Intelligence\"\" which proposed what is now called the Turing test as a criterion of intelligence, though at the time that was not articulated as a problem separate from artificial intelligence. The proposed test includes a task that involves the automated interpretation and generation of natural language.\\\\n\",wiki,Wikipedia\\n'\n",
      "  '\"The premise of symbolic NLP is well-summarized by John Searle\\'s Chinese room experiment: Given a collection of rules (e.g., a Chinese phrasebook, with questions and matching answers), the computer emulates natural language understanding (or other NLP tasks) by applying those rules to the data it confronts.\\\\n\",wiki,Wikipedia\\n'\n",
      "  '\"Up to the 1980s, most natural language processing systems were based on complex sets of hand-written rules.  Starting in the late 1980s, however, there was a revolution in natural language processing with the introduction of machine learning algorithms for language processing.  This was due to both the steady increase in computational power (see Moore\\'s law) and the gradual lessening of the dominance of Chomskyan theories of linguistics (e.g. transformational grammar), whose theoretical underpinnings discouraged the sort of corpus linguistics that underlies the machine-learning approach to language processing.[7]\\\\n\",wiki,Wikipedia\\n'\n",
      "  '\"  In neuropsychology, linguistics, and philosophy of language, a natural language or ordinary language is any language that occurs naturally in a human community by a process of use, repetition, and change without conscious planning or premeditation. It can take different forms, namely either a spoken language or a sign language. Natural languages are distinguished from constructed and formal languages such as those used to program computers or to study logic.[1]\",wiki,Wikipedia\\n'\n",
      "  '\"All varieties of world languages are natural languages, including those that are associated with linguistic prescriptivism or language regulation. (Nonstandard dialects can be viewed as a wild type in comparison with standard languages.) An official language with a regulating academy such as Standard French, overseen by the Académie Française, is classified as a natural language (e.g. in the field of natural language processing), as its prescriptive aspects do not make it constructed enough to be a constructed language or controlled enough to be a controlled natural language.\",wiki,Wikipedia\\n'\n",
      "  '\"Controlled natural languages are subsets of natural languages whose grammars and dictionaries have been restricted in order to reduce ambiguity and complexity. This may be accomplished by decreasing usage of superlative or adverbial forms, or irregular verbs. Typical purposes for developing and implementing a controlled natural language are to aid understanding by non-native speakers or to ease computer processing. An example of a widely-used controlled natural language is Simplified Technical English, which was originally developed for aerospace and avionics industry manuals.\",wiki,Wikipedia\\n'\n",
      "  '\"Being constructed, International auxiliary languages such as Esperanto and Interlingua are not considered natural languages, with the possible exception of true native speakers of such languages.[3] Natural languages evolve, through fluctuations in vocabulary and syntax, to incrementally improve human communication. In contrast, Esperanto was created by Polish ophthalmologist L. L. Zamenhof in the late 19th century.\",wiki,Wikipedia\\n'\n",
      "  '\"Some natural languages have become organically \"\"standardized\"\" through the synthesis of two or more pre-existing natural languages over a relatively short period of time through the development of a pidgin, which is not considered a language, into a stable creole language. A creole such as Haitian Creole has its own grammar, vocabulary and literature. It is spoken by over 10 million people worldwide and is one of the two official languages of the Republic of Haiti.\",wiki,Wikipedia']]\n"
     ]
    }
   ],
   "source": [
    "for i, texto in enumerate(textos_procesados):\n",
    "\n",
    "    for gato in re.findall(hashtag, textos_procesados[i]):\n",
    "        textos_procesados[i] = textos_procesados[i].replace(gato, \" _HASHTAG_ \")\n",
    "\n",
    "print(np.matrix(textos_procesados))"
   ]
  },
  {
   "cell_type": "markdown",
   "metadata": {},
   "source": [
    "# Agreguemos el resultado a la segunda columna del csv"
   ]
  },
  {
   "cell_type": "code",
   "execution_count": 18,
   "metadata": {},
   "outputs": [
    {
     "name": "stdout",
     "output_type": "stream",
     "text": [
      "                                                 Text    Type  \\\n",
      "0   !!! RT @mayasolovely: As a woman you shouldn't...   Tweet   \n",
      "1   !!!!! RT @mleew17: boy dats cold...tyga dwn ba...   Tweet   \n",
      "2   !!!!!!! RT @UrKindOfBrand Dawg!!!! RT @80sbaby...   Tweet   \n",
      "3   !!!!!!!!! RT @C_G_Anderson: @viva_based she lo...   Tweet   \n",
      "4   !!!!!!!!!!!!! RT @ShenikaRoberts: The shit you...   Tweet   \n",
      "5   !!!!!!!!!!!!!!!!!!\"@T_Madison_x: The shit just...   Tweet   \n",
      "6   @AppleSupport causing the reply to be disregar...   Tweet   \n",
      "7   @105835 Your business means a lot to us. Pleas...   Tweet   \n",
      "8   @76328 I really hope you all change but I'm su...   Tweet   \n",
      "9   @105836 LiveChat is online at the moment - htt...   Tweet   \n",
      "10  @VirginTrains see attached error message. I've...   Tweet   \n",
      "11  @105836 Have you tried from another device, Mi...   Tweet   \n",
      "12  @VirginTrains yep, I've tried laptop too sever...   Tweet   \n",
      "13  @105836 It's working OK from here, Miriam. Doe...   Tweet   \n",
      "14  Great CD: My lovely Pat has one of the GREAT v...  Review   \n",
      "15  One of the best game music soundtracks - for a...  Review   \n",
      "16  Batteries died within a year ...: I bought thi...  Review   \n",
      "17  works fine, but Maha Energy is better: Check o...  Review   \n",
      "18  Great for the non-audiophile: Reviewed quite a...  Review   \n",
      "19  DVD Player crapped out after one year: I also ...  Review   \n",
      "20  Amber Smith “Kandy Halloween: Return of the Ha...   Tweet   \n",
      "21  \"RT Reuters \"\"Russia: Pence Balkans comments e...   Tweet   \n",
      "22  Jennifer Lopez and Alex Rodriguez Step Out for...   Tweet   \n",
      "23  \"92nd #HASHTAG# delayed in Brisbane, Adelaide ...   Tweet   \n",
      "24  #HASHTAG# to represent Australia at #HASHTAG# ...   Tweet   \n",
      "25  Natural language processing (NLP) is an interd...    wiki   \n",
      "26  Challenges in natural language processing freq...    wiki   \n",
      "27  Natural language processing has its roots in t...    wiki   \n",
      "28  The premise of symbolic NLP is well-summarized...    wiki   \n",
      "29  Up to the 1980s, most natural language process...    wiki   \n",
      "30    In neuropsychology, linguistics, and philoso...    wiki   \n",
      "31  All varieties of world languages are natural l...    wiki   \n",
      "32  Controlled natural languages are subsets of na...    wiki   \n",
      "33  Being constructed, International auxiliary lan...    wiki   \n",
      "34  Some natural languages have become organically...    wiki   \n",
      "\n",
      "                                           Source  \n",
      "0      Hate Speech and Offensive Language Dataset  \n",
      "1      Hate Speech and Offensive Language Dataset  \n",
      "2      Hate Speech and Offensive Language Dataset  \n",
      "3      Hate Speech and Offensive Language Dataset  \n",
      "4      Hate Speech and Offensive Language Dataset  \n",
      "5      Hate Speech and Offensive Language Dataset  \n",
      "6             Customer Support on Twitter Dataset  \n",
      "7             Customer Support on Twitter Dataset  \n",
      "8             Customer Support on Twitter Dataset  \n",
      "9             Customer Support on Twitter Dataset  \n",
      "10            Customer Support on Twitter Dataset  \n",
      "11            Customer Support on Twitter Dataset  \n",
      "12            Customer Support on Twitter Dataset  \n",
      "13            Customer Support on Twitter Dataset  \n",
      "14  Amazon Reviews for Sentiment Analysis Dataset  \n",
      "15  Amazon Reviews for Sentiment Analysis Dataset  \n",
      "16  Amazon Reviews for Sentiment Analysis Dataset  \n",
      "17  Amazon Reviews for Sentiment Analysis Dataset  \n",
      "18  Amazon Reviews for Sentiment Analysis Dataset  \n",
      "19  Amazon Reviews for Sentiment Analysis Dataset  \n",
      "20                     Fake News Detection Corpus  \n",
      "21                     Fake News Detection Corpus  \n",
      "22                     Fake News Detection Corpus  \n",
      "23                     Fake News Detection Corpus  \n",
      "24                     Fake News Detection Corpus  \n",
      "25                                      Wikipedia  \n",
      "26                                      Wikipedia  \n",
      "27                                      Wikipedia  \n",
      "28                                      Wikipedia  \n",
      "29                                      Wikipedia  \n",
      "30                                      Wikipedia  \n",
      "31                                      Wikipedia  \n",
      "32                                      Wikipedia  \n",
      "33                                      Wikipedia  \n",
      "34                                      Wikipedia  \n"
     ]
    }
   ],
   "source": [
    "import pyexcel_ods as ods\n",
    "import pandas as pd\n",
    "\n",
    "dataframe = pd.read_excel(\"src/Sample Texts.ods\")\n",
    "\n",
    "print (dataframe)"
   ]
  },
  {
   "cell_type": "code",
   "execution_count": 21,
   "metadata": {},
   "outputs": [
    {
     "name": "stdout",
     "output_type": "stream",
     "text": [
      "                                         Preprocessed\n",
      "0    _RETWEET_  _USER_  As a woman you shouldn't c...\n",
      "1    _RETWEET_  _USER_  boy dats cold...tyga dwn b...\n",
      "2    _RETWEET_  _USER_  Dawg _RETWEET_  _User_  Yo...\n",
      "3    _RETWEET_  _USER_   _User_  she look like a t...\n",
      "4    _RETWEET_  _USER_  The shit you hear about me...\n",
      "5   \"!!!!!!!!!!!!!!!!!!\"\" _USER_  The shit just bl...\n",
      "6    _USER_  causing the reply to be disregarded a...\n",
      "7   \" _USER_  Your business means a lot to us. Ple...\n",
      "8    _USER_  I really hope you all change but I'm ...\n",
      "9   \" _USER_  LiveChat is online at the moment -  ...\n",
      "10   _USER_  see attached error message. I've trie...\n",
      "11  \" _USER_  Have you tried from another device, ...\n",
      "12  \" _USER_  yep, I've tried laptop too several t...\n",
      "13  \" _USER_  It's working OK from here, Miriam. D...\n",
      "14  \"Great CD: My lovely Pat has one of the GREAT ...\n",
      "15  \"One of the best game music soundtracks - for ...\n",
      "16  \"Batteries died within a year ...: I bought th...\n",
      "17  \"works fine, but Maha Energy is better: Check ...\n",
      "18  \"Great for the non-audiophile: Reviewed quite ...\n",
      "19  \"DVD Player crapped out after one year: I also...\n",
      "20  Amber Smith “Kandy Halloween: Return of the Ha...\n",
      "21  \"\"\" _RETWEET_ Reuters \"\"\"\"Russia: Pence Balkan...\n",
      "22  Jennifer Lopez and Alex Rodriguez Step Out for...\n",
      "23  \"\"\"92nd  _HASHTAG_  delayed in Brisbane, Adela...\n",
      "24   _HASHTAG_  to represent Australia at  _HASHTA...\n",
      "25  \"Natural language processing (NLP) is an inter...\n",
      "26  \"Challenges in natural language processing fre...\n",
      "27  \"Natural language processing has its roots in ...\n",
      "28  \"The premise of symbolic NLP is well-summarize...\n",
      "29  \"Up to the 1980s, most natural language proces...\n",
      "30  \"  In neuropsychology, linguistics, and philos...\n",
      "31  \"All varieties of world languages are natural ...\n",
      "32  \"Controlled natural languages are subsets of n...\n",
      "33  \"Being constructed, International auxiliary la...\n",
      "34  \"Some natural languages have become organicall...\n"
     ]
    }
   ],
   "source": [
    "\n",
    "nueva_columna = pd.DataFrame(textos_procesados[1:], columns=[\"Preprocessed\"])\n",
    "\n",
    "print(nueva_columna)"
   ]
  },
  {
   "cell_type": "code",
   "execution_count": 24,
   "metadata": {},
   "outputs": [
    {
     "name": "stdout",
     "output_type": "stream",
     "text": [
      "                                                 Text    Type  \\\n",
      "0   !!! RT @mayasolovely: As a woman you shouldn't...   Tweet   \n",
      "1   !!!!! RT @mleew17: boy dats cold...tyga dwn ba...   Tweet   \n",
      "2   !!!!!!! RT @UrKindOfBrand Dawg!!!! RT @80sbaby...   Tweet   \n",
      "3   !!!!!!!!! RT @C_G_Anderson: @viva_based she lo...   Tweet   \n",
      "4   !!!!!!!!!!!!! RT @ShenikaRoberts: The shit you...   Tweet   \n",
      "5   !!!!!!!!!!!!!!!!!!\"@T_Madison_x: The shit just...   Tweet   \n",
      "6   @AppleSupport causing the reply to be disregar...   Tweet   \n",
      "7   @105835 Your business means a lot to us. Pleas...   Tweet   \n",
      "8   @76328 I really hope you all change but I'm su...   Tweet   \n",
      "9   @105836 LiveChat is online at the moment - htt...   Tweet   \n",
      "10  @VirginTrains see attached error message. I've...   Tweet   \n",
      "11  @105836 Have you tried from another device, Mi...   Tweet   \n",
      "12  @VirginTrains yep, I've tried laptop too sever...   Tweet   \n",
      "13  @105836 It's working OK from here, Miriam. Doe...   Tweet   \n",
      "14  Great CD: My lovely Pat has one of the GREAT v...  Review   \n",
      "15  One of the best game music soundtracks - for a...  Review   \n",
      "16  Batteries died within a year ...: I bought thi...  Review   \n",
      "17  works fine, but Maha Energy is better: Check o...  Review   \n",
      "18  Great for the non-audiophile: Reviewed quite a...  Review   \n",
      "19  DVD Player crapped out after one year: I also ...  Review   \n",
      "20  Amber Smith “Kandy Halloween: Return of the Ha...   Tweet   \n",
      "21  \"RT Reuters \"\"Russia: Pence Balkans comments e...   Tweet   \n",
      "22  Jennifer Lopez and Alex Rodriguez Step Out for...   Tweet   \n",
      "23  \"92nd #HASHTAG# delayed in Brisbane, Adelaide ...   Tweet   \n",
      "24  #HASHTAG# to represent Australia at #HASHTAG# ...   Tweet   \n",
      "25  Natural language processing (NLP) is an interd...    wiki   \n",
      "26  Challenges in natural language processing freq...    wiki   \n",
      "27  Natural language processing has its roots in t...    wiki   \n",
      "28  The premise of symbolic NLP is well-summarized...    wiki   \n",
      "29  Up to the 1980s, most natural language process...    wiki   \n",
      "30    In neuropsychology, linguistics, and philoso...    wiki   \n",
      "31  All varieties of world languages are natural l...    wiki   \n",
      "32  Controlled natural languages are subsets of na...    wiki   \n",
      "33  Being constructed, International auxiliary lan...    wiki   \n",
      "34  Some natural languages have become organically...    wiki   \n",
      "\n",
      "                                           Source  \\\n",
      "0      Hate Speech and Offensive Language Dataset   \n",
      "1      Hate Speech and Offensive Language Dataset   \n",
      "2      Hate Speech and Offensive Language Dataset   \n",
      "3      Hate Speech and Offensive Language Dataset   \n",
      "4      Hate Speech and Offensive Language Dataset   \n",
      "5      Hate Speech and Offensive Language Dataset   \n",
      "6             Customer Support on Twitter Dataset   \n",
      "7             Customer Support on Twitter Dataset   \n",
      "8             Customer Support on Twitter Dataset   \n",
      "9             Customer Support on Twitter Dataset   \n",
      "10            Customer Support on Twitter Dataset   \n",
      "11            Customer Support on Twitter Dataset   \n",
      "12            Customer Support on Twitter Dataset   \n",
      "13            Customer Support on Twitter Dataset   \n",
      "14  Amazon Reviews for Sentiment Analysis Dataset   \n",
      "15  Amazon Reviews for Sentiment Analysis Dataset   \n",
      "16  Amazon Reviews for Sentiment Analysis Dataset   \n",
      "17  Amazon Reviews for Sentiment Analysis Dataset   \n",
      "18  Amazon Reviews for Sentiment Analysis Dataset   \n",
      "19  Amazon Reviews for Sentiment Analysis Dataset   \n",
      "20                     Fake News Detection Corpus   \n",
      "21                     Fake News Detection Corpus   \n",
      "22                     Fake News Detection Corpus   \n",
      "23                     Fake News Detection Corpus   \n",
      "24                     Fake News Detection Corpus   \n",
      "25                                      Wikipedia   \n",
      "26                                      Wikipedia   \n",
      "27                                      Wikipedia   \n",
      "28                                      Wikipedia   \n",
      "29                                      Wikipedia   \n",
      "30                                      Wikipedia   \n",
      "31                                      Wikipedia   \n",
      "32                                      Wikipedia   \n",
      "33                                      Wikipedia   \n",
      "34                                      Wikipedia   \n",
      "\n",
      "                                         Preprocessed  \n",
      "0    _RETWEET_  _USER_  As a woman you shouldn't c...  \n",
      "1    _RETWEET_  _USER_  boy dats cold...tyga dwn b...  \n",
      "2    _RETWEET_  _USER_  Dawg _RETWEET_  _User_  Yo...  \n",
      "3    _RETWEET_  _USER_   _User_  she look like a t...  \n",
      "4    _RETWEET_  _USER_  The shit you hear about me...  \n",
      "5   \"!!!!!!!!!!!!!!!!!!\"\" _USER_  The shit just bl...  \n",
      "6    _USER_  causing the reply to be disregarded a...  \n",
      "7   \" _USER_  Your business means a lot to us. Ple...  \n",
      "8    _USER_  I really hope you all change but I'm ...  \n",
      "9   \" _USER_  LiveChat is online at the moment -  ...  \n",
      "10   _USER_  see attached error message. I've trie...  \n",
      "11  \" _USER_  Have you tried from another device, ...  \n",
      "12  \" _USER_  yep, I've tried laptop too several t...  \n",
      "13  \" _USER_  It's working OK from here, Miriam. D...  \n",
      "14  \"Great CD: My lovely Pat has one of the GREAT ...  \n",
      "15  \"One of the best game music soundtracks - for ...  \n",
      "16  \"Batteries died within a year ...: I bought th...  \n",
      "17  \"works fine, but Maha Energy is better: Check ...  \n",
      "18  \"Great for the non-audiophile: Reviewed quite ...  \n",
      "19  \"DVD Player crapped out after one year: I also...  \n",
      "20  Amber Smith “Kandy Halloween: Return of the Ha...  \n",
      "21  \"\"\" _RETWEET_ Reuters \"\"\"\"Russia: Pence Balkan...  \n",
      "22  Jennifer Lopez and Alex Rodriguez Step Out for...  \n",
      "23  \"\"\"92nd  _HASHTAG_  delayed in Brisbane, Adela...  \n",
      "24   _HASHTAG_  to represent Australia at  _HASHTA...  \n",
      "25  \"Natural language processing (NLP) is an inter...  \n",
      "26  \"Challenges in natural language processing fre...  \n",
      "27  \"Natural language processing has its roots in ...  \n",
      "28  \"The premise of symbolic NLP is well-summarize...  \n",
      "29  \"Up to the 1980s, most natural language proces...  \n",
      "30  \"  In neuropsychology, linguistics, and philos...  \n",
      "31  \"All varieties of world languages are natural ...  \n",
      "32  \"Controlled natural languages are subsets of n...  \n",
      "33  \"Being constructed, International auxiliary la...  \n",
      "34  \"Some natural languages have become organicall...  \n"
     ]
    }
   ],
   "source": [
    "dataframe_nueva_columna = pd.concat([dataframe, nueva_columna], axis=1)\n",
    "\n",
    "print(dataframe_nueva_columna)"
   ]
  },
  {
   "cell_type": "code",
   "execution_count": 25,
   "metadata": {},
   "outputs": [],
   "source": [
    "dataframe_nueva_columna.to_excel(\"src/Sample Texts_preprocesed.ods\")"
   ]
  },
  {
   "cell_type": "markdown",
   "metadata": {},
   "source": [
    "# Ahora que tenemos el archivo, vamos con el árbol"
   ]
  },
  {
   "cell_type": "markdown",
   "metadata": {},
   "source": [
    "### Primero seleccionemos 5 textos procesados al azar, considerando que ya tenemos la lista en un avariable, hagarémoslos desde ahí"
   ]
  },
  {
   "cell_type": "code",
   "execution_count": 28,
   "metadata": {},
   "outputs": [
    {
     "name": "stdout",
     "output_type": "stream",
     "text": [
      "[['\" _USER_  It\\'s working OK from here, Miriam. Does this link help  _LINK_ \\n'\n",
      "  \" _RETWEET_  _USER_  As a woman you shouldn't complain about cleaning up your house.  as a man you should always take the trash out...,Tweet,Hate Speech and Offensive Language Dataset\\n\"\n",
      "  ' _RETWEET_  _USER_  Dawg _RETWEET_  _User_  You ever fuck a bitch and she start to cry? You be confused as shit,Tweet,Hate Speech and Offensive Language Dataset\\n'\n",
      "  ' _HASHTAG_  to represent Australia at  _HASHTAG_  2020!  _HASHTAG_   _HASHTAG_   _HASHTAG_ ,Tweet,Fake News Detection Corpus\\n'\n",
      "  '\"Being constructed, International auxiliary languages such as Esperanto and Interlingua are not considered natural languages, with the possible exception of true native speakers of such languages.[3] Natural languages evolve, through fluctuations in vocabulary and syntax, to incrementally improve human communication. In contrast, Esperanto was created by Polish ophthalmologist L. L. Zamenhof in the late 19th century.\",wiki,Wikipedia\\n']]\n"
     ]
    }
   ],
   "source": [
    "from random import randint\n",
    "\n",
    "seleccionados:list[str] = []\n",
    "\n",
    "#apartamos dos de twitter\n",
    "for i in range(2):\n",
    "\n",
    "    seleccionados.append(textos_procesados[randint(0, 14)])\n",
    "\n",
    "#ahora terminamos de agregar ejemplos\n",
    "for i in range(3):\n",
    "\n",
    "    agregado:bool = False\n",
    "\n",
    "    while(not agregado):\n",
    "        aleatorio = randint(0, len(textos_procesados))\n",
    "\n",
    "        if not seleccionados.__contains__(textos_procesados[aleatorio]):\n",
    "            \n",
    "            seleccionados.append(textos_procesados[aleatorio])\n",
    "            agregado = True\n",
    "    \n",
    "\n",
    "\n",
    "print(np.matrix(seleccionados))"
   ]
  },
  {
   "cell_type": "markdown",
   "metadata": {},
   "source": [
    "## A Generar el árbol sintáctico!!!"
   ]
  },
  {
   "cell_type": "code",
   "execution_count": 29,
   "metadata": {},
   "outputs": [
    {
     "name": "stderr",
     "output_type": "stream",
     "text": [
      "2023-11-26 20:34:41 INFO: Checking for updates to resources.json in case models have been updated.  Note: this behavior can be turned off with download_method=None or download_method=DownloadMethod.REUSE_RESOURCES\n"
     ]
    },
    {
     "data": {
      "application/vnd.jupyter.widget-view+json": {
       "model_id": "8a474a5922b348f580cbc573b298df58",
       "version_major": 2,
       "version_minor": 0
      },
      "text/plain": [
       "Downloading https://raw.githubusercontent.com/stanfordnlp/stanza-resources/main/resources_1.6.0.json:   0%|   …"
      ]
     },
     "metadata": {},
     "output_type": "display_data"
    },
    {
     "data": {
      "application/vnd.jupyter.widget-view+json": {
       "model_id": "88720704932840f4bc640b0a3626e2c0",
       "version_major": 2,
       "version_minor": 0
      },
      "text/plain": [
       "Downloading https://huggingface.co/stanfordnlp/stanza-fr/resolve/v1.6.0/models/tokenize/combined.pt:   0%|    …"
      ]
     },
     "metadata": {},
     "output_type": "display_data"
    },
    {
     "data": {
      "application/vnd.jupyter.widget-view+json": {
       "model_id": "df532a1ecf104ee4b249b5710b5e8aa0",
       "version_major": 2,
       "version_minor": 0
      },
      "text/plain": [
       "Downloading https://huggingface.co/stanfordnlp/stanza-fr/resolve/v1.6.0/models/mwt/combined.pt:   0%|         …"
      ]
     },
     "metadata": {},
     "output_type": "display_data"
    },
    {
     "data": {
      "application/vnd.jupyter.widget-view+json": {
       "model_id": "fc6805b8b9384a2796d46cc7eb9b93d4",
       "version_major": 2,
       "version_minor": 0
      },
      "text/plain": [
       "Downloading https://huggingface.co/stanfordnlp/stanza-fr/resolve/v1.6.0/models/pos/combined_charlm.pt:   0%|  …"
      ]
     },
     "metadata": {},
     "output_type": "display_data"
    },
    {
     "data": {
      "application/vnd.jupyter.widget-view+json": {
       "model_id": "3432b4e725ce47d0b1142d3609957876",
       "version_major": 2,
       "version_minor": 0
      },
      "text/plain": [
       "Downloading https://huggingface.co/stanfordnlp/stanza-fr/resolve/v1.6.0/models/lemma/combined_nocharlm.pt:   0…"
      ]
     },
     "metadata": {},
     "output_type": "display_data"
    },
    {
     "data": {
      "application/vnd.jupyter.widget-view+json": {
       "model_id": "2352eed0064d4134a24fbdbe00ee7e48",
       "version_major": 2,
       "version_minor": 0
      },
      "text/plain": [
       "Downloading https://huggingface.co/stanfordnlp/stanza-fr/resolve/v1.6.0/models/depparse/combined_charlm.pt:   …"
      ]
     },
     "metadata": {},
     "output_type": "display_data"
    },
    {
     "data": {
      "application/vnd.jupyter.widget-view+json": {
       "model_id": "fa79f17e4da54b8784094d4fb4c9afc3",
       "version_major": 2,
       "version_minor": 0
      },
      "text/plain": [
       "Downloading https://huggingface.co/stanfordnlp/stanza-fr/resolve/v1.6.0/models/pretrain/conll17.pt:   0%|     …"
      ]
     },
     "metadata": {},
     "output_type": "display_data"
    },
    {
     "data": {
      "application/vnd.jupyter.widget-view+json": {
       "model_id": "af76c515c423437da89ffeca5c1acb6e",
       "version_major": 2,
       "version_minor": 0
      },
      "text/plain": [
       "Downloading https://huggingface.co/stanfordnlp/stanza-fr/resolve/v1.6.0/models/backward_charlm/newswiki.pt:   …"
      ]
     },
     "metadata": {},
     "output_type": "display_data"
    },
    {
     "data": {
      "application/vnd.jupyter.widget-view+json": {
       "model_id": "31ddc3537db74b8687f94691fbe81660",
       "version_major": 2,
       "version_minor": 0
      },
      "text/plain": [
       "Downloading https://huggingface.co/stanfordnlp/stanza-fr/resolve/v1.6.0/models/forward_charlm/newswiki.pt:   0…"
      ]
     },
     "metadata": {},
     "output_type": "display_data"
    },
    {
     "name": "stderr",
     "output_type": "stream",
     "text": [
      "2023-11-26 20:35:07 INFO: Loading these models for language: fr (French):\n",
      "=================================\n",
      "| Processor | Package           |\n",
      "---------------------------------\n",
      "| tokenize  | combined          |\n",
      "| mwt       | combined          |\n",
      "| pos       | combined_charlm   |\n",
      "| lemma     | combined_nocharlm |\n",
      "| depparse  | combined_charlm   |\n",
      "=================================\n",
      "\n",
      "2023-11-26 20:35:07 INFO: Using device: cpu\n",
      "2023-11-26 20:35:07 INFO: Loading: tokenize\n",
      "2023-11-26 20:35:08 INFO: Loading: mwt\n",
      "2023-11-26 20:35:08 INFO: Loading: pos\n",
      "2023-11-26 20:35:08 INFO: Loading: lemma\n",
      "2023-11-26 20:35:08 INFO: Loading: depparse\n",
      "2023-11-26 20:35:09 INFO: Done loading processors!\n",
      "2023-11-26 20:35:11 INFO: Checking for updates to resources.json in case models have been updated.  Note: this behavior can be turned off with download_method=None or download_method=DownloadMethod.REUSE_RESOURCES\n"
     ]
    },
    {
     "name": "stdout",
     "output_type": "stream",
     "text": [
      "id: 1\tword: \"\thead id: 2\thead: _USER_\tdeprel: punct\n",
      "id: 2\tword: _USER_\thead id: 0\thead: root\tdeprel: root\n",
      "id: 3\tword: It's\thead id: 2\thead: _USER_\tdeprel: flat:foreign\n",
      "id: 4\tword: working\thead id: 2\thead: _USER_\tdeprel: flat:foreign\n",
      "id: 5\tword: OK\thead id: 2\thead: _USER_\tdeprel: flat:foreign\n",
      "id: 6\tword: from\thead id: 2\thead: _USER_\tdeprel: flat:foreign\n",
      "id: 7\tword: here\thead id: 2\thead: _USER_\tdeprel: flat:foreign\n",
      "id: 8\tword: ,\thead id: 7\thead: here\tdeprel: punct\n",
      "id: 9\tword: Miriam\thead id: 2\thead: _USER_\tdeprel: flat:foreign\n",
      "id: 10\tword: .\thead id: 2\thead: _USER_\tdeprel: punct\n",
      "id: 1\tword: Does\thead id: 0\thead: root\tdeprel: root\n",
      "id: 2\tword: this\thead id: 1\thead: Does\tdeprel: flat:foreign\n",
      "id: 3\tword: link\thead id: 1\thead: Does\tdeprel: flat:foreign\n",
      "id: 4\tword: help\thead id: 1\thead: Does\tdeprel: flat:foreign\n",
      "id: 5\tword: _LINK_\thead id: 1\thead: Does\tdeprel: flat:foreign\n"
     ]
    },
    {
     "data": {
      "application/vnd.jupyter.widget-view+json": {
       "model_id": "f6d5c48ea58a40bab8c965e8f618995f",
       "version_major": 2,
       "version_minor": 0
      },
      "text/plain": [
       "Downloading https://raw.githubusercontent.com/stanfordnlp/stanza-resources/main/resources_1.6.0.json:   0%|   …"
      ]
     },
     "metadata": {},
     "output_type": "display_data"
    },
    {
     "name": "stderr",
     "output_type": "stream",
     "text": [
      "2023-11-26 20:35:12 INFO: Loading these models for language: fr (French):\n",
      "=================================\n",
      "| Processor | Package           |\n",
      "---------------------------------\n",
      "| tokenize  | combined          |\n",
      "| mwt       | combined          |\n",
      "| pos       | combined_charlm   |\n",
      "| lemma     | combined_nocharlm |\n",
      "| depparse  | combined_charlm   |\n",
      "=================================\n",
      "\n",
      "2023-11-26 20:35:12 INFO: Using device: cpu\n",
      "2023-11-26 20:35:12 INFO: Loading: tokenize\n",
      "2023-11-26 20:35:12 INFO: Loading: mwt\n",
      "2023-11-26 20:35:12 INFO: Loading: pos\n",
      "2023-11-26 20:35:12 INFO: Loading: lemma\n",
      "2023-11-26 20:35:12 INFO: Loading: depparse\n",
      "2023-11-26 20:35:13 INFO: Done loading processors!\n",
      "2023-11-26 20:35:15 INFO: Checking for updates to resources.json in case models have been updated.  Note: this behavior can be turned off with download_method=None or download_method=DownloadMethod.REUSE_RESOURCES\n"
     ]
    },
    {
     "name": "stdout",
     "output_type": "stream",
     "text": [
      "id: 1\tword: _RETWEET_\thead id: 0\thead: root\tdeprel: root\n",
      "id: 2\tword: _USER_\thead id: 1\thead: _RETWEET_\tdeprel: nmod\n",
      "id: 1\tword: As\thead id: 0\thead: root\tdeprel: root\n",
      "id: 2\tword: a\thead id: 1\thead: As\tdeprel: flat:foreign\n",
      "id: 3\tword: woman\thead id: 1\thead: As\tdeprel: flat:foreign\n",
      "id: 4\tword: you\thead id: 1\thead: As\tdeprel: flat:foreign\n",
      "id: 5\tword: shouldn't\thead id: 1\thead: As\tdeprel: flat:foreign\n",
      "id: 6\tword: complain\thead id: 1\thead: As\tdeprel: flat:foreign\n",
      "id: 7\tword: about\thead id: 1\thead: As\tdeprel: flat:foreign\n",
      "id: 8\tword: cleaning\thead id: 1\thead: As\tdeprel: flat:foreign\n",
      "id: 9\tword: up\thead id: 1\thead: As\tdeprel: flat:foreign\n",
      "id: 10\tword: your\thead id: 1\thead: As\tdeprel: flat:foreign\n",
      "id: 11\tword: house\thead id: 1\thead: As\tdeprel: flat:foreign\n",
      "id: 12\tword: .\thead id: 1\thead: As\tdeprel: punct\n",
      "id: 1\tword: as\thead id: 0\thead: root\tdeprel: root\n",
      "id: 2\tword: a\thead id: 1\thead: as\tdeprel: flat:foreign\n",
      "id: 3\tword: man\thead id: 1\thead: as\tdeprel: flat:foreign\n",
      "id: 4\tword: you\thead id: 1\thead: as\tdeprel: flat:foreign\n",
      "id: 5\tword: should\thead id: 1\thead: as\tdeprel: flat:foreign\n",
      "id: 6\tword: always\thead id: 1\thead: as\tdeprel: flat:foreign\n",
      "id: 7\tword: take\thead id: 1\thead: as\tdeprel: flat:foreign\n",
      "id: 8\tword: the\thead id: 1\thead: as\tdeprel: flat:foreign\n",
      "id: 9\tword: trash\thead id: 1\thead: as\tdeprel: flat:foreign\n",
      "id: 10\tword: out\thead id: 1\thead: as\tdeprel: flat:foreign\n",
      "id: 11\tword: ...\thead id: 10\thead: out\tdeprel: punct\n",
      "id: 12\tword: ,\thead id: 10\thead: out\tdeprel: punct\n",
      "id: 13\tword: Tweet\thead id: 1\thead: as\tdeprel: flat:foreign\n",
      "id: 14\tword: ,\thead id: 13\thead: Tweet\tdeprel: punct\n",
      "id: 15\tword: Hate\thead id: 1\thead: as\tdeprel: flat:foreign\n",
      "id: 16\tword: Speech\thead id: 1\thead: as\tdeprel: flat:foreign\n",
      "id: 17\tword: and\thead id: 1\thead: as\tdeprel: flat:foreign\n",
      "id: 18\tword: Offensive\thead id: 1\thead: as\tdeprel: flat:foreign\n",
      "id: 19\tword: Language\thead id: 1\thead: as\tdeprel: flat:foreign\n",
      "id: 20\tword: Dataset\thead id: 1\thead: as\tdeprel: flat:foreign\n"
     ]
    },
    {
     "data": {
      "application/vnd.jupyter.widget-view+json": {
       "model_id": "a43dca091dbc42df8d20d7ff07ea2d7b",
       "version_major": 2,
       "version_minor": 0
      },
      "text/plain": [
       "Downloading https://raw.githubusercontent.com/stanfordnlp/stanza-resources/main/resources_1.6.0.json:   0%|   …"
      ]
     },
     "metadata": {},
     "output_type": "display_data"
    },
    {
     "name": "stderr",
     "output_type": "stream",
     "text": [
      "2023-11-26 20:35:16 INFO: Loading these models for language: fr (French):\n",
      "=================================\n",
      "| Processor | Package           |\n",
      "---------------------------------\n",
      "| tokenize  | combined          |\n",
      "| mwt       | combined          |\n",
      "| pos       | combined_charlm   |\n",
      "| lemma     | combined_nocharlm |\n",
      "| depparse  | combined_charlm   |\n",
      "=================================\n",
      "\n",
      "2023-11-26 20:35:16 INFO: Using device: cpu\n",
      "2023-11-26 20:35:16 INFO: Loading: tokenize\n",
      "2023-11-26 20:35:16 INFO: Loading: mwt\n",
      "2023-11-26 20:35:16 INFO: Loading: pos\n",
      "2023-11-26 20:35:17 INFO: Loading: lemma\n",
      "2023-11-26 20:35:17 INFO: Loading: depparse\n",
      "2023-11-26 20:35:18 INFO: Done loading processors!\n",
      "2023-11-26 20:35:20 INFO: Checking for updates to resources.json in case models have been updated.  Note: this behavior can be turned off with download_method=None or download_method=DownloadMethod.REUSE_RESOURCES\n"
     ]
    },
    {
     "name": "stdout",
     "output_type": "stream",
     "text": [
      "id: 1\tword: _RETWEET_\thead id: 0\thead: root\tdeprel: root\n",
      "id: 2\tword: _USER_\thead id: 1\thead: _RETWEET_\tdeprel: appos\n",
      "id: 3\tword: Dawg\thead id: 2\thead: _USER_\tdeprel: flat:foreign\n",
      "id: 4\tword: _RETWEET_\thead id: 2\thead: _USER_\tdeprel: flat:foreign\n",
      "id: 5\tword: _User_\thead id: 2\thead: _USER_\tdeprel: flat:foreign\n",
      "id: 6\tword: You\thead id: 2\thead: _USER_\tdeprel: flat:foreign\n",
      "id: 7\tword: ever\thead id: 2\thead: _USER_\tdeprel: flat:foreign\n",
      "id: 8\tword: fuck\thead id: 2\thead: _USER_\tdeprel: flat:foreign\n",
      "id: 9\tword: a\thead id: 2\thead: _USER_\tdeprel: flat:foreign\n",
      "id: 10\tword: bitch\thead id: 2\thead: _USER_\tdeprel: flat:foreign\n",
      "id: 11\tword: and\thead id: 2\thead: _USER_\tdeprel: flat:foreign\n",
      "id: 12\tword: she\thead id: 2\thead: _USER_\tdeprel: flat:foreign\n",
      "id: 13\tword: start\thead id: 2\thead: _USER_\tdeprel: flat:foreign\n",
      "id: 14\tword: to\thead id: 2\thead: _USER_\tdeprel: flat:foreign\n",
      "id: 15\tword: cry\thead id: 2\thead: _USER_\tdeprel: flat:foreign\n",
      "id: 16\tword: ?\thead id: 1\thead: _RETWEET_\tdeprel: punct\n",
      "id: 1\tword: You\thead id: 0\thead: root\tdeprel: root\n",
      "id: 2\tword: be\thead id: 1\thead: You\tdeprel: flat:foreign\n",
      "id: 3\tword: confused\thead id: 1\thead: You\tdeprel: flat:foreign\n",
      "id: 4\tword: as\thead id: 1\thead: You\tdeprel: flat:foreign\n",
      "id: 5\tword: shit\thead id: 1\thead: You\tdeprel: flat:foreign\n",
      "id: 6\tword: ,\thead id: 5\thead: shit\tdeprel: punct\n",
      "id: 7\tword: Tweet\thead id: 1\thead: You\tdeprel: flat:foreign\n",
      "id: 8\tword: ,\thead id: 7\thead: Tweet\tdeprel: punct\n",
      "id: 9\tword: Hate\thead id: 1\thead: You\tdeprel: flat:foreign\n",
      "id: 10\tword: Speech\thead id: 1\thead: You\tdeprel: flat:foreign\n",
      "id: 11\tword: and\thead id: 1\thead: You\tdeprel: flat:foreign\n",
      "id: 12\tword: Offensive\thead id: 1\thead: You\tdeprel: flat:foreign\n",
      "id: 13\tword: Language\thead id: 1\thead: You\tdeprel: flat:foreign\n",
      "id: 14\tword: Dataset\thead id: 1\thead: You\tdeprel: flat:foreign\n"
     ]
    },
    {
     "data": {
      "application/vnd.jupyter.widget-view+json": {
       "model_id": "ce8a8fa127224985b2c2d485be16ba06",
       "version_major": 2,
       "version_minor": 0
      },
      "text/plain": [
       "Downloading https://raw.githubusercontent.com/stanfordnlp/stanza-resources/main/resources_1.6.0.json:   0%|   …"
      ]
     },
     "metadata": {},
     "output_type": "display_data"
    },
    {
     "name": "stderr",
     "output_type": "stream",
     "text": [
      "2023-11-26 20:35:21 INFO: Loading these models for language: fr (French):\n",
      "=================================\n",
      "| Processor | Package           |\n",
      "---------------------------------\n",
      "| tokenize  | combined          |\n",
      "| mwt       | combined          |\n",
      "| pos       | combined_charlm   |\n",
      "| lemma     | combined_nocharlm |\n",
      "| depparse  | combined_charlm   |\n",
      "=================================\n",
      "\n",
      "2023-11-26 20:35:21 INFO: Using device: cpu\n",
      "2023-11-26 20:35:21 INFO: Loading: tokenize\n",
      "2023-11-26 20:35:21 INFO: Loading: mwt\n",
      "2023-11-26 20:35:21 INFO: Loading: pos\n",
      "2023-11-26 20:35:21 INFO: Loading: lemma\n",
      "2023-11-26 20:35:22 INFO: Loading: depparse\n",
      "2023-11-26 20:35:22 INFO: Done loading processors!\n",
      "2023-11-26 20:35:24 INFO: Checking for updates to resources.json in case models have been updated.  Note: this behavior can be turned off with download_method=None or download_method=DownloadMethod.REUSE_RESOURCES\n"
     ]
    },
    {
     "name": "stdout",
     "output_type": "stream",
     "text": [
      "id: 1\tword: _\thead id: 2\thead: HASHTAG_\tdeprel: punct\n",
      "id: 2\tword: HASHTAG_\thead id: 0\thead: root\tdeprel: root\n",
      "id: 3\tword: to\thead id: 2\thead: HASHTAG_\tdeprel: flat:foreign\n",
      "id: 4\tword: represent\thead id: 2\thead: HASHTAG_\tdeprel: flat:foreign\n",
      "id: 5\tword: Australia\thead id: 2\thead: HASHTAG_\tdeprel: flat:foreign\n",
      "id: 6\tword: at\thead id: 2\thead: HASHTAG_\tdeprel: flat:foreign\n",
      "id: 7\tword: _HASHTAG_\thead id: 2\thead: HASHTAG_\tdeprel: flat:foreign\n",
      "id: 8\tword: 2020\thead id: 2\thead: HASHTAG_\tdeprel: nmod\n",
      "id: 9\tword: !\thead id: 2\thead: HASHTAG_\tdeprel: punct\n",
      "id: 1\tword: _\thead id: 2\thead: HASHTAG_\tdeprel: punct\n",
      "id: 2\tword: HASHTAG_\thead id: 0\thead: root\tdeprel: root\n",
      "id: 3\tword: _\thead id: 4\thead: HASHTAG_\tdeprel: punct\n",
      "id: 4\tword: HASHTAG_\thead id: 2\thead: HASHTAG_\tdeprel: flat:foreign\n",
      "id: 5\tword: _\thead id: 4\thead: HASHTAG_\tdeprel: punct\n",
      "id: 6\tword: HASHTAG_\thead id: 2\thead: HASHTAG_\tdeprel: flat:foreign\n",
      "id: 7\tword: ,\thead id: 8\thead: Tweet\tdeprel: punct\n",
      "id: 8\tword: Tweet\thead id: 2\thead: HASHTAG_\tdeprel: nmod\n",
      "id: 9\tword: ,\thead id: 10\thead: Fake\tdeprel: punct\n",
      "id: 10\tword: Fake\thead id: 2\thead: HASHTAG_\tdeprel: parataxis\n",
      "id: 11\tword: News\thead id: 10\thead: Fake\tdeprel: flat:foreign\n",
      "id: 12\tword: Detection\thead id: 10\thead: Fake\tdeprel: flat:foreign\n",
      "id: 13\tword: Corpus\thead id: 10\thead: Fake\tdeprel: flat:foreign\n"
     ]
    },
    {
     "data": {
      "application/vnd.jupyter.widget-view+json": {
       "model_id": "13b11e6b593f49c298bb421b7683fe57",
       "version_major": 2,
       "version_minor": 0
      },
      "text/plain": [
       "Downloading https://raw.githubusercontent.com/stanfordnlp/stanza-resources/main/resources_1.6.0.json:   0%|   …"
      ]
     },
     "metadata": {},
     "output_type": "display_data"
    },
    {
     "name": "stderr",
     "output_type": "stream",
     "text": [
      "2023-11-26 20:35:25 INFO: Loading these models for language: fr (French):\n",
      "=================================\n",
      "| Processor | Package           |\n",
      "---------------------------------\n",
      "| tokenize  | combined          |\n",
      "| mwt       | combined          |\n",
      "| pos       | combined_charlm   |\n",
      "| lemma     | combined_nocharlm |\n",
      "| depparse  | combined_charlm   |\n",
      "=================================\n",
      "\n",
      "2023-11-26 20:35:25 INFO: Using device: cpu\n",
      "2023-11-26 20:35:25 INFO: Loading: tokenize\n",
      "2023-11-26 20:35:25 INFO: Loading: mwt\n",
      "2023-11-26 20:35:25 INFO: Loading: pos\n",
      "2023-11-26 20:35:25 INFO: Loading: lemma\n",
      "2023-11-26 20:35:25 INFO: Loading: depparse\n",
      "2023-11-26 20:35:26 INFO: Done loading processors!\n"
     ]
    },
    {
     "name": "stdout",
     "output_type": "stream",
     "text": [
      "id: 1\tword: \"\thead id: 2\thead: Being\tdeprel: punct\n",
      "id: 2\tword: Being\thead id: 0\thead: root\tdeprel: root\n",
      "id: 3\tword: constructed\thead id: 2\thead: Being\tdeprel: flat:foreign\n",
      "id: 4\tword: ,\thead id: 3\thead: constructed\tdeprel: punct\n",
      "id: 5\tword: International\thead id: 2\thead: Being\tdeprel: flat:foreign\n",
      "id: 6\tword: auxiliary\thead id: 2\thead: Being\tdeprel: flat:foreign\n",
      "id: 7\tword: languages\thead id: 2\thead: Being\tdeprel: flat:foreign\n",
      "id: 8\tword: such\thead id: 2\thead: Being\tdeprel: flat:foreign\n",
      "id: 9\tword: as\thead id: 2\thead: Being\tdeprel: flat:foreign\n",
      "id: 10\tword: Esperanto\thead id: 2\thead: Being\tdeprel: flat:foreign\n",
      "id: 11\tword: and\thead id: 2\thead: Being\tdeprel: flat:foreign\n",
      "id: 12\tword: Interlingua\thead id: 2\thead: Being\tdeprel: flat:foreign\n",
      "id: 13\tword: are\thead id: 2\thead: Being\tdeprel: flat:foreign\n",
      "id: 14\tword: not\thead id: 2\thead: Being\tdeprel: flat:foreign\n",
      "id: 15\tword: considered\thead id: 2\thead: Being\tdeprel: flat:foreign\n",
      "id: 16\tword: natural\thead id: 2\thead: Being\tdeprel: flat:foreign\n",
      "id: 17\tword: languages\thead id: 2\thead: Being\tdeprel: flat:foreign\n",
      "id: 18\tword: ,\thead id: 17\thead: languages\tdeprel: punct\n",
      "id: 19\tword: with\thead id: 2\thead: Being\tdeprel: flat:foreign\n",
      "id: 20\tword: the\thead id: 2\thead: Being\tdeprel: flat:foreign\n",
      "id: 21\tword: possible\thead id: 2\thead: Being\tdeprel: flat:foreign\n",
      "id: 22\tword: exception\thead id: 2\thead: Being\tdeprel: flat:foreign\n",
      "id: 23\tword: of\thead id: 2\thead: Being\tdeprel: flat:foreign\n",
      "id: 24\tword: true\thead id: 2\thead: Being\tdeprel: flat:foreign\n",
      "id: 25\tword: native\thead id: 2\thead: Being\tdeprel: flat:foreign\n",
      "id: 26\tword: speakers\thead id: 2\thead: Being\tdeprel: flat:foreign\n",
      "id: 27\tword: of\thead id: 2\thead: Being\tdeprel: flat:foreign\n",
      "id: 28\tword: such\thead id: 2\thead: Being\tdeprel: flat:foreign\n",
      "id: 29\tword: languages\thead id: 2\thead: Being\tdeprel: flat:foreign\n",
      "id: 30\tword: .\thead id: 2\thead: Being\tdeprel: punct\n",
      "id: 1\tword: [3\thead id: 0\thead: root\tdeprel: root\n",
      "id: 2\tword: ]\thead id: 3\thead: Natural\tdeprel: punct\n",
      "id: 3\tword: Natural\thead id: 1\thead: [3\tdeprel: appos\n",
      "id: 4\tword: languages\thead id: 3\thead: Natural\tdeprel: flat:foreign\n",
      "id: 5\tword: evolve\thead id: 3\thead: Natural\tdeprel: flat:foreign\n",
      "id: 6\tword: ,\thead id: 5\thead: evolve\tdeprel: punct\n",
      "id: 7\tword: through\thead id: 3\thead: Natural\tdeprel: flat:foreign\n",
      "id: 8\tword: fluctuations\thead id: 3\thead: Natural\tdeprel: flat:foreign\n",
      "id: 9\tword: in\thead id: 3\thead: Natural\tdeprel: flat:foreign\n",
      "id: 10\tword: vocabulary\thead id: 3\thead: Natural\tdeprel: flat:foreign\n",
      "id: 11\tword: and\thead id: 3\thead: Natural\tdeprel: flat:foreign\n",
      "id: 12\tword: syntax\thead id: 3\thead: Natural\tdeprel: flat:foreign\n",
      "id: 13\tword: ,\thead id: 12\thead: syntax\tdeprel: punct\n",
      "id: 14\tword: to\thead id: 3\thead: Natural\tdeprel: flat:foreign\n",
      "id: 15\tword: incrementally\thead id: 3\thead: Natural\tdeprel: flat:foreign\n",
      "id: 16\tword: improve\thead id: 3\thead: Natural\tdeprel: flat:foreign\n",
      "id: 17\tword: human\thead id: 3\thead: Natural\tdeprel: flat:foreign\n",
      "id: 18\tword: communication\thead id: 3\thead: Natural\tdeprel: flat:foreign\n",
      "id: 19\tword: .\thead id: 1\thead: [3\tdeprel: punct\n",
      "id: 1\tword: In\thead id: 0\thead: root\tdeprel: root\n",
      "id: 2\tword: contrast\thead id: 1\thead: In\tdeprel: flat:foreign\n",
      "id: 3\tword: ,\thead id: 2\thead: contrast\tdeprel: punct\n",
      "id: 4\tword: Esperanto\thead id: 1\thead: In\tdeprel: flat:foreign\n",
      "id: 5\tword: was\thead id: 1\thead: In\tdeprel: flat:foreign\n",
      "id: 6\tword: created\thead id: 1\thead: In\tdeprel: flat:foreign\n",
      "id: 7\tword: by\thead id: 1\thead: In\tdeprel: flat:foreign\n",
      "id: 8\tword: Polish\thead id: 1\thead: In\tdeprel: flat:foreign\n",
      "id: 9\tword: ophthalmologist\thead id: 1\thead: In\tdeprel: flat:foreign\n",
      "id: 10\tword: L.\thead id: 1\thead: In\tdeprel: flat:foreign\n",
      "id: 11\tword: L.\thead id: 1\thead: In\tdeprel: flat:foreign\n",
      "id: 12\tword: Zamenhof\thead id: 1\thead: In\tdeprel: flat:foreign\n",
      "id: 13\tword: in\thead id: 1\thead: In\tdeprel: flat:foreign\n",
      "id: 14\tword: the\thead id: 1\thead: In\tdeprel: flat:foreign\n",
      "id: 15\tword: late\thead id: 1\thead: In\tdeprel: flat:foreign\n",
      "id: 16\tword: 19th\thead id: 1\thead: In\tdeprel: flat:foreign\n",
      "id: 17\tword: century\thead id: 1\thead: In\tdeprel: flat:foreign\n",
      "id: 18\tword: .\thead id: 1\thead: In\tdeprel: punct\n",
      "id: 19\tword: \"\thead id: 1\thead: In\tdeprel: punct\n",
      "id: 20\tword: ,\thead id: 21\thead: wiki\tdeprel: punct\n",
      "id: 21\tword: wiki\thead id: 1\thead: In\tdeprel: flat:foreign\n",
      "id: 22\tword: ,\thead id: 23\thead: Wikipedia\tdeprel: punct\n",
      "id: 23\tword: Wikipedia\thead id: 1\thead: In\tdeprel: flat:foreign\n"
     ]
    }
   ],
   "source": [
    "import stanza\n",
    "\n",
    "for seleccionado in seleccionados:\n",
    "    \n",
    "    nlp = stanza.Pipeline(lang='fr', processors='tokenize,mwt,pos,lemma,depparse')\n",
    "    doc = nlp(seleccionado)\n",
    "    print(*[f'id: {word.id}\\tword: {word.text}\\thead id: {word.head}\\thead: {sent.words[word.head-1].text if word.head > 0 else \"root\"}\\tdeprel: {word.deprel}' for sent in doc.sentences for word in sent.words], sep='\\n')"
   ]
  }
 ],
 "metadata": {
  "kernelspec": {
   "display_name": "curso_redes_avanzadas",
   "language": "python",
   "name": "python3"
  },
  "language_info": {
   "codemirror_mode": {
    "name": "ipython",
    "version": 3
   },
   "file_extension": ".py",
   "mimetype": "text/x-python",
   "name": "python",
   "nbconvert_exporter": "python",
   "pygments_lexer": "ipython3",
   "version": "3.11.5"
  }
 },
 "nbformat": 4,
 "nbformat_minor": 2
}
