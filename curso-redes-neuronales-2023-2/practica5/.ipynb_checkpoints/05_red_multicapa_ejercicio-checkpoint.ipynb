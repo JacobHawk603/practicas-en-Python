{
 "cells": [
  {
   "cell_type": "markdown",
   "metadata": {},
   "source": [
    "# Red Neuronal Multicapa\n",
    "\n",
    "Una red neuronal multicapa tiene capas ocultas entre la entrada y la salida. A este tipo de red también se le conoce como perceptrón multicapa (MLP por sus siglas en inglés de multilayer perceptron)\n",
    "\n",
    "En este ejercicio crearemos una red neuronal multicapa usando numpy.\n",
    "\n",
    "INSTRUCCIONES: Completa el código faltante.\n",
    "\n",
    "@juan1rving"
   ]
  },
  {
   "cell_type": "code",
   "execution_count": null,
   "metadata": {},
   "outputs": [],
   "source": [
    "#De La Huerta Avalos Gerardo Cristóbal\n",
    "#202160243\n",
    "#6BM1"
   ]
  },
  {
   "cell_type": "code",
   "execution_count": 1,
   "metadata": {},
   "outputs": [],
   "source": [
    "# Importamos paquetes\n",
    "import numpy as np\n",
    "\n",
    "np.random.seed(42)"
   ]
  },
  {
   "cell_type": "code",
   "execution_count": 2,
   "metadata": {},
   "outputs": [],
   "source": [
    "# Funciones necesarias\n",
    "def sigmoid(x):\n",
    "    \"\"\"\n",
    "    Función sigmoide\n",
    "    \"\"\"\n",
    "    return 1/(1+np.exp(-x))"
   ]
  },
  {
   "cell_type": "markdown",
   "metadata": {},
   "source": [
    "## Definamos la arquitectura de la red\n",
    "\n",
    "<img src=\"files/test1.png\">"
   ]
  },
  {
   "cell_type": "code",
   "execution_count": 3,
   "metadata": {},
   "outputs": [],
   "source": [
    "# TODO: Especifica el tamaño de las capas de acuerdo al diagrama.\n",
    "N_input = 4\n",
    "N_hidden = 3\n",
    "N_out = 2\n"
   ]
  },
  {
   "cell_type": "markdown",
   "metadata": {},
   "source": [
    "## Definir los pesos\n",
    "\n",
    "Recordemos que los pesos ahora los representamos con matrices y utilizaremos el producton de la siguiente forma:\n",
    "\n",
    "$$\n",
    "h = XW\n",
    "$$\n",
    "\n",
    "tal que,\n",
    "\n",
    "\n",
    "$$W = \\begin{bmatrix}\n",
    "w_{1,1} & w_{1,2}\n",
    " \\\\\n",
    "w_{2,1} & w_{2,2}\n",
    " \\\\\n",
    "w_{3,1} & w_{3,2}\n",
    " \\\\\n",
    "\\end{bmatrix}$$\n",
    "\n",
    "donde los renglones se relacionan con las entradas y las columnas con los nodos intermedios. Y las entradas son\n",
    "\n",
    "$$ X = \\begin{bmatrix} x_1 & x_2 & x_3 \\end{bmatrix} $$\n",
    "\n",
    "Como herramienta usaremos:\n",
    "\n",
    "> numpy.random.normal(loc=0.0, scale=1.0, size=None)\n",
    "\n",
    "TODO: construye a contrinuación matrices con valores aleatorios para la matriz de pesos entre la entrada y la oculta y para la oculta y la salida."
   ]
  },
  {
   "cell_type": "code",
   "execution_count": 6,
   "metadata": {},
   "outputs": [
    {
     "name": "stdout",
     "output_type": "stream",
     "text": [
      "[[ 0.24196227 -1.91328024 -1.72491783]\n",
      " [-0.56228753 -1.01283112  0.31424733]\n",
      " [-0.90802408 -1.4123037   1.46564877]\n",
      " [-0.2257763   0.0675282  -1.42474819]]\n",
      "[[-0.54438272  0.11092259]\n",
      " [-1.15099358  0.37569802]\n",
      " [-0.60063869 -0.29169375]]\n",
      "[[-0.60170661  1.85227818 -0.01349722 -1.05771093]]\n"
     ]
    }
   ],
   "source": [
    "#TODO: Completa el código faltante\n",
    "\n",
    "mean = None\n",
    "stdev = None\n",
    "\n",
    "W_input_to_hidden = np.matrix([[np.random.normal(loc=0.0, scale=1.0, size=None), np.random.normal(loc=0.0, scale=1.0, size=None), np.random.normal(loc=0.0, scale=1.0, size=None)],\n",
    "                                [np.random.normal(loc=0.0, scale=1.0, size=None), np.random.normal(loc=0.0, scale=1.0, size=None), np.random.normal(loc=0.0, scale=1.0, size=None)],\n",
    "                                [np.random.normal(loc=0.0, scale=1.0, size=None), np.random.normal(loc=0.0, scale=1.0, size=None), np.random.normal(loc=0.0, scale=1.0, size=None)],\n",
    "                                [np.random.normal(loc=0.0, scale=1.0, size=None), np.random.normal(loc=0.0, scale=1.0, size=None), np.random.normal(loc=0.0, scale=1.0, size=None)]])\n",
    "\n",
    "print(W_input_to_hidden)\n",
    "\n",
    "W_hidden_out = np.matrix([[np.random.normal(loc=0.0, scale=1.0, size=None), np.random.normal(loc=0.0, scale=1.0, size=None)],\n",
    "                            [np.random.normal(loc=0.0, scale=1.0, size=None), np.random.normal(loc=0.0, scale=1.0, size=None)],\n",
    "                            [np.random.normal(loc=0.0, scale=1.0, size=None), np.random.normal(loc=0.0, scale=1.0, size=None)]])\n",
    "\n",
    "print(W_hidden_out)\n",
    "\n",
    "X = np.matrix([[np.random.normal(loc=0.0, scale=1.0, size=None), np.random.normal(loc=0.0, scale=1.0, size=None), np.random.normal(loc=0.0, scale=1.0, size=None), np.random.normal(loc=0.0, scale=1.0, size=None)]])\n",
    "\n",
    "print(X)\n"
   ]
  },
  {
   "cell_type": "markdown",
   "metadata": {},
   "source": [
    "## Calcular la salida\n",
    "\n",
    "Recordemos de la lección que\n",
    "\n",
    "$$ h = X W $$\n",
    "\n",
    "$$ y = f(H) $$"
   ]
  },
  {
   "cell_type": "code",
   "execution_count": 9,
   "metadata": {},
   "outputs": [
    {
     "name": "stdout",
     "output_type": "stream",
     "text": [
      "[[-0.93604136 -0.77717475  3.10715748]]\n",
      "salida de la capa oculta:  [matrix([[0.28170066, 0.31492911, 0.95718702]])]\n",
      "salida de la red:  [matrix([[0.25147558, 0.46763525]])]\n"
     ]
    }
   ],
   "source": [
    "# TODO: Producto punto\n",
    "input_to_hidden = np.dot(X, W_input_to_hidden)\n",
    "\n",
    "print(input_to_hidden)\n",
    "\n",
    "out_of_hidden = []\n",
    "\n",
    "for input in input_to_hidden:\n",
    "\n",
    "    out_of_hidden.append(sigmoid(input))\n",
    "\n",
    "print(\"salida de la capa oculta: \", out_of_hidden)\n",
    "\n",
    "# TODO: Producto punto\n",
    "input_to_out = np.dot(out_of_hidden, W_hidden_out)\n",
    "\n",
    "out_of_network = []\n",
    "\n",
    "for input in input_to_out:\n",
    "\n",
    "    out_of_network.append(sigmoid(input))\n",
    "\n",
    "print(\"salida de la red: \", out_of_network)\n"
   ]
  },
  {
   "cell_type": "markdown",
   "metadata": {},
   "source": [
    "Como resultado debes de ver la salida de la red como un vector de dos elementos.\n"
   ]
  },
  {
   "cell_type": "markdown",
   "metadata": {},
   "source": []
  }
 ],
 "metadata": {
  "kernelspec": {
   "display_name": "Python 3 (ipykernel)",
   "language": "python",
   "name": "python3"
  },
  "language_info": {
   "codemirror_mode": {
    "name": "ipython",
    "version": 3
   },
   "file_extension": ".py",
   "mimetype": "text/x-python",
   "name": "python",
   "nbconvert_exporter": "python",
   "pygments_lexer": "ipython3",
   "version": "3.10.9"
  },
  "vscode": {
   "interpreter": {
    "hash": "cbad788490f55b163920bee5e9d5e0cba00db5905dc94f4bdbe0011e55bf465f"
   }
  },
  "widgets": {
   "state": {},
   "version": "1.1.2"
  }
 },
 "nbformat": 4,
 "nbformat_minor": 2
}
