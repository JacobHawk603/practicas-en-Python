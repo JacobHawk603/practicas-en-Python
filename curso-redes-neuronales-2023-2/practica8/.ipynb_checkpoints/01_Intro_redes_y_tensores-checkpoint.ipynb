{
 "cells": [
  {
   "cell_type": "code",
   "execution_count": null,
   "metadata": {},
   "outputs": [],
   "source": [
    "#De La Huerta Avalos Gerardo Cristóbal\n",
    "#2021630243\n",
    "#6BM1"
   ]
  },
  {
   "cell_type": "markdown",
   "metadata": {},
   "source": [
    "# Introducción\n",
    "\n",
    "## Redes Neuronales\n",
    "\n",
    "Las redes neuronales son un modelo matemático que nos permite aproximar una función. Tienen similitud a las neuronas del cerebro en el sentido que ambas reciben varias entradas, realizan un cálculo y determinan una salida la cual es entrada para otras neuronas. \n",
    "\n",
    "En la siguiente imagen encontrarás una neurona simple, también conocida como perceptrón.\n",
    "\n",
    "<img src=\"archivos/simple_neuron.png\">\n",
    "Imagen tomada de [Udacity]\n",
    "\n",
    "\n",
    "Podemos ver la salida del perceptrón como una secuencia de operaciones, primero se calcula $h$ a partir del producto punto, entre las entradas $X$ y los pesos $W$, sumado a el sesgo $b$, es decir\n",
    "\n",
    "$$h = MX + b$$\n",
    "\n",
    "despúes se 'pasa' $h$ por una función de activación que transforma el valor,\n",
    "\n",
    "$$y = f(h)$$\n",
    "\n",
    "\n",
    "\n",
    "\n"
   ]
  },
  {
   "cell_type": "markdown",
   "metadata": {},
   "source": [
    "## Tensores en Pytorch\n",
    "\n",
    "Los tensores son una generalización de los vectores y matrices. Cuando hablamos de un tensor de una dimensión nos estamos refierendo a un vector que puede tener $n$ elementos. Podemos tener tensores de varias dimensiones, por ejemplo una matriz 2D sería un tensor 2D y así sucesivamente. Los tensores son la base de muchos paquetes de para programar deep learning, debido a que las redes neuronales son ¡un montón de operaciones matriciales!, además mantienen la conección en el grafo y permiten la implementación del gradiente descendiente. Asi que es indispensable tener una representación adecuada para reducir el tiempo de entrenamiento. \n",
    "\n",
    "Sin más preámbulo vayamos a la programación."
   ]
  },
  {
   "cell_type": "code",
   "execution_count": 3,
   "metadata": {},
   "outputs": [
    {
     "name": "stdout",
     "output_type": "stream",
     "text": [
      "1.24.2\n",
      "2.0.0+cu117\n"
     ]
    }
   ],
   "source": [
    "# Primero importemos los paquetes necesarios\n",
    "\n",
    "#%matplotlib inline\n",
    "#%config InlineBackend.figure_format = 'retina'\n",
    "\n",
    "import numpy as np\n",
    "print(np.__version__)\n",
    "import torch\n",
    "print(torch.__version__)"
   ]
  },
  {
   "cell_type": "markdown",
   "metadata": {},
   "source": [
    "Comenzemos a explorar los tensores. Creemos unos tensores y realizemos algunas opereaciones entre ellos."
   ]
  },
  {
   "cell_type": "code",
   "execution_count": 4,
   "metadata": {},
   "outputs": [
    {
     "name": "stdout",
     "output_type": "stream",
     "text": [
      "tensor([[1., 1.],\n",
      "        [1., 1.],\n",
      "        [1., 1.],\n",
      "        [1., 1.]])\n",
      "tensor([[1., 1., 1.],\n",
      "        [1., 1., 1.],\n",
      "        [1., 1., 1.]])\n"
     ]
    }
   ],
   "source": [
    "# Tensor de 4 por 2 elementos relleno de unos\n",
    "y = torch.ones(4,2)\n",
    "\n",
    "r = torch.ones(3,3)\n",
    "\n",
    "print(y)\n",
    "print(r)"
   ]
  },
  {
   "cell_type": "code",
   "execution_count": 5,
   "metadata": {},
   "outputs": [
    {
     "name": "stdout",
     "output_type": "stream",
     "text": [
      "tensor([[3., 3.],\n",
      "        [3., 3.],\n",
      "        [3., 3.],\n",
      "        [3., 3.]])\n"
     ]
    }
   ],
   "source": [
    "# operación entre tensores\n",
    "\n",
    "z = y + y + y\n",
    "print(z)"
   ]
  },
  {
   "cell_type": "code",
   "execution_count": 6,
   "metadata": {},
   "outputs": [
    {
     "data": {
      "text/plain": [
       "tensor(3.)"
      ]
     },
     "execution_count": 6,
     "metadata": {},
     "output_type": "execute_result"
    }
   ],
   "source": [
    "# acceder a los elementos de un tensor\n",
    "z[1][1]"
   ]
  },
  {
   "cell_type": "code",
   "execution_count": 7,
   "metadata": {},
   "outputs": [
    {
     "data": {
      "text/plain": [
       "tensor([[3.],\n",
       "        [3.],\n",
       "        [3.],\n",
       "        [3.]])"
      ]
     },
     "execution_count": 7,
     "metadata": {},
     "output_type": "execute_result"
    }
   ],
   "source": [
    "z[:,1:]"
   ]
  },
  {
   "cell_type": "markdown",
   "metadata": {},
   "source": [
    "### Reshape\n",
    "\n",
    "Una de las cosas más comunes que realizaŕas con los tensores es consultar su 'forma' es decir, la cantidad de elementos que hay en él, para tal función existe *.size()* \n",
    "\n",
    "Si deseamos cambiar la forma del tensor entonces utilizaremos *.resize_()* Observa que el guión bajo indica que se va a modificar el tensor en sí, si no utilizamos el guión bajo se creará un nuevo tensor."
   ]
  },
  {
   "cell_type": "code",
   "execution_count": 8,
   "metadata": {},
   "outputs": [
    {
     "data": {
      "text/plain": [
       "torch.Size([4, 2])"
      ]
     },
     "execution_count": 8,
     "metadata": {},
     "output_type": "execute_result"
    }
   ],
   "source": [
    "z.size()"
   ]
  },
  {
   "cell_type": "code",
   "execution_count": 9,
   "metadata": {},
   "outputs": [
    {
     "data": {
      "text/plain": [
       "tensor([[3., 3., 3.],\n",
       "        [3., 3., 3.],\n",
       "        [3., 3., 0.]])"
      ]
     },
     "execution_count": 9,
     "metadata": {},
     "output_type": "execute_result"
    }
   ],
   "source": [
    "z.resize_(3,3)"
   ]
  },
  {
   "cell_type": "markdown",
   "metadata": {},
   "source": [
    "### Pasando Tensores a Numpy\n",
    "\n",
    "Antes de hacer el entrenamiento de una red es muy probable que tengamos que hacer un preprocesamiento de los datos. Usualmente, el procesamiento se hace en numpy por facilidad además que tenemos muchísimas herramientas disponibles. Afortunadamente, pytorch provee una funciones para poder convertir entre formatos de forma casi directa. Para convetir de numpy a tensor usamos *torch.from_numpy()* y para retornar de torch a numpy utilizamos el método *.numpy()*"
   ]
  },
  {
   "cell_type": "code",
   "execution_count": 10,
   "metadata": {},
   "outputs": [
    {
     "name": "stdout",
     "output_type": "stream",
     "text": [
      "[[0.67563327 0.18166361 0.17825583]\n",
      " [0.59814195 0.17826752 0.20849879]\n",
      " [0.77626703 0.69895503 0.26704129]\n",
      " [0.45332484 0.76139437 0.38671402]]\n"
     ]
    }
   ],
   "source": [
    "# generemos un array en numpy\n",
    "a = np.random.rand(4,3)\n",
    "print(a)\n"
   ]
  },
  {
   "cell_type": "code",
   "execution_count": 11,
   "metadata": {},
   "outputs": [
    {
     "name": "stdout",
     "output_type": "stream",
     "text": [
      "tensor([[0.6756, 0.1817, 0.1783],\n",
      "        [0.5981, 0.1783, 0.2085],\n",
      "        [0.7763, 0.6990, 0.2670],\n",
      "        [0.4533, 0.7614, 0.3867]], dtype=torch.float64)\n"
     ]
    }
   ],
   "source": [
    "# convertir a pytorch\n",
    "A = torch.from_numpy(a)\n",
    "print(A)"
   ]
  },
  {
   "cell_type": "code",
   "execution_count": 12,
   "metadata": {},
   "outputs": [
    {
     "name": "stdout",
     "output_type": "stream",
     "text": [
      "[[0.67563327 0.18166361 0.17825583]\n",
      " [0.59814195 0.17826752 0.20849879]\n",
      " [0.77626703 0.69895503 0.26704129]\n",
      " [0.45332484 0.76139437 0.38671402]]\n"
     ]
    }
   ],
   "source": [
    "# convertir a numpy\n",
    "b = A.numpy()\n",
    "print(b)"
   ]
  },
  {
   "cell_type": "markdown",
   "metadata": {},
   "source": [
    "Advertencia! Ten cuidado por que resulta que las variables convertidas de pytorch a numpy comparte memoria asi que si modificas uno se modificará el otro!"
   ]
  },
  {
   "cell_type": "code",
   "execution_count": 13,
   "metadata": {},
   "outputs": [
    {
     "name": "stdout",
     "output_type": "stream",
     "text": [
      "tensor([[0.6756, 0.1817, 0.1783],\n",
      "        [0.5981, 0.1783, 0.2085],\n",
      "        [0.7763, 0.6990, 0.2670],\n",
      "        [0.4533, 0.7614, 0.3867]], dtype=torch.float64)\n"
     ]
    }
   ],
   "source": [
    "print(A)"
   ]
  },
  {
   "cell_type": "code",
   "execution_count": 14,
   "metadata": {},
   "outputs": [
    {
     "name": "stdout",
     "output_type": "stream",
     "text": [
      "tensor([[1.3513, 0.3633, 0.3565],\n",
      "        [1.1963, 0.3565, 0.4170],\n",
      "        [1.5525, 1.3979, 0.5341],\n",
      "        [0.9066, 1.5228, 0.7734]], dtype=torch.float64)\n"
     ]
    }
   ],
   "source": [
    "# multipliquemos el tensor\n",
    "A.mul_(2)\n",
    "print(A)"
   ]
  },
  {
   "cell_type": "markdown",
   "metadata": {},
   "source": [
    "ahora observemos el array"
   ]
  },
  {
   "cell_type": "code",
   "execution_count": 20,
   "metadata": {},
   "outputs": [
    {
     "data": {
      "text/plain": [
       "array([[0.04997838, 0.69939393, 0.28461541],\n",
       "       [0.49607331, 1.88631656, 1.39208763],\n",
       "       [0.16723199, 1.94114961, 0.15724856],\n",
       "       [0.10589783, 1.50927777, 0.41944651]])"
      ]
     },
     "execution_count": 20,
     "metadata": {},
     "output_type": "execute_result"
    }
   ],
   "source": [
    "print(a)"
   ]
  },
  {
   "cell_type": "markdown",
   "metadata": {},
   "source": [
    "### Perceptrón\n",
    "\n",
    "Ejercicio: implementa un perceptrón utilizando funciones de PyTorch"
   ]
  },
  {
   "cell_type": "code",
   "execution_count": 21,
   "metadata": {},
   "outputs": [
    {
     "name": "stdout",
     "output_type": "stream",
     "text": [
      "None\n",
      "tensor([2., 3., 4.], dtype=torch.float64)\n",
      "tensor([0.1000, 0.1000, 0.2000], dtype=torch.float64)\n",
      "tensor([1.], dtype=torch.float64)\n"
     ]
    }
   ],
   "source": [
    "# Implementa un perceptrón\n",
    "x_np = np.array([2.0, 3.0, 4.0])\n",
    "w_np = np.array([0.1, 0.1, 0.2])\n",
    "b_np = np.array([1.0])\n",
    "\n",
    "# en numpy seria\n",
    "h_np = np.dot(x_np, w_np) + b_np\n",
    "print(h_np)\n",
    "\n",
    "# Convierte los vectores a tensores de pytorch\n",
    "X = torch.from_numpy(x_np)\n",
    "print(X)\n",
    "W = torch.from_numpy(w_np)\n",
    "print(W)\n",
    "B = torch.from_numpy(b_np)\n",
    "print(B)"
   ]
  },
  {
   "cell_type": "code",
   "execution_count": 22,
   "metadata": {},
   "outputs": [
    {
     "name": "stdout",
     "output_type": "stream",
     "text": [
      "tensor([2.3000], dtype=torch.float64)\n"
     ]
    }
   ],
   "source": [
    "# realiza las operaciones necesarias y calcula la combinación lineal h\n",
    "# algunas funciones útiles son torch.add() y torch.dot()\n",
    "H =  torch.add(torch.dot(W,X),B)\n",
    "print(H)\n"
   ]
  },
  {
   "cell_type": "code",
   "execution_count": 23,
   "metadata": {},
   "outputs": [
    {
     "name": "stdout",
     "output_type": "stream",
     "text": [
      "tensor([0.9089], dtype=torch.float64)\n"
     ]
    }
   ],
   "source": [
    "# Pasa h por la función de activación segmoide torch.sigmoid()\n",
    "Y = torch.sigmoid(H)\n",
    "print(Y)"
   ]
  },
  {
   "cell_type": "code",
   "execution_count": 24,
   "metadata": {},
   "outputs": [
    {
     "name": "stdout",
     "output_type": "stream",
     "text": [
      "[0.90887704]\n"
     ]
    }
   ],
   "source": [
    "# Finalmente regresamos el tensor a un array de numpy\n",
    "y_np = Y.numpy()\n",
    "print(y_np)"
   ]
  },
  {
   "cell_type": "code",
   "execution_count": null,
   "metadata": {},
   "outputs": [],
   "source": []
  }
 ],
 "metadata": {
  "kernelspec": {
   "display_name": "Python 3 (ipykernel)",
   "language": "python",
   "name": "python3"
  },
  "language_info": {
   "codemirror_mode": {
    "name": "ipython",
    "version": 3
   },
   "file_extension": ".py",
   "mimetype": "text/x-python",
   "name": "python",
   "nbconvert_exporter": "python",
   "pygments_lexer": "ipython3",
   "version": "3.10.10"
  },
  "widgets": {
   "state": {},
   "version": "1.1.2"
  }
 },
 "nbformat": 4,
 "nbformat_minor": 2
}
