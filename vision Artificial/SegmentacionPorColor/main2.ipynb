{
 "cells": [
  {
   "cell_type": "code",
   "execution_count": 1,
   "metadata": {},
   "outputs": [],
   "source": [
    "import pandas as pd\n",
    "import numpy as np\n",
    "import cv2\n",
    "import kmeans"
   ]
  },
  {
   "cell_type": "code",
   "execution_count": 2,
   "metadata": {},
   "outputs": [],
   "source": [
    "#cargamos la imagen\n",
    "imagen = cv2.imread(\"../src/paisaje_resized.jpg\")\n",
    "\n",
    "r = imagen[:,:,2]\n",
    "g = imagen[:,:,1]\n",
    "b = imagen[:,:,0]"
   ]
  },
  {
   "cell_type": "code",
   "execution_count": 3,
   "metadata": {},
   "outputs": [],
   "source": [
    "#guardamos todos los pixeles en un arreglo unidimencional POR CAPA!!!\n",
    "r_uni = []\n",
    "g_uni = []\n",
    "b_uni = []\n",
    "filas = []\n",
    "columnas =[]\n",
    "#print(r.shape[0])\n",
    "for i in range(r.shape[0]):\n",
    "    for j in range(r.shape[1]):\n",
    "        r_uni.append(r[i,j])\n",
    "        g_uni.append(g[i,j])\n",
    "        b_uni.append(b[i,j])\n",
    "        filas.append(i)\n",
    "        columnas.append(j)\n",
    "\n",
    "#print(coordenadas[0][:])"
   ]
  },
  {
   "cell_type": "code",
   "execution_count": 4,
   "metadata": {},
   "outputs": [
    {
     "name": "stdout",
     "output_type": "stream",
     "text": [
      "       R    G    B  rows  columns\n",
      "0      0  101  185     0        0\n",
      "1      0  101  185     0        1\n",
      "2      0  101  185     0        2\n",
      "3      0  101  185     0        3\n",
      "4      0  100  185     0        4\n",
      "...   ..  ...  ...   ...      ...\n",
      "35745  6  145  126   142      245\n",
      "35746  5  144  123   142      246\n",
      "35747  6  144  119   142      247\n",
      "35748  2  138  114   142      248\n",
      "35749  2  139  113   142      249\n",
      "\n",
      "[35750 rows x 5 columns]\n"
     ]
    }
   ],
   "source": [
    "#ahora si vamos a hacer el dataframe\n",
    "datos = {'R':r_uni, 'G':g_uni, 'B':b_uni, 'rows':filas, 'columns':columnas}\n",
    "df = pd.DataFrame(data=datos)\n",
    "print(df)"
   ]
  },
  {
   "cell_type": "code",
   "execution_count": 8,
   "metadata": {},
   "outputs": [
    {
     "ename": "KeyboardInterrupt",
     "evalue": "",
     "output_type": "error",
     "traceback": [
      "\u001b[0;31m---------------------------------------------------------------------------\u001b[0m",
      "\u001b[0;31mKeyboardInterrupt\u001b[0m                         Traceback (most recent call last)",
      "Cell \u001b[0;32mIn[8], line 2\u001b[0m\n\u001b[1;32m      1\u001b[0m \u001b[39m#Le tiramos todo el dataFrame al KNN para que clusterize XD\u001b[39;00m\n\u001b[0;32m----> 2\u001b[0m dfClusters \u001b[39m=\u001b[39m kmeans\u001b[39m.\u001b[39;49mknn(df, \u001b[39m5\u001b[39;49m)\n\u001b[1;32m      3\u001b[0m \u001b[39mprint\u001b[39m(dfClusters)\n\u001b[1;32m      4\u001b[0m np\u001b[39m.\u001b[39msavetxt(\u001b[39m\"\u001b[39m\u001b[39m./imagenClusterizada.csv\u001b[39m\u001b[39m\"\u001b[39m, df, delimiter\u001b[39m=\u001b[39m\u001b[39m'\u001b[39m\u001b[39m,\u001b[39m\u001b[39m'\u001b[39m)\n",
      "File \u001b[0;32m~/Documentos/github/practicas-en-Python/vision Artificial/SegmentacionPorColor/kmeans.py:111\u001b[0m, in \u001b[0;36mknn\u001b[0;34m(data, k)\u001b[0m\n\u001b[1;32m    108\u001b[0m             compr \u001b[39m=\u001b[39m \u001b[39mFalse\u001b[39;00m\n\u001b[1;32m    109\u001b[0m     i \u001b[39m=\u001b[39m i \u001b[39m+\u001b[39m \u001b[39m1\u001b[39m \n\u001b[0;32m--> 111\u001b[0m data[\u001b[39m'\u001b[39m\u001b[39mcentroid\u001b[39m\u001b[39m'\u001b[39m], iter_error \u001b[39m=\u001b[39m assign_centroid(data,centroids)\n\u001b[1;32m    112\u001b[0m centroids \u001b[39m=\u001b[39m data\u001b[39m.\u001b[39mgroupby(\u001b[39m'\u001b[39m\u001b[39mcentroid\u001b[39m\u001b[39m'\u001b[39m)\u001b[39m.\u001b[39magg(\u001b[39m'\u001b[39m\u001b[39mmean\u001b[39m\u001b[39m'\u001b[39m)\u001b[39m.\u001b[39mreset_index(drop \u001b[39m=\u001b[39m \u001b[39mTrue\u001b[39;00m)\n\u001b[1;32m    114\u001b[0m \u001b[39m'''colors = {0:'red', 1:'blue', 2:'green'}\u001b[39;00m\n\u001b[1;32m    115\u001b[0m \n\u001b[1;32m    116\u001b[0m \u001b[39mfigure = plt.figure()\u001b[39;00m\n\u001b[0;32m   (...)\u001b[0m\n\u001b[1;32m    124\u001b[0m \u001b[39max.set_zlabel('B')\u001b[39;00m\n\u001b[1;32m    125\u001b[0m \u001b[39mplt.show()'''\u001b[39;00m\n",
      "File \u001b[0;32m~/Documentos/github/practicas-en-Python/vision Artificial/SegmentacionPorColor/kmeans.py:68\u001b[0m, in \u001b[0;36massign_centroid\u001b[0;34m(data, centroids)\u001b[0m\n\u001b[1;32m     66\u001b[0m errors \u001b[39m=\u001b[39m np\u001b[39m.\u001b[39marray([])\n\u001b[1;32m     67\u001b[0m \u001b[39mfor\u001b[39;00m centroid \u001b[39min\u001b[39;00m \u001b[39mrange\u001b[39m(k):\n\u001b[0;32m---> 68\u001b[0m     error \u001b[39m=\u001b[39m calculate_error(centroids\u001b[39m.\u001b[39;49miloc[centroid, :\u001b[39m2\u001b[39;49m], data\u001b[39m.\u001b[39miloc[observation,:\u001b[39m2\u001b[39m])\n\u001b[1;32m     69\u001b[0m     errors \u001b[39m=\u001b[39m np\u001b[39m.\u001b[39mappend(errors, error)\n\u001b[1;32m     71\u001b[0m \u001b[39m# Calculate closest centroid & error \u001b[39;00m\n",
      "File \u001b[0;32m~/.local/lib/python3.10/site-packages/pandas/core/indexing.py:1067\u001b[0m, in \u001b[0;36m_LocationIndexer.__getitem__\u001b[0;34m(self, key)\u001b[0m\n\u001b[1;32m   1065\u001b[0m     \u001b[39mif\u001b[39;00m \u001b[39mself\u001b[39m\u001b[39m.\u001b[39m_is_scalar_access(key):\n\u001b[1;32m   1066\u001b[0m         \u001b[39mreturn\u001b[39;00m \u001b[39mself\u001b[39m\u001b[39m.\u001b[39mobj\u001b[39m.\u001b[39m_get_value(\u001b[39m*\u001b[39mkey, takeable\u001b[39m=\u001b[39m\u001b[39mself\u001b[39m\u001b[39m.\u001b[39m_takeable)\n\u001b[0;32m-> 1067\u001b[0m     \u001b[39mreturn\u001b[39;00m \u001b[39mself\u001b[39;49m\u001b[39m.\u001b[39;49m_getitem_tuple(key)\n\u001b[1;32m   1068\u001b[0m \u001b[39melse\u001b[39;00m:\n\u001b[1;32m   1069\u001b[0m     \u001b[39m# we by definition only have the 0th axis\u001b[39;00m\n\u001b[1;32m   1070\u001b[0m     axis \u001b[39m=\u001b[39m \u001b[39mself\u001b[39m\u001b[39m.\u001b[39maxis \u001b[39mor\u001b[39;00m \u001b[39m0\u001b[39m\n",
      "File \u001b[0;32m~/.local/lib/python3.10/site-packages/pandas/core/indexing.py:1565\u001b[0m, in \u001b[0;36m_iLocIndexer._getitem_tuple\u001b[0;34m(self, tup)\u001b[0m\n\u001b[1;32m   1563\u001b[0m tup \u001b[39m=\u001b[39m \u001b[39mself\u001b[39m\u001b[39m.\u001b[39m_validate_tuple_indexer(tup)\n\u001b[1;32m   1564\u001b[0m \u001b[39mwith\u001b[39;00m suppress(IndexingError):\n\u001b[0;32m-> 1565\u001b[0m     \u001b[39mreturn\u001b[39;00m \u001b[39mself\u001b[39;49m\u001b[39m.\u001b[39;49m_getitem_lowerdim(tup)\n\u001b[1;32m   1567\u001b[0m \u001b[39mreturn\u001b[39;00m \u001b[39mself\u001b[39m\u001b[39m.\u001b[39m_getitem_tuple_same_dim(tup)\n",
      "File \u001b[0;32m~/.local/lib/python3.10/site-packages/pandas/core/indexing.py:967\u001b[0m, in \u001b[0;36m_LocationIndexer._getitem_lowerdim\u001b[0;34m(self, tup)\u001b[0m\n\u001b[1;32m    963\u001b[0m \u001b[39mfor\u001b[39;00m i, key \u001b[39min\u001b[39;00m \u001b[39menumerate\u001b[39m(tup):\n\u001b[1;32m    964\u001b[0m     \u001b[39mif\u001b[39;00m is_label_like(key):\n\u001b[1;32m    965\u001b[0m         \u001b[39m# We don't need to check for tuples here because those are\u001b[39;00m\n\u001b[1;32m    966\u001b[0m         \u001b[39m#  caught by the _is_nested_tuple_indexer check above.\u001b[39;00m\n\u001b[0;32m--> 967\u001b[0m         section \u001b[39m=\u001b[39m \u001b[39mself\u001b[39;49m\u001b[39m.\u001b[39;49m_getitem_axis(key, axis\u001b[39m=\u001b[39;49mi)\n\u001b[1;32m    969\u001b[0m         \u001b[39m# We should never have a scalar section here, because\u001b[39;00m\n\u001b[1;32m    970\u001b[0m         \u001b[39m#  _getitem_lowerdim is only called after a check for\u001b[39;00m\n\u001b[1;32m    971\u001b[0m         \u001b[39m#  is_scalar_access, which that would be.\u001b[39;00m\n\u001b[1;32m    972\u001b[0m         \u001b[39mif\u001b[39;00m section\u001b[39m.\u001b[39mndim \u001b[39m==\u001b[39m \u001b[39mself\u001b[39m\u001b[39m.\u001b[39mndim:\n\u001b[1;32m    973\u001b[0m             \u001b[39m# we're in the middle of slicing through a MultiIndex\u001b[39;00m\n\u001b[1;32m    974\u001b[0m             \u001b[39m# revise the key wrt to `section` by inserting an _NS\u001b[39;00m\n",
      "File \u001b[0;32m~/.local/lib/python3.10/site-packages/pandas/core/indexing.py:1615\u001b[0m, in \u001b[0;36m_iLocIndexer._getitem_axis\u001b[0;34m(self, key, axis)\u001b[0m\n\u001b[1;32m   1612\u001b[0m     \u001b[39mreturn\u001b[39;00m \u001b[39mself\u001b[39m\u001b[39m.\u001b[39m_getbool_axis(key, axis\u001b[39m=\u001b[39maxis)\n\u001b[1;32m   1614\u001b[0m \u001b[39m# a list of integers\u001b[39;00m\n\u001b[0;32m-> 1615\u001b[0m \u001b[39melif\u001b[39;00m is_list_like_indexer(key):\n\u001b[1;32m   1616\u001b[0m     \u001b[39mreturn\u001b[39;00m \u001b[39mself\u001b[39m\u001b[39m.\u001b[39m_get_list_axis(key, axis\u001b[39m=\u001b[39maxis)\n\u001b[1;32m   1618\u001b[0m \u001b[39m# a single integer\u001b[39;00m\n\u001b[1;32m   1619\u001b[0m \u001b[39melse\u001b[39;00m:\n",
      "File \u001b[0;32m~/.local/lib/python3.10/site-packages/pandas/core/indexers/utils.py:79\u001b[0m, in \u001b[0;36mis_list_like_indexer\u001b[0;34m(key)\u001b[0m\n\u001b[1;32m     67\u001b[0m \u001b[39m\"\"\"\u001b[39;00m\n\u001b[1;32m     68\u001b[0m \u001b[39mCheck if we have a list-like indexer that is *not* a NamedTuple.\u001b[39;00m\n\u001b[1;32m     69\u001b[0m \n\u001b[0;32m   (...)\u001b[0m\n\u001b[1;32m     76\u001b[0m \u001b[39mbool\u001b[39;00m\n\u001b[1;32m     77\u001b[0m \u001b[39m\"\"\"\u001b[39;00m\n\u001b[1;32m     78\u001b[0m \u001b[39m# allow a list_like, but exclude NamedTuples which can be indexers\u001b[39;00m\n\u001b[0;32m---> 79\u001b[0m \u001b[39mreturn\u001b[39;00m is_list_like(key) \u001b[39mand\u001b[39;00m \u001b[39mnot\u001b[39;00m (\u001b[39misinstance\u001b[39m(key, \u001b[39mtuple\u001b[39m) \u001b[39mand\u001b[39;00m \u001b[39mtype\u001b[39m(key) \u001b[39mis\u001b[39;00m \u001b[39mnot\u001b[39;00m \u001b[39mtuple\u001b[39m)\n",
      "\u001b[0;31mKeyboardInterrupt\u001b[0m: "
     ]
    }
   ],
   "source": [
    "#Le tiramos todo el dataFrame al KNN para que clusterize XD\n",
    "dfClusters = kmeans.knn(df, 5)\n",
    "print(dfClusters)\n",
    "np.savetxt(\"./imagenClusterizada.csv\", df, delimiter=',')"
   ]
  },
  {
   "cell_type": "code",
   "execution_count": 5,
   "metadata": {},
   "outputs": [
    {
     "name": "stdout",
     "output_type": "stream",
     "text": [
      "         R      G      B   rows  columns  centroid\n",
      "0      0.0  101.0  185.0    0.0      0.0       2.0\n",
      "1      0.0  101.0  185.0    0.0      1.0       2.0\n",
      "2      0.0  101.0  185.0    0.0      2.0       2.0\n",
      "3      0.0  101.0  185.0    0.0      3.0       2.0\n",
      "4      0.0  100.0  185.0    0.0      4.0       2.0\n",
      "...    ...    ...    ...    ...      ...       ...\n",
      "35745  6.0  145.0  126.0  142.0    245.0       2.0\n",
      "35746  5.0  144.0  123.0  142.0    246.0       2.0\n",
      "35747  6.0  144.0  119.0  142.0    247.0       2.0\n",
      "35748  2.0  138.0  114.0  142.0    248.0       2.0\n",
      "35749  2.0  139.0  113.0  142.0    249.0       2.0\n",
      "\n",
      "[35750 rows x 6 columns]\n"
     ]
    }
   ],
   "source": [
    "#leemos el archivo \"imagenClusterizada.csv\" para ver como lo interpreta pandas\n",
    "\n",
    "imagenCluster = pd.read_csv(\"./imagenClusterizada.csv\", sep=',', engine='python')\n",
    "print(imagenCluster)"
   ]
  },
  {
   "cell_type": "code",
   "execution_count": 6,
   "metadata": {},
   "outputs": [
    {
     "name": "stdout",
     "output_type": "stream",
     "text": [
      "[2. 2. 2. ... 2. 2. 2.]\n"
     ]
    }
   ],
   "source": [
    "#recuperamos los clusters\n",
    "clusters = imagenCluster['centroid'].values\n",
    "\n",
    "print (clusters)"
   ]
  },
  {
   "cell_type": "code",
   "execution_count": null,
   "metadata": {},
   "outputs": [],
   "source": [
    "#recuperamos la informacion de los clusters"
   ]
  },
  {
   "cell_type": "code",
   "execution_count": 9,
   "metadata": {},
   "outputs": [
    {
     "name": "stdout",
     "output_type": "stream",
     "text": [
      "35750\n",
      "[ 15  70  51   1  27  49   6   0   2   2  55  57  13  57  95  35   9  25\n",
      "  38  55  65  37  15  25  41  48  54  34  35  52  32   8   6  26  44  46\n",
      "  11  23  26  50  43  25  21  27  86  63 107  72  37  27  56  45  44  42\n",
      "   1   2  35  28  61  81  30  72  77  11  15  54  45  40 118 135  35  56\n",
      "  62  99  78  70 104 118  85  87  33  41  25   3  61  58  71  87  34  37\n",
      "  17  24  16  20  61  89  86  65  71  38 105  97 125  80  77  31  41  52\n",
      "  63  89  89  11  16  38  51  46  12  90 146 103  61  96  22  85 148 101\n",
      "  91  65  32  48  63  91 110 120 119 108  50  87 114 168  93  66  36  77\n",
      "  96  23 115 118 146 129 157 169 179  79  21  38  61  36   1   0  28   8\n",
      "  32  40 105 165  97  23  76  49  79  52 136  69  45  74  83  16  79  94\n",
      " 106 131 162 128 128 119 132 137 143 126  72  45  54  26  11  12   9   0\n",
      "   0   5   0   0   0   1   1   4   8   8  11  10   9   9   7   5   6   7\n",
      "   0   3   9  12  13  10   9   7   5   6   5   2   4   7   8   5   4   5\n",
      "   7   8  10  10   7   7   7   8   6   4   4   6   5   6   2   2]\n"
     ]
    }
   ],
   "source": [
    "#aplicamos la sumatoria de cada una de las capas en cada uno de los clusters para encontrar bajo que capa de color tienden los datos del cluster\n",
    "r_recuperada = np.zeros((imagen.shape[0], imagen.shape[1]), imagen.dtype)\n",
    "g_recuperada = np.zeros(imagen.shape, imagen.dtype)\n",
    "b_recuperada = np.zeros(imagen.shape, imagen.dtype)\n",
    "\n",
    "\n",
    "r_unidimencional=imagenCluster['R'].to_list()\n",
    "g_unidimencional=imagenCluster['G'].to_list()\n",
    "b_unidimencional=imagenCluster['B'].to_list()\n",
    "#print(r_unidimencional)\n",
    "#for i in range(imagenCluster.shape[0]):\n",
    "   \n",
    "#print(len(imagenCluster['0.000000000000000000e+00.1']))\n",
    "print(imagenCluster.shape[0])\n",
    "i = 0\n",
    "j = 0\n",
    "for k in range(imagenCluster.shape[0]):\n",
    "    #print(\"holi\")\n",
    "    if(j >= imagen.shape[1]):\n",
    "        j=0\n",
    "        if(i >= imagen.shape[0]):\n",
    "            i=0\n",
    "        i+=1\n",
    "    r_recuperada[i][j] = r_unidimencional[k] \n",
    "    g_recuperada[i][j] = g_unidimencional[k]\n",
    "    b_recuperada[i][j] = b_unidimencional[k]\n",
    "    \n",
    "    j+=1\n",
    "    '''for column in imagenCluster['0.000000000000000000e+00.2']:\n",
    "        r_recuperada[int(row)][int(column)] = r_unidimencional[i]\n",
    "        if i >= 35747:\n",
    "            break\n",
    "        i+=1\n",
    "    \n",
    "'''\n",
    "print(r_recuperada[142,:])\n",
    "cv2.imshow(\"r_recuperada\", r_recuperada)\n",
    "cv2.waitKey(0)\n",
    "cv2.destroyAllWindows()"
   ]
  }
 ],
 "metadata": {
  "kernelspec": {
   "display_name": "Python 3.10.6 64-bit",
   "language": "python",
   "name": "python3"
  },
  "language_info": {
   "codemirror_mode": {
    "name": "ipython",
    "version": 3
   },
   "file_extension": ".py",
   "mimetype": "text/x-python",
   "name": "python",
   "nbconvert_exporter": "python",
   "pygments_lexer": "ipython3",
   "version": "3.10.6"
  },
  "orig_nbformat": 4,
  "vscode": {
   "interpreter": {
    "hash": "916dbcbb3f70747c44a77c7bcd40155683ae19c65e1c03b4aa3499c5328201f1"
   }
  }
 },
 "nbformat": 4,
 "nbformat_minor": 2
}
