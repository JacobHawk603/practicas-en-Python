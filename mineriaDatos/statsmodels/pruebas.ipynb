{
 "cells": [
  {
   "cell_type": "code",
   "execution_count": 9,
   "metadata": {},
   "outputs": [],
   "source": [
    "import numpy as np\n",
    "import statsmodels.api as sm\n",
    "import statsmodels.formula.api as smf\n",
    "import pandas as pd"
   ]
  },
  {
   "cell_type": "code",
   "execution_count": 7,
   "metadata": {},
   "outputs": [
    {
     "name": "stdout",
     "output_type": "stream",
     "text": [
      "                            OLS Regression Results                            \n",
      "==============================================================================\n",
      "Dep. Variable:                Lottery   R-squared:                       0.348\n",
      "Model:                            OLS   Adj. R-squared:                  0.333\n",
      "Method:                 Least Squares   F-statistic:                     22.20\n",
      "Date:                Tue, 02 May 2023   Prob (F-statistic):           1.90e-08\n",
      "Time:                        11:35:04   Log-Likelihood:                -379.82\n",
      "No. Observations:                  86   AIC:                             765.6\n",
      "Df Residuals:                      83   BIC:                             773.0\n",
      "Df Model:                           2                                         \n",
      "Covariance Type:            nonrobust                                         \n",
      "===================================================================================\n",
      "                      coef    std err          t      P>|t|      [0.025      0.975]\n",
      "-----------------------------------------------------------------------------------\n",
      "Intercept         246.4341     35.233      6.995      0.000     176.358     316.510\n",
      "Literacy           -0.4889      0.128     -3.832      0.000      -0.743      -0.235\n",
      "np.log(Pop1831)   -31.3114      5.977     -5.239      0.000     -43.199     -19.424\n",
      "==============================================================================\n",
      "Omnibus:                        3.713   Durbin-Watson:                   2.019\n",
      "Prob(Omnibus):                  0.156   Jarque-Bera (JB):                3.394\n",
      "Skew:                          -0.487   Prob(JB):                        0.183\n",
      "Kurtosis:                       3.003   Cond. No.                         702.\n",
      "==============================================================================\n",
      "\n",
      "Notes:\n",
      "[1] Standard Errors assume that the covariance matrix of the errors is correctly specified.\n"
     ]
    }
   ],
   "source": [
    "# Load data\n",
    "dat = sm.datasets.get_rdataset(\"Guerry\", \"HistData\").data\n",
    "\n",
    "# Fit regression model (using the natural log of one of the regressors)\n",
    "results = smf.ols('Lottery ~ Literacy + np.log(Pop1831)', data=dat).fit()\n",
    "\n",
    "# Inspect the results\n",
    "print(results.summary())"
   ]
  },
  {
   "cell_type": "code",
   "execution_count": 24,
   "metadata": {},
   "outputs": [
    {
     "name": "stdout",
     "output_type": "stream",
     "text": [
      "['CLAVE_CASILLA' 'CLAVE_ACTA' 'ID_ESTADO' 'ESTADO' 'ID_DISTRITO_LOCAL'\n",
      " 'DISTRITO_LOCAL' 'SECCION' 'ID_CASILLA' 'TIPO_CASILLA' 'EXT_CONTIGUA'\n",
      " 'UBICACION_CASILLA' 'TIPO_ACTA' 'TOTAL_BOLETAS_SOBRANTES'\n",
      " 'TOTAL_PERSONAS_VOTARON' 'TOTAL_REP_PARTIDO_CI_VOTARON'\n",
      " 'TOTAL_VOTOS_SACADOS' 'PAN' 'PRI' 'PRD' 'MC' 'PANAL' 'PVEM' 'PES' 'M'\n",
      " 'PT' 'CQ' 'QI' 'MORENA_PT_PES' 'MORENA_PT' 'MORENA_PES' 'PT_PES'\n",
      " 'PRI_PVEM' 'PAN_PRD_MC' 'PAN_PRD' 'PAN_MC' 'PRD_MC' 'CAND_IND_1'\n",
      " 'CAND_IND_2' 'CAND_IND_3' 'CAND_IND_4' 'CAND_IND_5' 'CAND_IND_6'\n",
      " 'CAND_IND_7' 'CAND_IND_8' 'CAND_IND_9' 'CAND_IND_10' 'CAND_IND_11'\n",
      " 'CAND_IND_12' 'CAND_IND_13' 'CAND_IND_14' 'CAND_IND_15' 'CAND_IND_16'\n",
      " 'CAND_IND_17' 'CAND_IND_18' 'CAND_IND_19' 'CAND_IND_20' 'CAND_IND_21'\n",
      " 'CAND_IND_22' 'CAND_IND_23' 'CAND_IND_24' 'CAND_IND_25' 'CAND_IND_26'\n",
      " 'CAND_IND_27' 'CAND_IND_28' 'CAND_IND_29' 'CAND_IND_30' 'CAND_IND_31'\n",
      " 'NO_REGISTRADOS' 'NULOS' 'TOTAL_VOTOS_ASENTADO' 'TOTAL_VOTOS_CALCULADO'\n",
      " 'LISTA_NOMINAL' 'REPRESENTANTES_PP_CI' 'OBSERVACIONES' 'CONTABILIZADA'\n",
      " 'MECANISMOS_TRASLADO' 'SHA' 'FECHA_HORA_ACOPIO' 'FECHA_HORA_CAPTURA'\n",
      " 'FECHA_HORA_VERIFICACION' 'ORIGEN' 'DIGITALIZACION' 'TIPO_DOCUMENTO']\n"
     ]
    }
   ],
   "source": [
    "df = pd.read_csv(\"QRO_DIP_LOC_2018.csv\", sep=\",\", skiprows=5)\n",
    "print(df.columns.values)"
   ]
  },
  {
   "cell_type": "code",
   "execution_count": 29,
   "metadata": {},
   "outputs": [],
   "source": [
    "def _HCCM(results, scale):\n",
    "    '''\n",
    "    sandwich with pinv(x) * diag(scale) * pinv(x).T\n",
    "\n",
    "    where pinv(x) = (X'X)^(-1) X\n",
    "    and scale is (nobs,)\n",
    "    '''\n",
    "\n",
    "    H = np.dot(results.model.pinv_wexog,\n",
    "        scale[:,None]*np.matrix(results).model.pinv_wexog.T)\n",
    "    return H"
   ]
  },
  {
   "cell_type": "code",
   "execution_count": 30,
   "metadata": {},
   "outputs": [
    {
     "ename": "ValueError",
     "evalue": "Multi-dimensional indexing (e.g. `obj[:, None]`) is no longer supported. Convert to a numpy array before indexing instead.",
     "output_type": "error",
     "traceback": [
      "\u001b[1;31m---------------------------------------------------------------------------\u001b[0m",
      "\u001b[1;31mValueError\u001b[0m                                Traceback (most recent call last)",
      "Cell \u001b[1;32mIn[30], line 2\u001b[0m\n\u001b[0;32m      1\u001b[0m het_scale \u001b[39m=\u001b[39m results\u001b[39m.\u001b[39mnobs\u001b[39m/\u001b[39m(results\u001b[39m.\u001b[39mdf_resid)\u001b[39m*\u001b[39m(results\u001b[39m.\u001b[39mresid\u001b[39m*\u001b[39m\u001b[39m*\u001b[39m\u001b[39m2\u001b[39m)\n\u001b[1;32m----> 2\u001b[0m cov_hc1 \u001b[39m=\u001b[39m _HCCM(results, het_scale)\n\u001b[0;32m      3\u001b[0m \u001b[39mprint\u001b[39m(cov_hc1)\n",
      "Cell \u001b[1;32mIn[29], line 10\u001b[0m, in \u001b[0;36m_HCCM\u001b[1;34m(results, scale)\u001b[0m\n\u001b[0;32m      1\u001b[0m \u001b[39mdef\u001b[39;00m \u001b[39m_HCCM\u001b[39m(results, scale):\n\u001b[0;32m      2\u001b[0m \u001b[39m    \u001b[39m\u001b[39m'''\u001b[39;00m\n\u001b[0;32m      3\u001b[0m \u001b[39m    sandwich with pinv(x) * diag(scale) * pinv(x).T\u001b[39;00m\n\u001b[0;32m      4\u001b[0m \n\u001b[0;32m      5\u001b[0m \u001b[39m    where pinv(x) = (X'X)^(-1) X\u001b[39;00m\n\u001b[0;32m      6\u001b[0m \u001b[39m    and scale is (nobs,)\u001b[39;00m\n\u001b[0;32m      7\u001b[0m \u001b[39m    '''\u001b[39;00m\n\u001b[0;32m      9\u001b[0m     H \u001b[39m=\u001b[39m np\u001b[39m.\u001b[39mdot(results\u001b[39m.\u001b[39mmodel\u001b[39m.\u001b[39mpinv_wexog,\n\u001b[1;32m---> 10\u001b[0m         scale[:,\u001b[39mNone\u001b[39;49;00m]\u001b[39m*\u001b[39mnp\u001b[39m.\u001b[39mmatrix(results)\u001b[39m.\u001b[39mmodel\u001b[39m.\u001b[39mpinv_wexog\u001b[39m.\u001b[39mT)\n\u001b[0;32m     11\u001b[0m     \u001b[39mreturn\u001b[39;00m H\n",
      "File \u001b[1;32mc:\\Users\\Yerry\\anaconda3\\envs\\curso_mineriaDatos\\lib\\site-packages\\pandas\\core\\series.py:1033\u001b[0m, in \u001b[0;36mSeries.__getitem__\u001b[1;34m(self, key)\u001b[0m\n\u001b[0;32m   1030\u001b[0m     key \u001b[39m=\u001b[39m np\u001b[39m.\u001b[39masarray(key, dtype\u001b[39m=\u001b[39m\u001b[39mbool\u001b[39m)\n\u001b[0;32m   1031\u001b[0m     \u001b[39mreturn\u001b[39;00m \u001b[39mself\u001b[39m\u001b[39m.\u001b[39m_get_values(key)\n\u001b[1;32m-> 1033\u001b[0m \u001b[39mreturn\u001b[39;00m \u001b[39mself\u001b[39;49m\u001b[39m.\u001b[39;49m_get_with(key)\n",
      "File \u001b[1;32mc:\\Users\\Yerry\\anaconda3\\envs\\curso_mineriaDatos\\lib\\site-packages\\pandas\\core\\series.py:1048\u001b[0m, in \u001b[0;36mSeries._get_with\u001b[1;34m(self, key)\u001b[0m\n\u001b[0;32m   1043\u001b[0m     \u001b[39mraise\u001b[39;00m \u001b[39mTypeError\u001b[39;00m(\n\u001b[0;32m   1044\u001b[0m         \u001b[39m\"\u001b[39m\u001b[39mIndexing a Series with DataFrame is not \u001b[39m\u001b[39m\"\u001b[39m\n\u001b[0;32m   1045\u001b[0m         \u001b[39m\"\u001b[39m\u001b[39msupported, use the appropriate DataFrame column\u001b[39m\u001b[39m\"\u001b[39m\n\u001b[0;32m   1046\u001b[0m     )\n\u001b[0;32m   1047\u001b[0m \u001b[39melif\u001b[39;00m \u001b[39misinstance\u001b[39m(key, \u001b[39mtuple\u001b[39m):\n\u001b[1;32m-> 1048\u001b[0m     \u001b[39mreturn\u001b[39;00m \u001b[39mself\u001b[39;49m\u001b[39m.\u001b[39;49m_get_values_tuple(key)\n\u001b[0;32m   1050\u001b[0m \u001b[39melif\u001b[39;00m \u001b[39mnot\u001b[39;00m is_list_like(key):\n\u001b[0;32m   1051\u001b[0m     \u001b[39m# e.g. scalars that aren't recognized by lib.is_scalar, GH#32684\u001b[39;00m\n\u001b[0;32m   1052\u001b[0m     \u001b[39mreturn\u001b[39;00m \u001b[39mself\u001b[39m\u001b[39m.\u001b[39mloc[key]\n",
      "File \u001b[1;32mc:\\Users\\Yerry\\anaconda3\\envs\\curso_mineriaDatos\\lib\\site-packages\\pandas\\core\\series.py:1082\u001b[0m, in \u001b[0;36mSeries._get_values_tuple\u001b[1;34m(self, key)\u001b[0m\n\u001b[0;32m   1077\u001b[0m \u001b[39mif\u001b[39;00m com\u001b[39m.\u001b[39many_none(\u001b[39m*\u001b[39mkey):\n\u001b[0;32m   1078\u001b[0m     \u001b[39m# mpl compat if we look up e.g. ser[:, np.newaxis];\u001b[39;00m\n\u001b[0;32m   1079\u001b[0m     \u001b[39m#  see tests.series.timeseries.test_mpl_compat_hack\u001b[39;00m\n\u001b[0;32m   1080\u001b[0m     \u001b[39m# the asarray is needed to avoid returning a 2D DatetimeArray\u001b[39;00m\n\u001b[0;32m   1081\u001b[0m     result \u001b[39m=\u001b[39m np\u001b[39m.\u001b[39masarray(\u001b[39mself\u001b[39m\u001b[39m.\u001b[39m_values[key])\n\u001b[1;32m-> 1082\u001b[0m     disallow_ndim_indexing(result)\n\u001b[0;32m   1083\u001b[0m     \u001b[39mreturn\u001b[39;00m result\n\u001b[0;32m   1085\u001b[0m \u001b[39mif\u001b[39;00m \u001b[39mnot\u001b[39;00m \u001b[39misinstance\u001b[39m(\u001b[39mself\u001b[39m\u001b[39m.\u001b[39mindex, MultiIndex):\n",
      "File \u001b[1;32mc:\\Users\\Yerry\\anaconda3\\envs\\curso_mineriaDatos\\lib\\site-packages\\pandas\\core\\indexers\\utils.py:343\u001b[0m, in \u001b[0;36mdisallow_ndim_indexing\u001b[1;34m(result)\u001b[0m\n\u001b[0;32m    335\u001b[0m \u001b[39m\u001b[39m\u001b[39m\"\"\"\u001b[39;00m\n\u001b[0;32m    336\u001b[0m \u001b[39mHelper function to disallow multi-dimensional indexing on 1D Series/Index.\u001b[39;00m\n\u001b[0;32m    337\u001b[0m \n\u001b[1;32m   (...)\u001b[0m\n\u001b[0;32m    340\u001b[0m \u001b[39min GH#30588.\u001b[39;00m\n\u001b[0;32m    341\u001b[0m \u001b[39m\"\"\"\u001b[39;00m\n\u001b[0;32m    342\u001b[0m \u001b[39mif\u001b[39;00m np\u001b[39m.\u001b[39mndim(result) \u001b[39m>\u001b[39m \u001b[39m1\u001b[39m:\n\u001b[1;32m--> 343\u001b[0m     \u001b[39mraise\u001b[39;00m \u001b[39mValueError\u001b[39;00m(\n\u001b[0;32m    344\u001b[0m         \u001b[39m\"\u001b[39m\u001b[39mMulti-dimensional indexing (e.g. `obj[:, None]`) is no longer \u001b[39m\u001b[39m\"\u001b[39m\n\u001b[0;32m    345\u001b[0m         \u001b[39m\"\u001b[39m\u001b[39msupported. Convert to a numpy array before indexing instead.\u001b[39m\u001b[39m\"\u001b[39m\n\u001b[0;32m    346\u001b[0m     )\n",
      "\u001b[1;31mValueError\u001b[0m: Multi-dimensional indexing (e.g. `obj[:, None]`) is no longer supported. Convert to a numpy array before indexing instead."
     ]
    }
   ],
   "source": [
    "het_scale = results.nobs/(results.df_resid)*(results.resid**2)\n",
    "cov_hc1 = _HCCM(results, het_scale)\n",
    "print(cov_hc1)"
   ]
  }
 ],
 "metadata": {
  "kernelspec": {
   "display_name": "curso_mineriaDatos",
   "language": "python",
   "name": "python3"
  },
  "language_info": {
   "codemirror_mode": {
    "name": "ipython",
    "version": 3
   },
   "file_extension": ".py",
   "mimetype": "text/x-python",
   "name": "python",
   "nbconvert_exporter": "python",
   "pygments_lexer": "ipython3",
   "version": "3.10.11"
  },
  "orig_nbformat": 4
 },
 "nbformat": 4,
 "nbformat_minor": 2
}
