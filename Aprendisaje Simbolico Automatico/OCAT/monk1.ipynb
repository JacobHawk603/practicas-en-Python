{
 "cells": [
  {
   "cell_type": "markdown",
   "metadata": {},
   "source": [
    "Recordatorio: estraer los archivos del .zip y almacenarlos todos en una crapeta con nombre \"monks problems\" para ejecutar el codigo sin necesidad de cambiar rutas de archivos por defecto"
   ]
  },
  {
   "cell_type": "markdown",
   "metadata": {},
   "source": [
    "# Problema de Monjes número 1"
   ]
  },
  {
   "cell_type": "code",
   "execution_count": 1,
   "metadata": {},
   "outputs": [],
   "source": [
    "import pandas as pd"
   ]
  },
  {
   "cell_type": "markdown",
   "metadata": {},
   "source": [
    "## importamos los dataset"
   ]
  },
  {
   "cell_type": "code",
   "execution_count": 2,
   "metadata": {},
   "outputs": [
    {
     "name": "stdout",
     "output_type": "stream",
     "text": [
      "     Class  a1  a2  a3  a4  a5  a6        Id\n",
      "0        1   1   1   1   1   3   1    data_5\n",
      "1        1   1   1   1   1   3   2    data_6\n",
      "2        1   1   1   1   3   2   1   data_19\n",
      "3        1   1   1   1   3   3   2   data_22\n",
      "4        1   1   1   2   1   2   1   data_27\n",
      "..     ...  ..  ..  ..  ..  ..  ..       ...\n",
      "119      1   3   3   2   1   4   2  data_416\n",
      "120      1   3   3   2   3   1   2  data_426\n",
      "121      1   3   3   2   3   2   2  data_428\n",
      "122      1   3   3   2   3   3   2  data_430\n",
      "123      1   3   3   2   3   4   2  data_432\n",
      "\n",
      "[124 rows x 8 columns]\n",
      "     Class  a1  a2  a3  a4  a5  a6        Id\n",
      "0        1   1   1   1   1   1   1    data_1\n",
      "1        1   1   1   1   1   1   2    data_2\n",
      "2        1   1   1   1   1   2   1    data_3\n",
      "3        1   1   1   1   1   2   2    data_4\n",
      "4        1   1   1   1   1   3   1    data_5\n",
      "..     ...  ..  ..  ..  ..  ..  ..       ...\n",
      "427      1   3   3   2   3   2   2  data_428\n",
      "428      1   3   3   2   3   3   1  data_429\n",
      "429      1   3   3   2   3   3   2  data_430\n",
      "430      1   3   3   2   3   4   1  data_431\n",
      "431      1   3   3   2   3   4   2  data_432\n",
      "\n",
      "[432 rows x 8 columns]\n"
     ]
    }
   ],
   "source": [
    "train_set = pd.read_excel(\"src/monks problems/monks-1-train.ods\")\n",
    "test_set = pd.read_excel(\"src/monks problems/monks-1-test.ods\")\n",
    "\n",
    "print(train_set)\n",
    "print(test_set)"
   ]
  },
  {
   "cell_type": "markdown",
   "metadata": {},
   "source": [
    "## Binarizar las caracteristicas a1-a6"
   ]
  },
  {
   "cell_type": "markdown",
   "metadata": {},
   "source": [
    "Recordemos que se trata de datos categoricos, por lo que, independientemente de que estén etiquetados con valores numeros, hayq ue darles el tratamiento de datos categoricos"
   ]
  },
  {
   "cell_type": "code",
   "execution_count": 6,
   "metadata": {},
   "outputs": [
    {
     "name": "stdout",
     "output_type": "stream",
     "text": [
      "     x1,1  x1,2  x1,3  valor_real 1  x2,1  x2,2  x2,3  valor_real 2  x3,1  \\\n",
      "0       1     0     0             1     1     0     0             1     1   \n",
      "1       1     0     0             1     1     0     0             1     1   \n",
      "2       1     0     0             1     1     0     0             1     1   \n",
      "3       1     0     0             1     1     0     0             1     1   \n",
      "4       1     0     0             1     1     0     0             1     0   \n",
      "..    ...   ...   ...           ...   ...   ...   ...           ...   ...   \n",
      "119     0     0     1             3     0     0     1             3     0   \n",
      "120     0     0     1             3     0     0     1             3     0   \n",
      "121     0     0     1             3     0     0     1             3     0   \n",
      "122     0     0     1             3     0     0     1             3     0   \n",
      "123     0     0     1             3     0     0     1             3     0   \n",
      "\n",
      "     x3,2  ...  x4,3  valor_real 4  x5,1  x5,2  x5,3  valor_real 5  x6,1  \\\n",
      "0       0  ...     0             1     1     0     0             3     1   \n",
      "1       0  ...     0             1     1     0     0             3     0   \n",
      "2       0  ...     0             3     0     0     1             2     1   \n",
      "3       0  ...     0             3     1     0     0             3     0   \n",
      "4       1  ...     0             1     0     0     1             2     1   \n",
      "..    ...  ...   ...           ...   ...   ...   ...           ...   ...   \n",
      "119     1  ...     0             1     0     1     0             4     0   \n",
      "120     1  ...     0             3     0     0     1             1     0   \n",
      "121     1  ...     0             3     0     0     1             2     0   \n",
      "122     1  ...     0             3     1     0     0             3     0   \n",
      "123     1  ...     0             3     0     1     0             4     0   \n",
      "\n",
      "     x6,2  valor_real 6  Class  \n",
      "0       0             1      1  \n",
      "1       1             2      1  \n",
      "2       0             1      1  \n",
      "3       1             2      1  \n",
      "4       0             1      1  \n",
      "..    ...           ...    ...  \n",
      "119     1             2      1  \n",
      "120     1             2      1  \n",
      "121     1             2      1  \n",
      "122     1             2      1  \n",
      "123     1             2      1  \n",
      "\n",
      "[124 rows x 23 columns]\n"
     ]
    }
   ],
   "source": [
    "from Binarizacion import binarizar_categoricos\n",
    "\n",
    "binarizados_dataframe:list[pd.DataFrame] = []\n",
    "\n",
    "for i in range(1,7):\n",
    "    binarizados_dataframe.append(binarizar_categoricos(train_set[f\"a{i}\"].values.tolist(), i))\n",
    "\n",
    "# for binarizado in binarizados_dataframe:\n",
    "#     print(binarizado)\n",
    "\n",
    "#trampita, primero vamos a meter en forma de dataframe las clases a las que pertenece cada registro\n",
    "binarizados_dataframe.append(train_set[\"Class\"])\n",
    "\n",
    "dataframe_binario = pd.concat(binarizados_dataframe, axis=1)\n",
    "\n",
    "print(dataframe_binario)"
   ]
  },
  {
   "cell_type": "markdown",
   "metadata": {},
   "source": [
    "## Una vez binarizado el dataset, separemos los registros por clase"
   ]
  },
  {
   "cell_type": "code",
   "execution_count": 10,
   "metadata": {},
   "outputs": [
    {
     "name": "stdout",
     "output_type": "stream",
     "text": [
      "     x1,1  x1,2  x1,3  valor_real 1  x2,1  x2,2  x2,3  valor_real 2  x3,1  \\\n",
      "10      1     0     0             1     0     1     0             2     1   \n",
      "11      1     0     0             1     0     1     0             2     1   \n",
      "12      1     0     0             1     0     1     0             2     1   \n",
      "14      1     0     0             1     0     1     0             2     1   \n",
      "15      1     0     0             1     0     1     0             2     1   \n",
      "..    ...   ...   ...           ...   ...   ...   ...           ...   ...   \n",
      "98      0     0     1             3     0     1     0             2     1   \n",
      "100     0     0     1             3     0     1     0             2     1   \n",
      "103     0     0     1             3     0     1     0             2     0   \n",
      "105     0     0     1             3     0     1     0             2     0   \n",
      "106     0     0     1             3     0     1     0             2     0   \n",
      "\n",
      "     x3,2  ...  x4,3  valor_real 4  x5,1  x5,2  x5,3  valor_real 5  x6,1  \\\n",
      "10      0  ...     0             1     0     0     1             2     1   \n",
      "11      0  ...     0             1     1     0     0             3     1   \n",
      "12      0  ...     0             1     0     1     0             4     0   \n",
      "14      0  ...     1             2     1     0     0             3     1   \n",
      "15      0  ...     1             2     1     0     0             3     0   \n",
      "..    ...  ...   ...           ...   ...   ...   ...           ...   ...   \n",
      "98      0  ...     0             1     0     1     0             4     0   \n",
      "100     0  ...     1             2     0     1     0             4     0   \n",
      "103     1  ...     0             1     1     0     0             3     0   \n",
      "105     1  ...     0             3     0     0     1             2     1   \n",
      "106     1  ...     0             3     0     1     0             4     1   \n",
      "\n",
      "     x6,2  valor_real 6  Class  \n",
      "10      0             1      0  \n",
      "11      0             1      0  \n",
      "12      1             2      0  \n",
      "14      0             1      0  \n",
      "15      1             2      0  \n",
      "..    ...           ...    ...  \n",
      "98      1             2      0  \n",
      "100     1             2      0  \n",
      "103     1             2      0  \n",
      "105     0             1      0  \n",
      "106     0             1      0  \n",
      "\n",
      "[62 rows x 23 columns]\n",
      "     x1,1  x1,2  x1,3  valor_real 1  x2,1  x2,2  x2,3  valor_real 2  x3,1  \\\n",
      "0       1     0     0             1     1     0     0             1     1   \n",
      "1       1     0     0             1     1     0     0             1     1   \n",
      "2       1     0     0             1     1     0     0             1     1   \n",
      "3       1     0     0             1     1     0     0             1     1   \n",
      "4       1     0     0             1     1     0     0             1     0   \n",
      "..    ...   ...   ...           ...   ...   ...   ...           ...   ...   \n",
      "119     0     0     1             3     0     0     1             3     0   \n",
      "120     0     0     1             3     0     0     1             3     0   \n",
      "121     0     0     1             3     0     0     1             3     0   \n",
      "122     0     0     1             3     0     0     1             3     0   \n",
      "123     0     0     1             3     0     0     1             3     0   \n",
      "\n",
      "     x3,2  ...  x4,3  valor_real 4  x5,1  x5,2  x5,3  valor_real 5  x6,1  \\\n",
      "0       0  ...     0             1     1     0     0             3     1   \n",
      "1       0  ...     0             1     1     0     0             3     0   \n",
      "2       0  ...     0             3     0     0     1             2     1   \n",
      "3       0  ...     0             3     1     0     0             3     0   \n",
      "4       1  ...     0             1     0     0     1             2     1   \n",
      "..    ...  ...   ...           ...   ...   ...   ...           ...   ...   \n",
      "119     1  ...     0             1     0     1     0             4     0   \n",
      "120     1  ...     0             3     0     0     1             1     0   \n",
      "121     1  ...     0             3     0     0     1             2     0   \n",
      "122     1  ...     0             3     1     0     0             3     0   \n",
      "123     1  ...     0             3     0     1     0             4     0   \n",
      "\n",
      "     x6,2  valor_real 6  Class  \n",
      "0       0             1      1  \n",
      "1       1             2      1  \n",
      "2       0             1      1  \n",
      "3       1             2      1  \n",
      "4       0             1      1  \n",
      "..    ...           ...    ...  \n",
      "119     1             2      1  \n",
      "120     1             2      1  \n",
      "121     1             2      1  \n",
      "122     1             2      1  \n",
      "123     1             2      1  \n",
      "\n",
      "[62 rows x 23 columns]\n"
     ]
    }
   ],
   "source": [
    "dataset_binario_clase_0 = dataframe_binario[dataframe_binario[\"Class\"] == 0]\n",
    "dataset_binario_clase_1 = dataframe_binario[dataframe_binario[\"Class\"] == 1]\n",
    "\n",
    "print(dataset_binario_clase_0)\n",
    "print(dataset_binario_clase_1)"
   ]
  }
 ],
 "metadata": {
  "kernelspec": {
   "display_name": "aprendisaje-simbolico-automatico",
   "language": "python",
   "name": "python3"
  },
  "language_info": {
   "codemirror_mode": {
    "name": "ipython",
    "version": 3
   },
   "file_extension": ".py",
   "mimetype": "text/x-python",
   "name": "python",
   "nbconvert_exporter": "python",
   "pygments_lexer": "ipython3",
   "version": "3.10.12"
  }
 },
 "nbformat": 4,
 "nbformat_minor": 2
}
