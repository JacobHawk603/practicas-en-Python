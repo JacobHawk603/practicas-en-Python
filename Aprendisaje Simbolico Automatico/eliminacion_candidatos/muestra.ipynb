{
 "cells": [
  {
   "cell_type": "code",
   "execution_count": 1,
   "metadata": {},
   "outputs": [],
   "source": [
    "import pandas as pd\n"
   ]
  },
  {
   "cell_type": "code",
   "execution_count": 2,
   "metadata": {},
   "outputs": [
    {
     "name": "stdout",
     "output_type": "stream",
     "text": [
      "    #      País     Marca     Color  Década       Tipo Inspección\n",
      "0   1     Japón     Honda      Azul    1980  Económico         Si\n",
      "1   2     Japón    Toyota     Verde    1970  Deportivo         No\n",
      "2   3     Japón    Toyota      Azul    1990   Familiar         Si\n",
      "3   4     E.U.A  Chrysler      Rojo    1980  Económico         No\n",
      "4   5     E.U.A      Ford      Rojo    1990   Familiar         Si\n",
      "5   6  Alemania        VW      Gris    1980  Económico         No\n",
      "6   7  Alemania    Porshe  Amarillo    1990  Deportivo         No\n",
      "7   8     Japón    Toyota      Azul    1970  Económico         No\n",
      "8   9    Brasil      seat     Verde    1980  Deportivo         No\n",
      "9  10    Brasil      seat      Gris    1990  Económico         Si\n",
      "       País     Marca     Color  Década       Tipo\n",
      "0     Japón     Honda      Azul    1980  Económico\n",
      "1     Japón    Toyota     Verde    1970  Deportivo\n",
      "2     Japón    Toyota      Azul    1990   Familiar\n",
      "3     E.U.A  Chrysler      Rojo    1980  Económico\n",
      "4     E.U.A      Ford      Rojo    1990   Familiar\n",
      "5  Alemania        VW      Gris    1980  Económico\n",
      "6  Alemania    Porshe  Amarillo    1990  Deportivo\n",
      "7     Japón    Toyota      Azul    1970  Económico\n",
      "8    Brasil      seat     Verde    1980  Deportivo\n",
      "9    Brasil      seat      Gris    1990  Económico\n",
      "0    Si\n",
      "1    No\n",
      "2    Si\n",
      "3    No\n",
      "4    Si\n",
      "5    No\n",
      "6    No\n",
      "7    No\n",
      "8    No\n",
      "9    Si\n",
      "Name: Inspección, dtype: object\n"
     ]
    }
   ],
   "source": [
    "#importamos el dataset\n",
    "dataset = pd.read_excel(\"./vehiculos.ods\")\n",
    "\n",
    "#seleccionamos la condición de ejemplo positivo\n",
    "target = dataset['Inspección']\n",
    "corpus = dataset.drop(['Inspección'], axis=1).drop(['#'], axis=1)\n",
    "\n",
    "print(dataset)\n",
    "print(corpus)\n",
    "print(target)"
   ]
  },
  {
   "cell_type": "code",
   "execution_count": 3,
   "metadata": {},
   "outputs": [
    {
     "name": "stdout",
     "output_type": "stream",
     "text": [
      "Index(['País', 'Marca', 'Color', 'Década', 'Tipo'], dtype='object')\n",
      "<*,*,*,*,*>\n",
      "<0,0,0,0,0>\n"
     ]
    }
   ],
   "source": [
    "#generamos las hipotesis general y especifica\n",
    "\n",
    "from hipotesis import General, Especifica\n",
    "\n",
    "hipotesis_general = General(corpus.columns.tolist())\n",
    "hipotesis_especifica = Especifica(corpus.columns.tolist())\n",
    "\n",
    "print(corpus.columns)\n",
    "\n",
    "print(hipotesis_general)\n",
    "print(hipotesis_especifica)"
   ]
  },
  {
   "cell_type": "code",
   "execution_count": 4,
   "metadata": {},
   "outputs": [
    {
     "name": "stdout",
     "output_type": "stream",
     "text": [
      "es esta impresion:  ['País', 'Marca', 'Color', 'Década', 'Tipo']\n",
      "es esta impresion:  [[], [], [], [], []]\n",
      "['Japón' 'Honda' 'Azul' 1980 'Económico'] Si\n",
      "País Japón\n",
      "Marca Honda\n",
      "Color Azul\n",
      "Década 1980\n",
      "Tipo Económico\n",
      "<['Japón'], ['Honda'], ['Azul'], [1980], ['Económico']>\n",
      "[['Japón'], ['Honda'], ['Azul'], [1980], ['Económico']]\n"
     ]
    }
   ],
   "source": [
    "#comenzamos a recorrer el dataset para ir moldeando nuestras hipotesis\n",
    "\n",
    "print(\"es esta impresion: \",hipotesis_especifica.etiquetas)\n",
    "print(\"es esta impresion: \",hipotesis_especifica.aceptados)\n",
    "\n",
    "for row, y in zip(corpus.values, target):\n",
    "    print(row, y)\n",
    "\n",
    "    if y == \"Si\":\n",
    "        #se trata de un ejemplo positivo, hay que generalizar nuestras hipotesis\n",
    "        \n",
    "        #primero comparamos cada elemento de nuestra hipotesis especifica\n",
    "\n",
    "        for aceptados_atributo, valor_observado, etiqueta in zip(hipotesis_especifica.aceptados, row, corpus.columns):\n",
    "\n",
    "            print(etiqueta, valor_observado)\n",
    "\n",
    "            if not aceptados_atributo.__contains__(valor_observado):\n",
    "                #aqui es donde hay que generalizar\n",
    "\n",
    "                hipotesis_especifica.generalizar(etiqueta, valor_observado)\n",
    "\n",
    "        print(hipotesis_especifica)\n",
    "        print(hipotesis_especifica.aceptados)\n",
    "\n",
    "        break\n",
    "\n",
    "    else:\n",
    "\n",
    "        #se trata de un ejemplo negatigo, hay que especificar la hipotesis\n",
    "\n",
    "        print(\"hola\")\n"
   ]
  }
 ],
 "metadata": {
  "kernelspec": {
   "display_name": "aprendisaje-simbolico-automatico",
   "language": "python",
   "name": "python3"
  },
  "language_info": {
   "codemirror_mode": {
    "name": "ipython",
    "version": 3
   },
   "file_extension": ".py",
   "mimetype": "text/x-python",
   "name": "python",
   "nbconvert_exporter": "python",
   "pygments_lexer": "ipython3",
   "version": "3.10.12"
  }
 },
 "nbformat": 4,
 "nbformat_minor": 2
}
